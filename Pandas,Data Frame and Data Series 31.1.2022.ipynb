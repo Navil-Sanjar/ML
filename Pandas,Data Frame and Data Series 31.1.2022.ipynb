{
 "cells": [
  {
   "cell_type": "markdown",
   "id": "bceeca41",
   "metadata": {},
   "source": [
    "# Pandas "
   ]
  },
  {
   "cell_type": "code",
   "execution_count": 1,
   "id": "c5a5c319",
   "metadata": {},
   "outputs": [],
   "source": [
    "import numpy as np #importing numpy \n",
    "import pandas as pd #importing pandas"
   ]
  },
  {
   "cell_type": "code",
   "execution_count": 2,
   "id": "2ceb6873",
   "metadata": {},
   "outputs": [],
   "source": [
    "s=pd.DataFrame(np.arange(0,16).reshape(4,4),index=['a','b','c','d'],columns=['s1','s2','s3','s4'])"
   ]
  },
  {
   "cell_type": "code",
   "execution_count": 3,
   "id": "fb94e9da",
   "metadata": {},
   "outputs": [
    {
     "data": {
      "text/html": [
       "<div>\n",
       "<style scoped>\n",
       "    .dataframe tbody tr th:only-of-type {\n",
       "        vertical-align: middle;\n",
       "    }\n",
       "\n",
       "    .dataframe tbody tr th {\n",
       "        vertical-align: top;\n",
       "    }\n",
       "\n",
       "    .dataframe thead th {\n",
       "        text-align: right;\n",
       "    }\n",
       "</style>\n",
       "<table border=\"1\" class=\"dataframe\">\n",
       "  <thead>\n",
       "    <tr style=\"text-align: right;\">\n",
       "      <th></th>\n",
       "      <th>s1</th>\n",
       "      <th>s2</th>\n",
       "      <th>s3</th>\n",
       "      <th>s4</th>\n",
       "    </tr>\n",
       "  </thead>\n",
       "  <tbody>\n",
       "    <tr>\n",
       "      <th>a</th>\n",
       "      <td>0</td>\n",
       "      <td>1</td>\n",
       "      <td>2</td>\n",
       "      <td>3</td>\n",
       "    </tr>\n",
       "    <tr>\n",
       "      <th>b</th>\n",
       "      <td>4</td>\n",
       "      <td>5</td>\n",
       "      <td>6</td>\n",
       "      <td>7</td>\n",
       "    </tr>\n",
       "    <tr>\n",
       "      <th>c</th>\n",
       "      <td>8</td>\n",
       "      <td>9</td>\n",
       "      <td>10</td>\n",
       "      <td>11</td>\n",
       "    </tr>\n",
       "    <tr>\n",
       "      <th>d</th>\n",
       "      <td>12</td>\n",
       "      <td>13</td>\n",
       "      <td>14</td>\n",
       "      <td>15</td>\n",
       "    </tr>\n",
       "  </tbody>\n",
       "</table>\n",
       "</div>"
      ],
      "text/plain": [
       "   s1  s2  s3  s4\n",
       "a   0   1   2   3\n",
       "b   4   5   6   7\n",
       "c   8   9  10  11\n",
       "d  12  13  14  15"
      ]
     },
     "execution_count": 3,
     "metadata": {},
     "output_type": "execute_result"
    }
   ],
   "source": [
    "s.head()"
   ]
  },
  {
   "cell_type": "code",
   "execution_count": 4,
   "id": "915b159e",
   "metadata": {},
   "outputs": [],
   "source": [
    "s.to_csv('Test1.csv')"
   ]
  },
  {
   "cell_type": "code",
   "execution_count": 5,
   "id": "2ae30331",
   "metadata": {},
   "outputs": [
    {
     "data": {
      "text/plain": [
       "pandas.core.series.Series"
      ]
     },
     "execution_count": 5,
     "metadata": {},
     "output_type": "execute_result"
    }
   ],
   "source": [
    "#accessing the elements\n",
    "#locating\n",
    "s.loc['d']\n",
    "s\n",
    "type(s.loc['d'])\n"
   ]
  },
  {
   "cell_type": "code",
   "execution_count": 6,
   "id": "f0523b5e",
   "metadata": {},
   "outputs": [
    {
     "data": {
      "text/plain": [
       "s1    12\n",
       "s2    13\n",
       "s3    14\n",
       "s4    15\n",
       "Name: d, dtype: int32"
      ]
     },
     "execution_count": 6,
     "metadata": {},
     "output_type": "execute_result"
    }
   ],
   "source": [
    "s.loc['d']"
   ]
  },
  {
   "cell_type": "code",
   "execution_count": 7,
   "id": "5db28bf5",
   "metadata": {},
   "outputs": [
    {
     "data": {
      "text/html": [
       "<div>\n",
       "<style scoped>\n",
       "    .dataframe tbody tr th:only-of-type {\n",
       "        vertical-align: middle;\n",
       "    }\n",
       "\n",
       "    .dataframe tbody tr th {\n",
       "        vertical-align: top;\n",
       "    }\n",
       "\n",
       "    .dataframe thead th {\n",
       "        text-align: right;\n",
       "    }\n",
       "</style>\n",
       "<table border=\"1\" class=\"dataframe\">\n",
       "  <thead>\n",
       "    <tr style=\"text-align: right;\">\n",
       "      <th></th>\n",
       "      <th>s2</th>\n",
       "      <th>s3</th>\n",
       "    </tr>\n",
       "  </thead>\n",
       "  <tbody>\n",
       "    <tr>\n",
       "      <th>b</th>\n",
       "      <td>5</td>\n",
       "      <td>6</td>\n",
       "    </tr>\n",
       "    <tr>\n",
       "      <th>c</th>\n",
       "      <td>9</td>\n",
       "      <td>10</td>\n",
       "    </tr>\n",
       "  </tbody>\n",
       "</table>\n",
       "</div>"
      ],
      "text/plain": [
       "   s2  s3\n",
       "b   5   6\n",
       "c   9  10"
      ]
     },
     "execution_count": 7,
     "metadata": {},
     "output_type": "execute_result"
    }
   ],
   "source": [
    "s.iloc[1:3,1:3]"
   ]
  },
  {
   "cell_type": "code",
   "execution_count": 8,
   "id": "d95725d8",
   "metadata": {},
   "outputs": [
    {
     "data": {
      "text/plain": [
       "pandas.core.frame.DataFrame"
      ]
     },
     "execution_count": 8,
     "metadata": {},
     "output_type": "execute_result"
    }
   ],
   "source": [
    "type(s.iloc[1:3,1:3])"
   ]
  },
  {
   "cell_type": "code",
   "execution_count": 9,
   "id": "bcb72cc7",
   "metadata": {},
   "outputs": [
    {
     "data": {
      "text/plain": [
       "pandas.core.series.Series"
      ]
     },
     "execution_count": 9,
     "metadata": {},
     "output_type": "execute_result"
    }
   ],
   "source": [
    "type(s.iloc[1:3,0]) #this is not a Dataframe "
   ]
  },
  {
   "cell_type": "code",
   "execution_count": 10,
   "id": "4e1c2f89",
   "metadata": {},
   "outputs": [
    {
     "data": {
      "text/plain": [
       "array([[ 0,  1,  2,  3],\n",
       "       [ 4,  5,  6,  7],\n",
       "       [ 8,  9, 10, 11],\n",
       "       [12, 13, 14, 15]])"
      ]
     },
     "execution_count": 10,
     "metadata": {},
     "output_type": "execute_result"
    }
   ],
   "source": [
    "#convert Dataframe into arrays\n",
    "s.iloc[:,:].values"
   ]
  },
  {
   "cell_type": "code",
   "execution_count": 11,
   "id": "d67269d6",
   "metadata": {},
   "outputs": [
    {
     "data": {
      "text/plain": [
       "s1    0\n",
       "s2    0\n",
       "s3    0\n",
       "s4    0\n",
       "dtype: int64"
      ]
     },
     "execution_count": 11,
     "metadata": {},
     "output_type": "execute_result"
    }
   ],
   "source": [
    "s.isnull().sum()"
   ]
  },
  {
   "cell_type": "code",
   "execution_count": 12,
   "id": "fadda940",
   "metadata": {},
   "outputs": [
    {
     "data": {
      "text/html": [
       "<div>\n",
       "<style scoped>\n",
       "    .dataframe tbody tr th:only-of-type {\n",
       "        vertical-align: middle;\n",
       "    }\n",
       "\n",
       "    .dataframe tbody tr th {\n",
       "        vertical-align: top;\n",
       "    }\n",
       "\n",
       "    .dataframe thead th {\n",
       "        text-align: right;\n",
       "    }\n",
       "</style>\n",
       "<table border=\"1\" class=\"dataframe\">\n",
       "  <thead>\n",
       "    <tr style=\"text-align: right;\">\n",
       "      <th></th>\n",
       "      <th>s1</th>\n",
       "      <th>s2</th>\n",
       "      <th>s3</th>\n",
       "      <th>s4</th>\n",
       "    </tr>\n",
       "  </thead>\n",
       "  <tbody>\n",
       "    <tr>\n",
       "      <th>a</th>\n",
       "      <td>0</td>\n",
       "      <td>1</td>\n",
       "      <td>2</td>\n",
       "      <td>3</td>\n",
       "    </tr>\n",
       "    <tr>\n",
       "      <th>b</th>\n",
       "      <td>4</td>\n",
       "      <td>5</td>\n",
       "      <td>6</td>\n",
       "      <td>7</td>\n",
       "    </tr>\n",
       "    <tr>\n",
       "      <th>c</th>\n",
       "      <td>8</td>\n",
       "      <td>9</td>\n",
       "      <td>10</td>\n",
       "      <td>11</td>\n",
       "    </tr>\n",
       "    <tr>\n",
       "      <th>d</th>\n",
       "      <td>12</td>\n",
       "      <td>13</td>\n",
       "      <td>14</td>\n",
       "      <td>15</td>\n",
       "    </tr>\n",
       "  </tbody>\n",
       "</table>\n",
       "</div>"
      ],
      "text/plain": [
       "   s1  s2  s3  s4\n",
       "a   0   1   2   3\n",
       "b   4   5   6   7\n",
       "c   8   9  10  11\n",
       "d  12  13  14  15"
      ]
     },
     "execution_count": 12,
     "metadata": {},
     "output_type": "execute_result"
    }
   ],
   "source": [
    "s"
   ]
  },
  {
   "cell_type": "code",
   "execution_count": 13,
   "id": "40396cd9",
   "metadata": {},
   "outputs": [
    {
     "data": {
      "text/plain": [
       "0     1\n",
       "8     1\n",
       "4     1\n",
       "12    1\n",
       "Name: s1, dtype: int64"
      ]
     },
     "execution_count": 13,
     "metadata": {},
     "output_type": "execute_result"
    }
   ],
   "source": [
    "s['s1'].value_counts()"
   ]
  },
  {
   "cell_type": "code",
   "execution_count": 14,
   "id": "ae134d26",
   "metadata": {},
   "outputs": [
    {
     "data": {
      "text/plain": [
       "array([ 0,  4,  8, 12])"
      ]
     },
     "execution_count": 14,
     "metadata": {},
     "output_type": "execute_result"
    }
   ],
   "source": [
    "s['s1'].unique()"
   ]
  },
  {
   "cell_type": "code",
   "execution_count": 15,
   "id": "02a35496",
   "metadata": {},
   "outputs": [
    {
     "data": {
      "text/plain": [
       "a     0\n",
       "b     4\n",
       "c     8\n",
       "d    12\n",
       "Name: s1, dtype: int32"
      ]
     },
     "execution_count": 15,
     "metadata": {},
     "output_type": "execute_result"
    }
   ],
   "source": [
    "s['s1']"
   ]
  },
  {
   "cell_type": "code",
   "execution_count": 16,
   "id": "5a4cfccf",
   "metadata": {},
   "outputs": [
    {
     "data": {
      "text/html": [
       "<div>\n",
       "<style scoped>\n",
       "    .dataframe tbody tr th:only-of-type {\n",
       "        vertical-align: middle;\n",
       "    }\n",
       "\n",
       "    .dataframe tbody tr th {\n",
       "        vertical-align: top;\n",
       "    }\n",
       "\n",
       "    .dataframe thead th {\n",
       "        text-align: right;\n",
       "    }\n",
       "</style>\n",
       "<table border=\"1\" class=\"dataframe\">\n",
       "  <thead>\n",
       "    <tr style=\"text-align: right;\">\n",
       "      <th></th>\n",
       "      <th>s1</th>\n",
       "      <th>s2</th>\n",
       "      <th>s3</th>\n",
       "      <th>s4</th>\n",
       "    </tr>\n",
       "  </thead>\n",
       "  <tbody>\n",
       "    <tr>\n",
       "      <th>a</th>\n",
       "      <td>0</td>\n",
       "      <td>1</td>\n",
       "      <td>2</td>\n",
       "      <td>3</td>\n",
       "    </tr>\n",
       "    <tr>\n",
       "      <th>b</th>\n",
       "      <td>4</td>\n",
       "      <td>5</td>\n",
       "      <td>6</td>\n",
       "      <td>7</td>\n",
       "    </tr>\n",
       "    <tr>\n",
       "      <th>c</th>\n",
       "      <td>8</td>\n",
       "      <td>9</td>\n",
       "      <td>10</td>\n",
       "      <td>11</td>\n",
       "    </tr>\n",
       "    <tr>\n",
       "      <th>d</th>\n",
       "      <td>12</td>\n",
       "      <td>13</td>\n",
       "      <td>14</td>\n",
       "      <td>15</td>\n",
       "    </tr>\n",
       "  </tbody>\n",
       "</table>\n",
       "</div>"
      ],
      "text/plain": [
       "   s1  s2  s3  s4\n",
       "a   0   1   2   3\n",
       "b   4   5   6   7\n",
       "c   8   9  10  11\n",
       "d  12  13  14  15"
      ]
     },
     "execution_count": 16,
     "metadata": {},
     "output_type": "execute_result"
    }
   ],
   "source": [
    "#Reading a csv file\n",
    "s"
   ]
  },
  {
   "cell_type": "code",
   "execution_count": 17,
   "id": "7f3df3be",
   "metadata": {},
   "outputs": [],
   "source": [
    "s=pd.read_csv('Import_User_Sample_en.csv')"
   ]
  },
  {
   "cell_type": "code",
   "execution_count": 18,
   "id": "5e770e88",
   "metadata": {},
   "outputs": [
    {
     "data": {
      "text/html": [
       "<div>\n",
       "<style scoped>\n",
       "    .dataframe tbody tr th:only-of-type {\n",
       "        vertical-align: middle;\n",
       "    }\n",
       "\n",
       "    .dataframe tbody tr th {\n",
       "        vertical-align: top;\n",
       "    }\n",
       "\n",
       "    .dataframe thead th {\n",
       "        text-align: right;\n",
       "    }\n",
       "</style>\n",
       "<table border=\"1\" class=\"dataframe\">\n",
       "  <thead>\n",
       "    <tr style=\"text-align: right;\">\n",
       "      <th></th>\n",
       "      <th>User Name</th>\n",
       "      <th>First Name</th>\n",
       "      <th>Last Name</th>\n",
       "      <th>Display Name</th>\n",
       "      <th>Job Title</th>\n",
       "      <th>Department</th>\n",
       "      <th>Office Number</th>\n",
       "      <th>Office Phone</th>\n",
       "      <th>Mobile Phone</th>\n",
       "      <th>Fax</th>\n",
       "      <th>Address</th>\n",
       "      <th>City</th>\n",
       "      <th>State or Province</th>\n",
       "      <th>ZIP or Postal Code</th>\n",
       "      <th>Country or Region</th>\n",
       "    </tr>\n",
       "  </thead>\n",
       "  <tbody>\n",
       "    <tr>\n",
       "      <th>0</th>\n",
       "      <td>chris@contoso.com</td>\n",
       "      <td>Chris</td>\n",
       "      <td>Green</td>\n",
       "      <td>Chris Green</td>\n",
       "      <td>IT Manager</td>\n",
       "      <td>Information Technology</td>\n",
       "      <td>123451</td>\n",
       "      <td>123-555-1211</td>\n",
       "      <td>123-555-6641</td>\n",
       "      <td>123-555-9821</td>\n",
       "      <td>1 Microsoft way</td>\n",
       "      <td>Redmond</td>\n",
       "      <td>Wa</td>\n",
       "      <td>98052</td>\n",
       "      <td>United States</td>\n",
       "    </tr>\n",
       "    <tr>\n",
       "      <th>1</th>\n",
       "      <td>ben@contoso.com</td>\n",
       "      <td>Ben</td>\n",
       "      <td>Andrews</td>\n",
       "      <td>Ben Andrews</td>\n",
       "      <td>IT Manager</td>\n",
       "      <td>Information Technology</td>\n",
       "      <td>123452</td>\n",
       "      <td>123-555-1212</td>\n",
       "      <td>123-555-6642</td>\n",
       "      <td>123-555-9822</td>\n",
       "      <td>1 Microsoft way</td>\n",
       "      <td>Redmond</td>\n",
       "      <td>Wa</td>\n",
       "      <td>98052</td>\n",
       "      <td>United States</td>\n",
       "    </tr>\n",
       "    <tr>\n",
       "      <th>2</th>\n",
       "      <td>david@contoso.com</td>\n",
       "      <td>David</td>\n",
       "      <td>Longmuir</td>\n",
       "      <td>David Longmuir</td>\n",
       "      <td>IT Manager</td>\n",
       "      <td>Information Technology</td>\n",
       "      <td>123453</td>\n",
       "      <td>123-555-1213</td>\n",
       "      <td>123-555-6643</td>\n",
       "      <td>123-555-9823</td>\n",
       "      <td>1 Microsoft way</td>\n",
       "      <td>Redmond</td>\n",
       "      <td>Wa</td>\n",
       "      <td>98052</td>\n",
       "      <td>United States</td>\n",
       "    </tr>\n",
       "    <tr>\n",
       "      <th>3</th>\n",
       "      <td>cynthia@contoso.com</td>\n",
       "      <td>Cynthia</td>\n",
       "      <td>Carey</td>\n",
       "      <td>Cynthia Carey</td>\n",
       "      <td>IT Manager</td>\n",
       "      <td>Information Technology</td>\n",
       "      <td>123454</td>\n",
       "      <td>123-555-1214</td>\n",
       "      <td>123-555-6644</td>\n",
       "      <td>123-555-9824</td>\n",
       "      <td>1 Microsoft way</td>\n",
       "      <td>Redmond</td>\n",
       "      <td>Wa</td>\n",
       "      <td>98052</td>\n",
       "      <td>United States</td>\n",
       "    </tr>\n",
       "    <tr>\n",
       "      <th>4</th>\n",
       "      <td>melissa@contoso.com</td>\n",
       "      <td>Melissa</td>\n",
       "      <td>MacBeth</td>\n",
       "      <td>Melissa MacBeth</td>\n",
       "      <td>IT Manager</td>\n",
       "      <td>Information Technology</td>\n",
       "      <td>123455</td>\n",
       "      <td>123-555-1215</td>\n",
       "      <td>123-555-6645</td>\n",
       "      <td>123-555-9825</td>\n",
       "      <td>1 Microsoft way</td>\n",
       "      <td>Redmond</td>\n",
       "      <td>Wa</td>\n",
       "      <td>98052</td>\n",
       "      <td>United States</td>\n",
       "    </tr>\n",
       "  </tbody>\n",
       "</table>\n",
       "</div>"
      ],
      "text/plain": [
       "             User Name First Name Last Name     Display Name   Job Title  \\\n",
       "0    chris@contoso.com      Chris     Green      Chris Green  IT Manager   \n",
       "1      ben@contoso.com        Ben   Andrews      Ben Andrews  IT Manager   \n",
       "2    david@contoso.com      David  Longmuir   David Longmuir  IT Manager   \n",
       "3  cynthia@contoso.com    Cynthia     Carey    Cynthia Carey  IT Manager   \n",
       "4  melissa@contoso.com    Melissa   MacBeth  Melissa MacBeth  IT Manager   \n",
       "\n",
       "               Department  Office Number  Office Phone  Mobile Phone  \\\n",
       "0  Information Technology         123451  123-555-1211  123-555-6641   \n",
       "1  Information Technology         123452  123-555-1212  123-555-6642   \n",
       "2  Information Technology         123453  123-555-1213  123-555-6643   \n",
       "3  Information Technology         123454  123-555-1214  123-555-6644   \n",
       "4  Information Technology         123455  123-555-1215  123-555-6645   \n",
       "\n",
       "            Fax          Address     City State or Province  \\\n",
       "0  123-555-9821  1 Microsoft way  Redmond                Wa   \n",
       "1  123-555-9822  1 Microsoft way  Redmond                Wa   \n",
       "2  123-555-9823  1 Microsoft way  Redmond                Wa   \n",
       "3  123-555-9824  1 Microsoft way  Redmond                Wa   \n",
       "4  123-555-9825  1 Microsoft way  Redmond                Wa   \n",
       "\n",
       "   ZIP or Postal Code Country or Region  \n",
       "0               98052     United States  \n",
       "1               98052     United States  \n",
       "2               98052     United States  \n",
       "3               98052     United States  \n",
       "4               98052     United States  "
      ]
     },
     "execution_count": 18,
     "metadata": {},
     "output_type": "execute_result"
    }
   ],
   "source": [
    "s.head()"
   ]
  },
  {
   "cell_type": "code",
   "execution_count": 19,
   "id": "dd1002f3",
   "metadata": {},
   "outputs": [
    {
     "name": "stdout",
     "output_type": "stream",
     "text": [
      "<class 'pandas.core.frame.DataFrame'>\n",
      "RangeIndex: 5 entries, 0 to 4\n",
      "Data columns (total 15 columns):\n",
      " #   Column              Non-Null Count  Dtype \n",
      "---  ------              --------------  ----- \n",
      " 0   User Name           5 non-null      object\n",
      " 1   First Name          5 non-null      object\n",
      " 2   Last Name           5 non-null      object\n",
      " 3   Display Name        5 non-null      object\n",
      " 4   Job Title           5 non-null      object\n",
      " 5   Department          5 non-null      object\n",
      " 6   Office Number       5 non-null      int64 \n",
      " 7   Office Phone        5 non-null      object\n",
      " 8   Mobile Phone        5 non-null      object\n",
      " 9   Fax                 5 non-null      object\n",
      " 10  Address             5 non-null      object\n",
      " 11  City                5 non-null      object\n",
      " 12  State or Province   5 non-null      object\n",
      " 13  ZIP or Postal Code  5 non-null      int64 \n",
      " 14  Country or Region   5 non-null      object\n",
      "dtypes: int64(2), object(13)\n",
      "memory usage: 728.0+ bytes\n"
     ]
    }
   ],
   "source": [
    "s.info()"
   ]
  },
  {
   "cell_type": "code",
   "execution_count": 20,
   "id": "31973955",
   "metadata": {},
   "outputs": [
    {
     "data": {
      "text/html": [
       "<div>\n",
       "<style scoped>\n",
       "    .dataframe tbody tr th:only-of-type {\n",
       "        vertical-align: middle;\n",
       "    }\n",
       "\n",
       "    .dataframe tbody tr th {\n",
       "        vertical-align: top;\n",
       "    }\n",
       "\n",
       "    .dataframe thead th {\n",
       "        text-align: right;\n",
       "    }\n",
       "</style>\n",
       "<table border=\"1\" class=\"dataframe\">\n",
       "  <thead>\n",
       "    <tr style=\"text-align: right;\">\n",
       "      <th></th>\n",
       "      <th>Office Number</th>\n",
       "      <th>ZIP or Postal Code</th>\n",
       "    </tr>\n",
       "  </thead>\n",
       "  <tbody>\n",
       "    <tr>\n",
       "      <th>count</th>\n",
       "      <td>5.000000</td>\n",
       "      <td>5.0</td>\n",
       "    </tr>\n",
       "    <tr>\n",
       "      <th>mean</th>\n",
       "      <td>123453.000000</td>\n",
       "      <td>98052.0</td>\n",
       "    </tr>\n",
       "    <tr>\n",
       "      <th>std</th>\n",
       "      <td>1.581139</td>\n",
       "      <td>0.0</td>\n",
       "    </tr>\n",
       "    <tr>\n",
       "      <th>min</th>\n",
       "      <td>123451.000000</td>\n",
       "      <td>98052.0</td>\n",
       "    </tr>\n",
       "    <tr>\n",
       "      <th>25%</th>\n",
       "      <td>123452.000000</td>\n",
       "      <td>98052.0</td>\n",
       "    </tr>\n",
       "    <tr>\n",
       "      <th>50%</th>\n",
       "      <td>123453.000000</td>\n",
       "      <td>98052.0</td>\n",
       "    </tr>\n",
       "    <tr>\n",
       "      <th>75%</th>\n",
       "      <td>123454.000000</td>\n",
       "      <td>98052.0</td>\n",
       "    </tr>\n",
       "    <tr>\n",
       "      <th>max</th>\n",
       "      <td>123455.000000</td>\n",
       "      <td>98052.0</td>\n",
       "    </tr>\n",
       "  </tbody>\n",
       "</table>\n",
       "</div>"
      ],
      "text/plain": [
       "       Office Number  ZIP or Postal Code\n",
       "count       5.000000                 5.0\n",
       "mean   123453.000000             98052.0\n",
       "std         1.581139                 0.0\n",
       "min    123451.000000             98052.0\n",
       "25%    123452.000000             98052.0\n",
       "50%    123453.000000             98052.0\n",
       "75%    123454.000000             98052.0\n",
       "max    123455.000000             98052.0"
      ]
     },
     "execution_count": 20,
     "metadata": {},
     "output_type": "execute_result"
    }
   ],
   "source": [
    "s.describe()"
   ]
  },
  {
   "cell_type": "code",
   "execution_count": 21,
   "id": "d7ae642b",
   "metadata": {},
   "outputs": [],
   "source": [
    "test_df=pd.read_csv('Test1.csv')"
   ]
  },
  {
   "cell_type": "code",
   "execution_count": 22,
   "id": "6bba3147",
   "metadata": {},
   "outputs": [
    {
     "data": {
      "text/html": [
       "<div>\n",
       "<style scoped>\n",
       "    .dataframe tbody tr th:only-of-type {\n",
       "        vertical-align: middle;\n",
       "    }\n",
       "\n",
       "    .dataframe tbody tr th {\n",
       "        vertical-align: top;\n",
       "    }\n",
       "\n",
       "    .dataframe thead th {\n",
       "        text-align: right;\n",
       "    }\n",
       "</style>\n",
       "<table border=\"1\" class=\"dataframe\">\n",
       "  <thead>\n",
       "    <tr style=\"text-align: right;\">\n",
       "      <th></th>\n",
       "      <th>Unnamed: 0</th>\n",
       "      <th>s1</th>\n",
       "      <th>s2</th>\n",
       "      <th>s3</th>\n",
       "      <th>s4</th>\n",
       "    </tr>\n",
       "  </thead>\n",
       "  <tbody>\n",
       "    <tr>\n",
       "      <th>0</th>\n",
       "      <td>a</td>\n",
       "      <td>0</td>\n",
       "      <td>1</td>\n",
       "      <td>2</td>\n",
       "      <td>3</td>\n",
       "    </tr>\n",
       "    <tr>\n",
       "      <th>1</th>\n",
       "      <td>b</td>\n",
       "      <td>4</td>\n",
       "      <td>5</td>\n",
       "      <td>6</td>\n",
       "      <td>7</td>\n",
       "    </tr>\n",
       "    <tr>\n",
       "      <th>2</th>\n",
       "      <td>c</td>\n",
       "      <td>8</td>\n",
       "      <td>9</td>\n",
       "      <td>10</td>\n",
       "      <td>11</td>\n",
       "    </tr>\n",
       "    <tr>\n",
       "      <th>3</th>\n",
       "      <td>d</td>\n",
       "      <td>12</td>\n",
       "      <td>13</td>\n",
       "      <td>14</td>\n",
       "      <td>15</td>\n",
       "    </tr>\n",
       "  </tbody>\n",
       "</table>\n",
       "</div>"
      ],
      "text/plain": [
       "  Unnamed: 0  s1  s2  s3  s4\n",
       "0          a   0   1   2   3\n",
       "1          b   4   5   6   7\n",
       "2          c   8   9  10  11\n",
       "3          d  12  13  14  15"
      ]
     },
     "execution_count": 22,
     "metadata": {},
     "output_type": "execute_result"
    }
   ],
   "source": [
    "test_df.head()"
   ]
  },
  {
   "cell_type": "code",
   "execution_count": 23,
   "id": "23f45e4f",
   "metadata": {},
   "outputs": [
    {
     "data": {
      "text/plain": [
       "0     1\n",
       "8     1\n",
       "4     1\n",
       "12    1\n",
       "Name: s1, dtype: int64"
      ]
     },
     "execution_count": 23,
     "metadata": {},
     "output_type": "execute_result"
    }
   ],
   "source": [
    " test_df['s1'].value_counts()"
   ]
  },
  {
   "cell_type": "code",
   "execution_count": 24,
   "id": "c2d310c2",
   "metadata": {},
   "outputs": [],
   "source": [
    "from io import StringIO,BytesIO"
   ]
  },
  {
   "cell_type": "code",
   "execution_count": 25,
   "id": "f0737575",
   "metadata": {},
   "outputs": [],
   "source": [
    "data=('col1,col2,col3\\n'\n",
    "         'a,b,c\\n'\n",
    "         'd,e,f\\n'\n",
    "         'g,h,i')"
   ]
  },
  {
   "cell_type": "code",
   "execution_count": 26,
   "id": "11f000e5",
   "metadata": {},
   "outputs": [
    {
     "data": {
      "text/plain": [
       "str"
      ]
     },
     "execution_count": 26,
     "metadata": {},
     "output_type": "execute_result"
    }
   ],
   "source": [
    "type(data)"
   ]
  },
  {
   "cell_type": "code",
   "execution_count": 27,
   "id": "3407f171",
   "metadata": {},
   "outputs": [
    {
     "data": {
      "text/plain": [
       "<_io.StringIO at 0x20be8d6a1f0>"
      ]
     },
     "execution_count": 27,
     "metadata": {},
     "output_type": "execute_result"
    }
   ],
   "source": [
    "StringIO()"
   ]
  },
  {
   "cell_type": "code",
   "execution_count": 28,
   "id": "c42f1b9b",
   "metadata": {},
   "outputs": [
    {
     "data": {
      "text/html": [
       "<div>\n",
       "<style scoped>\n",
       "    .dataframe tbody tr th:only-of-type {\n",
       "        vertical-align: middle;\n",
       "    }\n",
       "\n",
       "    .dataframe tbody tr th {\n",
       "        vertical-align: top;\n",
       "    }\n",
       "\n",
       "    .dataframe thead th {\n",
       "        text-align: right;\n",
       "    }\n",
       "</style>\n",
       "<table border=\"1\" class=\"dataframe\">\n",
       "  <thead>\n",
       "    <tr style=\"text-align: right;\">\n",
       "      <th></th>\n",
       "      <th>col1</th>\n",
       "      <th>col2</th>\n",
       "      <th>col3</th>\n",
       "    </tr>\n",
       "  </thead>\n",
       "  <tbody>\n",
       "    <tr>\n",
       "      <th>0</th>\n",
       "      <td>a</td>\n",
       "      <td>b</td>\n",
       "      <td>c</td>\n",
       "    </tr>\n",
       "    <tr>\n",
       "      <th>1</th>\n",
       "      <td>d</td>\n",
       "      <td>e</td>\n",
       "      <td>f</td>\n",
       "    </tr>\n",
       "    <tr>\n",
       "      <th>2</th>\n",
       "      <td>g</td>\n",
       "      <td>h</td>\n",
       "      <td>i</td>\n",
       "    </tr>\n",
       "  </tbody>\n",
       "</table>\n",
       "</div>"
      ],
      "text/plain": [
       "  col1 col2 col3\n",
       "0    a    b    c\n",
       "1    d    e    f\n",
       "2    g    h    i"
      ]
     },
     "execution_count": 28,
     "metadata": {},
     "output_type": "execute_result"
    }
   ],
   "source": [
    "pd.read_csv(StringIO(data))"
   ]
  },
  {
   "cell_type": "code",
   "execution_count": 29,
   "id": "5e64d51b",
   "metadata": {},
   "outputs": [],
   "source": [
    "d=pd.read_csv(StringIO(data),usecols=['col1','col2'] )"
   ]
  },
  {
   "cell_type": "code",
   "execution_count": 30,
   "id": "33e2de4e",
   "metadata": {},
   "outputs": [
    {
     "data": {
      "text/html": [
       "<div>\n",
       "<style scoped>\n",
       "    .dataframe tbody tr th:only-of-type {\n",
       "        vertical-align: middle;\n",
       "    }\n",
       "\n",
       "    .dataframe tbody tr th {\n",
       "        vertical-align: top;\n",
       "    }\n",
       "\n",
       "    .dataframe thead th {\n",
       "        text-align: right;\n",
       "    }\n",
       "</style>\n",
       "<table border=\"1\" class=\"dataframe\">\n",
       "  <thead>\n",
       "    <tr style=\"text-align: right;\">\n",
       "      <th></th>\n",
       "      <th>col1</th>\n",
       "      <th>col2</th>\n",
       "    </tr>\n",
       "  </thead>\n",
       "  <tbody>\n",
       "    <tr>\n",
       "      <th>0</th>\n",
       "      <td>a</td>\n",
       "      <td>b</td>\n",
       "    </tr>\n",
       "    <tr>\n",
       "      <th>1</th>\n",
       "      <td>d</td>\n",
       "      <td>e</td>\n",
       "    </tr>\n",
       "    <tr>\n",
       "      <th>2</th>\n",
       "      <td>g</td>\n",
       "      <td>h</td>\n",
       "    </tr>\n",
       "  </tbody>\n",
       "</table>\n",
       "</div>"
      ],
      "text/plain": [
       "  col1 col2\n",
       "0    a    b\n",
       "1    d    e\n",
       "2    g    h"
      ]
     },
     "execution_count": 30,
     "metadata": {},
     "output_type": "execute_result"
    }
   ],
   "source": [
    "d"
   ]
  },
  {
   "cell_type": "code",
   "execution_count": 31,
   "id": "f5dd7ff1",
   "metadata": {},
   "outputs": [],
   "source": [
    "d.to_csv('tbl.csv')"
   ]
  },
  {
   "cell_type": "code",
   "execution_count": 32,
   "id": "11529d46",
   "metadata": {},
   "outputs": [
    {
     "data": {
      "text/html": [
       "<div>\n",
       "<style scoped>\n",
       "    .dataframe tbody tr th:only-of-type {\n",
       "        vertical-align: middle;\n",
       "    }\n",
       "\n",
       "    .dataframe tbody tr th {\n",
       "        vertical-align: top;\n",
       "    }\n",
       "\n",
       "    .dataframe thead th {\n",
       "        text-align: right;\n",
       "    }\n",
       "</style>\n",
       "<table border=\"1\" class=\"dataframe\">\n",
       "  <thead>\n",
       "    <tr style=\"text-align: right;\">\n",
       "      <th></th>\n",
       "      <th>col1</th>\n",
       "      <th>col2</th>\n",
       "    </tr>\n",
       "  </thead>\n",
       "  <tbody>\n",
       "    <tr>\n",
       "      <th>0</th>\n",
       "      <td>a</td>\n",
       "      <td>b</td>\n",
       "    </tr>\n",
       "    <tr>\n",
       "      <th>1</th>\n",
       "      <td>d</td>\n",
       "      <td>e</td>\n",
       "    </tr>\n",
       "    <tr>\n",
       "      <th>2</th>\n",
       "      <td>g</td>\n",
       "      <td>h</td>\n",
       "    </tr>\n",
       "  </tbody>\n",
       "</table>\n",
       "</div>"
      ],
      "text/plain": [
       "  col1 col2\n",
       "0    a    b\n",
       "1    d    e\n",
       "2    g    h"
      ]
     },
     "execution_count": 32,
     "metadata": {},
     "output_type": "execute_result"
    }
   ],
   "source": [
    "d"
   ]
  },
  {
   "cell_type": "code",
   "execution_count": 33,
   "id": "dc49e38d",
   "metadata": {},
   "outputs": [
    {
     "name": "stdout",
     "output_type": "stream",
     "text": [
      "col1,col2,col3\n",
      "a,b,c\n",
      "d,e,f\n",
      "g,h,i\n"
     ]
    }
   ],
   "source": [
    "print(data)"
   ]
  },
  {
   "cell_type": "code",
   "execution_count": 34,
   "id": "05c18fbd",
   "metadata": {},
   "outputs": [],
   "source": [
    "df=pd.read_csv(StringIO(data),dtype=object) #Making df as object type"
   ]
  },
  {
   "cell_type": "code",
   "execution_count": 35,
   "id": "faf39db8",
   "metadata": {},
   "outputs": [
    {
     "data": {
      "text/html": [
       "<div>\n",
       "<style scoped>\n",
       "    .dataframe tbody tr th:only-of-type {\n",
       "        vertical-align: middle;\n",
       "    }\n",
       "\n",
       "    .dataframe tbody tr th {\n",
       "        vertical-align: top;\n",
       "    }\n",
       "\n",
       "    .dataframe thead th {\n",
       "        text-align: right;\n",
       "    }\n",
       "</style>\n",
       "<table border=\"1\" class=\"dataframe\">\n",
       "  <thead>\n",
       "    <tr style=\"text-align: right;\">\n",
       "      <th></th>\n",
       "      <th>col1</th>\n",
       "      <th>col2</th>\n",
       "      <th>col3</th>\n",
       "    </tr>\n",
       "  </thead>\n",
       "  <tbody>\n",
       "    <tr>\n",
       "      <th>0</th>\n",
       "      <td>a</td>\n",
       "      <td>b</td>\n",
       "      <td>c</td>\n",
       "    </tr>\n",
       "    <tr>\n",
       "      <th>1</th>\n",
       "      <td>d</td>\n",
       "      <td>e</td>\n",
       "      <td>f</td>\n",
       "    </tr>\n",
       "    <tr>\n",
       "      <th>2</th>\n",
       "      <td>g</td>\n",
       "      <td>h</td>\n",
       "      <td>i</td>\n",
       "    </tr>\n",
       "  </tbody>\n",
       "</table>\n",
       "</div>"
      ],
      "text/plain": [
       "  col1 col2 col3\n",
       "0    a    b    c\n",
       "1    d    e    f\n",
       "2    g    h    i"
      ]
     },
     "execution_count": 35,
     "metadata": {},
     "output_type": "execute_result"
    }
   ],
   "source": [
    "df"
   ]
  },
  {
   "cell_type": "code",
   "execution_count": 36,
   "id": "84c8eb5e",
   "metadata": {},
   "outputs": [
    {
     "data": {
      "text/plain": [
       "str"
      ]
     },
     "execution_count": 36,
     "metadata": {},
     "output_type": "execute_result"
    }
   ],
   "source": [
    "type(df['col1'][2])"
   ]
  },
  {
   "cell_type": "code",
   "execution_count": 37,
   "id": "1184c278",
   "metadata": {},
   "outputs": [
    {
     "data": {
      "text/plain": [
       "'g'"
      ]
     },
     "execution_count": 37,
     "metadata": {},
     "output_type": "execute_result"
    }
   ],
   "source": [
    "df['col1'][2]"
   ]
  },
  {
   "cell_type": "code",
   "execution_count": 38,
   "id": "362324d7",
   "metadata": {},
   "outputs": [],
   "source": [
    "num=('col1,col2,col3\\n'\n",
    "         '1,2,3\\n'\n",
    "         '4,5,6\\n'\n",
    "         '7,8,9')"
   ]
  },
  {
   "cell_type": "code",
   "execution_count": 39,
   "id": "a235b2fd",
   "metadata": {},
   "outputs": [],
   "source": [
    "df=pd.read_csv(StringIO(num),dtype=float) #we can specify any data type for e.g float,int64,chr etc"
   ]
  },
  {
   "cell_type": "code",
   "execution_count": 40,
   "id": "ca576255",
   "metadata": {},
   "outputs": [
    {
     "data": {
      "text/html": [
       "<div>\n",
       "<style scoped>\n",
       "    .dataframe tbody tr th:only-of-type {\n",
       "        vertical-align: middle;\n",
       "    }\n",
       "\n",
       "    .dataframe tbody tr th {\n",
       "        vertical-align: top;\n",
       "    }\n",
       "\n",
       "    .dataframe thead th {\n",
       "        text-align: right;\n",
       "    }\n",
       "</style>\n",
       "<table border=\"1\" class=\"dataframe\">\n",
       "  <thead>\n",
       "    <tr style=\"text-align: right;\">\n",
       "      <th></th>\n",
       "      <th>col1</th>\n",
       "      <th>col2</th>\n",
       "      <th>col3</th>\n",
       "    </tr>\n",
       "  </thead>\n",
       "  <tbody>\n",
       "    <tr>\n",
       "      <th>0</th>\n",
       "      <td>1.0</td>\n",
       "      <td>2.0</td>\n",
       "      <td>3.0</td>\n",
       "    </tr>\n",
       "    <tr>\n",
       "      <th>1</th>\n",
       "      <td>4.0</td>\n",
       "      <td>5.0</td>\n",
       "      <td>6.0</td>\n",
       "    </tr>\n",
       "    <tr>\n",
       "      <th>2</th>\n",
       "      <td>7.0</td>\n",
       "      <td>8.0</td>\n",
       "      <td>9.0</td>\n",
       "    </tr>\n",
       "  </tbody>\n",
       "</table>\n",
       "</div>"
      ],
      "text/plain": [
       "   col1  col2  col3\n",
       "0   1.0   2.0   3.0\n",
       "1   4.0   5.0   6.0\n",
       "2   7.0   8.0   9.0"
      ]
     },
     "execution_count": 40,
     "metadata": {},
     "output_type": "execute_result"
    }
   ],
   "source": [
    "df"
   ]
  },
  {
   "cell_type": "code",
   "execution_count": 41,
   "id": "10f79aef",
   "metadata": {},
   "outputs": [],
   "source": [
    "df=pd.read_csv(StringIO(num),dtype={'col1':float,'col2':int,'col3':'int64'})#we can also specify multiple data type by using dict"
   ]
  },
  {
   "cell_type": "code",
   "execution_count": 42,
   "id": "4a278a13",
   "metadata": {},
   "outputs": [
    {
     "data": {
      "text/html": [
       "<div>\n",
       "<style scoped>\n",
       "    .dataframe tbody tr th:only-of-type {\n",
       "        vertical-align: middle;\n",
       "    }\n",
       "\n",
       "    .dataframe tbody tr th {\n",
       "        vertical-align: top;\n",
       "    }\n",
       "\n",
       "    .dataframe thead th {\n",
       "        text-align: right;\n",
       "    }\n",
       "</style>\n",
       "<table border=\"1\" class=\"dataframe\">\n",
       "  <thead>\n",
       "    <tr style=\"text-align: right;\">\n",
       "      <th></th>\n",
       "      <th>col1</th>\n",
       "      <th>col2</th>\n",
       "      <th>col3</th>\n",
       "    </tr>\n",
       "  </thead>\n",
       "  <tbody>\n",
       "    <tr>\n",
       "      <th>0</th>\n",
       "      <td>1.0</td>\n",
       "      <td>2</td>\n",
       "      <td>3</td>\n",
       "    </tr>\n",
       "    <tr>\n",
       "      <th>1</th>\n",
       "      <td>4.0</td>\n",
       "      <td>5</td>\n",
       "      <td>6</td>\n",
       "    </tr>\n",
       "    <tr>\n",
       "      <th>2</th>\n",
       "      <td>7.0</td>\n",
       "      <td>8</td>\n",
       "      <td>9</td>\n",
       "    </tr>\n",
       "  </tbody>\n",
       "</table>\n",
       "</div>"
      ],
      "text/plain": [
       "   col1  col2  col3\n",
       "0   1.0     2     3\n",
       "1   4.0     5     6\n",
       "2   7.0     8     9"
      ]
     },
     "execution_count": 42,
     "metadata": {},
     "output_type": "execute_result"
    }
   ],
   "source": [
    "df"
   ]
  },
  {
   "cell_type": "code",
   "execution_count": 43,
   "id": "638b91c7",
   "metadata": {},
   "outputs": [
    {
     "data": {
      "text/plain": [
       "9"
      ]
     },
     "execution_count": 43,
     "metadata": {},
     "output_type": "execute_result"
    }
   ],
   "source": [
    "df['col3'][2]"
   ]
  },
  {
   "cell_type": "code",
   "execution_count": 44,
   "id": "6df44708",
   "metadata": {},
   "outputs": [
    {
     "data": {
      "text/plain": [
       "numpy.int64"
      ]
     },
     "execution_count": 44,
     "metadata": {},
     "output_type": "execute_result"
    }
   ],
   "source": [
    "type(df['col3'][2])"
   ]
  },
  {
   "cell_type": "code",
   "execution_count": 62,
   "id": "207f10fe",
   "metadata": {},
   "outputs": [],
   "source": [
    "dt=('subject,marks_obtained,full_marks\\n'\n",
    "   'History,80,100\\n'\n",
    "   'Geography,60,100\\n')"
   ]
  },
  {
   "cell_type": "code",
   "execution_count": 53,
   "id": "0f91defd",
   "metadata": {},
   "outputs": [
    {
     "data": {
      "text/plain": [
       "str"
      ]
     },
     "execution_count": 53,
     "metadata": {},
     "output_type": "execute_result"
    }
   ],
   "source": [
    "type(dt)"
   ]
  },
  {
   "cell_type": "code",
   "execution_count": 63,
   "id": "6b5e0302",
   "metadata": {},
   "outputs": [],
   "source": [
    "dt_frm=pd.read_csv(StringIO(dt),index_col=0) #Making any columns as index"
   ]
  },
  {
   "cell_type": "code",
   "execution_count": 64,
   "id": "44d40ea7",
   "metadata": {},
   "outputs": [
    {
     "data": {
      "text/html": [
       "<div>\n",
       "<style scoped>\n",
       "    .dataframe tbody tr th:only-of-type {\n",
       "        vertical-align: middle;\n",
       "    }\n",
       "\n",
       "    .dataframe tbody tr th {\n",
       "        vertical-align: top;\n",
       "    }\n",
       "\n",
       "    .dataframe thead th {\n",
       "        text-align: right;\n",
       "    }\n",
       "</style>\n",
       "<table border=\"1\" class=\"dataframe\">\n",
       "  <thead>\n",
       "    <tr style=\"text-align: right;\">\n",
       "      <th></th>\n",
       "      <th>marks_obtained</th>\n",
       "      <th>full_marks</th>\n",
       "    </tr>\n",
       "    <tr>\n",
       "      <th>subject</th>\n",
       "      <th></th>\n",
       "      <th></th>\n",
       "    </tr>\n",
       "  </thead>\n",
       "  <tbody>\n",
       "    <tr>\n",
       "      <th>History</th>\n",
       "      <td>80</td>\n",
       "      <td>100</td>\n",
       "    </tr>\n",
       "    <tr>\n",
       "      <th>Geography</th>\n",
       "      <td>60</td>\n",
       "      <td>100</td>\n",
       "    </tr>\n",
       "  </tbody>\n",
       "</table>\n",
       "</div>"
      ],
      "text/plain": [
       "           marks_obtained  full_marks\n",
       "subject                              \n",
       "History                80         100\n",
       "Geography              60         100"
      ]
     },
     "execution_count": 64,
     "metadata": {},
     "output_type": "execute_result"
    }
   ],
   "source": [
    "dt_frm"
   ]
  },
  {
   "cell_type": "code",
   "execution_count": 75,
   "id": "62319633",
   "metadata": {},
   "outputs": [],
   "source": [
    "dt2=('a,b,c\\n'\n",
    "    '1,apple,banana\\n'\n",
    "    '2,Orange,grapes')"
   ]
  },
  {
   "cell_type": "code",
   "execution_count": 66,
   "id": "398b34f0",
   "metadata": {},
   "outputs": [
    {
     "data": {
      "text/plain": [
       "'a,b,c\\n1,apple,banana\\n2,Orange,grapes'"
      ]
     },
     "execution_count": 66,
     "metadata": {},
     "output_type": "execute_result"
    }
   ],
   "source": [
    "dt1"
   ]
  },
  {
   "cell_type": "code",
   "execution_count": 73,
   "id": "9d9783ef",
   "metadata": {},
   "outputs": [],
   "source": [
    "dt_frm1=pd.read_csv(StringIO(dt1),index_col=False)"
   ]
  },
  {
   "cell_type": "code",
   "execution_count": 74,
   "id": "3233db6f",
   "metadata": {},
   "outputs": [
    {
     "data": {
      "text/html": [
       "<div>\n",
       "<style scoped>\n",
       "    .dataframe tbody tr th:only-of-type {\n",
       "        vertical-align: middle;\n",
       "    }\n",
       "\n",
       "    .dataframe tbody tr th {\n",
       "        vertical-align: top;\n",
       "    }\n",
       "\n",
       "    .dataframe thead th {\n",
       "        text-align: right;\n",
       "    }\n",
       "</style>\n",
       "<table border=\"1\" class=\"dataframe\">\n",
       "  <thead>\n",
       "    <tr style=\"text-align: right;\">\n",
       "      <th></th>\n",
       "      <th>a</th>\n",
       "      <th>b</th>\n",
       "      <th>c</th>\n",
       "    </tr>\n",
       "  </thead>\n",
       "  <tbody>\n",
       "    <tr>\n",
       "      <th>0</th>\n",
       "      <td>1</td>\n",
       "      <td>apple</td>\n",
       "      <td>banana</td>\n",
       "    </tr>\n",
       "    <tr>\n",
       "      <th>1</th>\n",
       "      <td>2</td>\n",
       "      <td>Orange</td>\n",
       "      <td>grapes</td>\n",
       "    </tr>\n",
       "  </tbody>\n",
       "</table>\n",
       "</div>"
      ],
      "text/plain": [
       "   a       b       c\n",
       "0  1   apple  banana\n",
       "1  2  Orange  grapes"
      ]
     },
     "execution_count": 74,
     "metadata": {},
     "output_type": "execute_result"
    }
   ],
   "source": [
    "dt_frm1"
   ]
  },
  {
   "cell_type": "code",
   "execution_count": 76,
   "id": "5d5d73ca",
   "metadata": {},
   "outputs": [],
   "source": [
    "dt_frm2=pd.read_csv(StringIO(dt2))"
   ]
  },
  {
   "cell_type": "code",
   "execution_count": 77,
   "id": "89d8ee24",
   "metadata": {},
   "outputs": [
    {
     "data": {
      "text/html": [
       "<div>\n",
       "<style scoped>\n",
       "    .dataframe tbody tr th:only-of-type {\n",
       "        vertical-align: middle;\n",
       "    }\n",
       "\n",
       "    .dataframe tbody tr th {\n",
       "        vertical-align: top;\n",
       "    }\n",
       "\n",
       "    .dataframe thead th {\n",
       "        text-align: right;\n",
       "    }\n",
       "</style>\n",
       "<table border=\"1\" class=\"dataframe\">\n",
       "  <thead>\n",
       "    <tr style=\"text-align: right;\">\n",
       "      <th></th>\n",
       "      <th>a</th>\n",
       "      <th>b</th>\n",
       "      <th>c</th>\n",
       "    </tr>\n",
       "  </thead>\n",
       "  <tbody>\n",
       "    <tr>\n",
       "      <th>0</th>\n",
       "      <td>1</td>\n",
       "      <td>apple</td>\n",
       "      <td>banana</td>\n",
       "    </tr>\n",
       "    <tr>\n",
       "      <th>1</th>\n",
       "      <td>2</td>\n",
       "      <td>Orange</td>\n",
       "      <td>grapes</td>\n",
       "    </tr>\n",
       "  </tbody>\n",
       "</table>\n",
       "</div>"
      ],
      "text/plain": [
       "   a       b       c\n",
       "0  1   apple  banana\n",
       "1  2  Orange  grapes"
      ]
     },
     "execution_count": 77,
     "metadata": {},
     "output_type": "execute_result"
    }
   ],
   "source": [
    "dt_frm2"
   ]
  },
  {
   "cell_type": "code",
   "execution_count": 78,
   "id": "fea72487",
   "metadata": {},
   "outputs": [
    {
     "data": {
      "text/plain": [
       "'col1,col2,col3\\na,b,c\\nd,e,f\\ng,h,i'"
      ]
     },
     "execution_count": 78,
     "metadata": {},
     "output_type": "execute_result"
    }
   ],
   "source": [
    "data"
   ]
  },
  {
   "cell_type": "code",
   "execution_count": 80,
   "id": "ce4c4651",
   "metadata": {},
   "outputs": [],
   "source": [
    "dt_frm2=pd.read_csv(StringIO(dt2),usecols=['b','c'])"
   ]
  },
  {
   "cell_type": "code",
   "execution_count": null,
   "id": "f7b46591",
   "metadata": {},
   "outputs": [],
   "source": []
  },
  {
   "cell_type": "code",
   "execution_count": 81,
   "id": "093673bb",
   "metadata": {},
   "outputs": [
    {
     "data": {
      "text/html": [
       "<div>\n",
       "<style scoped>\n",
       "    .dataframe tbody tr th:only-of-type {\n",
       "        vertical-align: middle;\n",
       "    }\n",
       "\n",
       "    .dataframe tbody tr th {\n",
       "        vertical-align: top;\n",
       "    }\n",
       "\n",
       "    .dataframe thead th {\n",
       "        text-align: right;\n",
       "    }\n",
       "</style>\n",
       "<table border=\"1\" class=\"dataframe\">\n",
       "  <thead>\n",
       "    <tr style=\"text-align: right;\">\n",
       "      <th></th>\n",
       "      <th>b</th>\n",
       "      <th>c</th>\n",
       "    </tr>\n",
       "  </thead>\n",
       "  <tbody>\n",
       "    <tr>\n",
       "      <th>0</th>\n",
       "      <td>apple</td>\n",
       "      <td>banana</td>\n",
       "    </tr>\n",
       "    <tr>\n",
       "      <th>1</th>\n",
       "      <td>Orange</td>\n",
       "      <td>grapes</td>\n",
       "    </tr>\n",
       "  </tbody>\n",
       "</table>\n",
       "</div>"
      ],
      "text/plain": [
       "        b       c\n",
       "0   apple  banana\n",
       "1  Orange  grapes"
      ]
     },
     "execution_count": 81,
     "metadata": {},
     "output_type": "execute_result"
    }
   ],
   "source": [
    "dt_frm2"
   ]
  },
  {
   "cell_type": "code",
   "execution_count": 131,
   "id": "97530f50",
   "metadata": {},
   "outputs": [],
   "source": [
    "#Quoting and Escaping Character\n",
    "data1=('a,b\\n\"hello\\\\\"Navil\\\\\"How are you?\",9')"
   ]
  },
  {
   "cell_type": "code",
   "execution_count": 127,
   "id": "c6b0152d",
   "metadata": {},
   "outputs": [
    {
     "data": {
      "text/plain": [
       "str"
      ]
     },
     "execution_count": 127,
     "metadata": {},
     "output_type": "execute_result"
    }
   ],
   "source": [
    "type(data1)"
   ]
  },
  {
   "cell_type": "code",
   "execution_count": 133,
   "id": "77f0a1cb",
   "metadata": {},
   "outputs": [],
   "source": [
    "df=pd.read_csv(StringIO(data1),escapechar='\\\\')"
   ]
  },
  {
   "cell_type": "code",
   "execution_count": 134,
   "id": "f87e7e86",
   "metadata": {},
   "outputs": [
    {
     "data": {
      "text/html": [
       "<div>\n",
       "<style scoped>\n",
       "    .dataframe tbody tr th:only-of-type {\n",
       "        vertical-align: middle;\n",
       "    }\n",
       "\n",
       "    .dataframe tbody tr th {\n",
       "        vertical-align: top;\n",
       "    }\n",
       "\n",
       "    .dataframe thead th {\n",
       "        text-align: right;\n",
       "    }\n",
       "</style>\n",
       "<table border=\"1\" class=\"dataframe\">\n",
       "  <thead>\n",
       "    <tr style=\"text-align: right;\">\n",
       "      <th></th>\n",
       "      <th>a</th>\n",
       "      <th>b</th>\n",
       "    </tr>\n",
       "  </thead>\n",
       "  <tbody>\n",
       "    <tr>\n",
       "      <th>0</th>\n",
       "      <td>hello\"Navil\"How are you?</td>\n",
       "      <td>9</td>\n",
       "    </tr>\n",
       "  </tbody>\n",
       "</table>\n",
       "</div>"
      ],
      "text/plain": [
       "                          a  b\n",
       "0  hello\"Navil\"How are you?  9"
      ]
     },
     "execution_count": 134,
     "metadata": {},
     "output_type": "execute_result"
    }
   ],
   "source": [
    "df"
   ]
  },
  {
   "cell_type": "markdown",
   "id": "f19c2108",
   "metadata": {},
   "source": [
    "# Pandas reading jason,pickle&excel"
   ]
  },
  {
   "cell_type": "code",
   "execution_count": 4,
   "id": "aab44ec5",
   "metadata": {},
   "outputs": [],
   "source": [
    "import pandas as pd"
   ]
  },
  {
   "cell_type": "code",
   "execution_count": 27,
   "id": "d70c2aea",
   "metadata": {},
   "outputs": [],
   "source": [
    "Data = '{\"employee_name\": \"James\", \"email\": \"james@gmail.com\", \"job_profile\": [{\"title1\":\"Team Lead\", \"title2\":\"Sr. Developer\"}]}'\n",
    "df1=pd.read_json(Data)"
   ]
  },
  {
   "cell_type": "code",
   "execution_count": 29,
   "id": "5e27aa65",
   "metadata": {},
   "outputs": [
    {
     "data": {
      "text/html": [
       "<div>\n",
       "<style scoped>\n",
       "    .dataframe tbody tr th:only-of-type {\n",
       "        vertical-align: middle;\n",
       "    }\n",
       "\n",
       "    .dataframe tbody tr th {\n",
       "        vertical-align: top;\n",
       "    }\n",
       "\n",
       "    .dataframe thead th {\n",
       "        text-align: right;\n",
       "    }\n",
       "</style>\n",
       "<table border=\"1\" class=\"dataframe\">\n",
       "  <thead>\n",
       "    <tr style=\"text-align: right;\">\n",
       "      <th></th>\n",
       "      <th>employee_name</th>\n",
       "      <th>email</th>\n",
       "      <th>job_profile</th>\n",
       "    </tr>\n",
       "  </thead>\n",
       "  <tbody>\n",
       "    <tr>\n",
       "      <th>0</th>\n",
       "      <td>James</td>\n",
       "      <td>james@gmail.com</td>\n",
       "      <td>{'title1': 'Team Lead', 'title2': 'Sr. Develop...</td>\n",
       "    </tr>\n",
       "  </tbody>\n",
       "</table>\n",
       "</div>"
      ],
      "text/plain": [
       "  employee_name            email  \\\n",
       "0         James  james@gmail.com   \n",
       "\n",
       "                                         job_profile  \n",
       "0  {'title1': 'Team Lead', 'title2': 'Sr. Develop...  "
      ]
     },
     "execution_count": 29,
     "metadata": {},
     "output_type": "execute_result"
    }
   ],
   "source": [
    "df1"
   ]
  },
  {
   "cell_type": "code",
   "execution_count": 10,
   "id": "7a4e17a1",
   "metadata": {},
   "outputs": [
    {
     "data": {
      "text/plain": [
       "str"
      ]
     },
     "execution_count": 10,
     "metadata": {},
     "output_type": "execute_result"
    }
   ],
   "source": [
    "type(Data)"
   ]
  },
  {
   "cell_type": "code",
   "execution_count": 19,
   "id": "4635d4fb",
   "metadata": {},
   "outputs": [
    {
     "data": {
      "text/html": [
       "<div>\n",
       "<style scoped>\n",
       "    .dataframe tbody tr th:only-of-type {\n",
       "        vertical-align: middle;\n",
       "    }\n",
       "\n",
       "    .dataframe tbody tr th {\n",
       "        vertical-align: top;\n",
       "    }\n",
       "\n",
       "    .dataframe thead th {\n",
       "        text-align: right;\n",
       "    }\n",
       "</style>\n",
       "<table border=\"1\" class=\"dataframe\">\n",
       "  <thead>\n",
       "    <tr style=\"text-align: right;\">\n",
       "      <th></th>\n",
       "      <th>employee_name</th>\n",
       "      <th>email</th>\n",
       "      <th>job_profile</th>\n",
       "    </tr>\n",
       "  </thead>\n",
       "  <tbody>\n",
       "    <tr>\n",
       "      <th>0</th>\n",
       "      <td>James</td>\n",
       "      <td>james@gmail.com</td>\n",
       "      <td>{'title1': 'Team Lead', 'title2': 'Sr. Develop...</td>\n",
       "    </tr>\n",
       "  </tbody>\n",
       "</table>\n",
       "</div>"
      ],
      "text/plain": [
       "  employee_name            email  \\\n",
       "0         James  james@gmail.com   \n",
       "\n",
       "                                         job_profile  \n",
       "0  {'title1': 'Team Lead', 'title2': 'Sr. Develop...  "
      ]
     },
     "execution_count": 19,
     "metadata": {},
     "output_type": "execute_result"
    }
   ],
   "source": [
    "pd.read_json(Data)"
   ]
  },
  {
   "cell_type": "code",
   "execution_count": 23,
   "id": "2324dbb3",
   "metadata": {},
   "outputs": [],
   "source": [
    "#Read data from URL\n",
    "df=pd.read_json('https://file-examples-com.github.io/uploads/2017/02/file_example_JSON_1kb.json',)"
   ]
  },
  {
   "cell_type": "code",
   "execution_count": 21,
   "id": "3685947d",
   "metadata": {},
   "outputs": [
    {
     "data": {
      "text/html": [
       "<div>\n",
       "<style scoped>\n",
       "    .dataframe tbody tr th:only-of-type {\n",
       "        vertical-align: middle;\n",
       "    }\n",
       "\n",
       "    .dataframe tbody tr th {\n",
       "        vertical-align: top;\n",
       "    }\n",
       "\n",
       "    .dataframe thead th {\n",
       "        text-align: right;\n",
       "    }\n",
       "</style>\n",
       "<table border=\"1\" class=\"dataframe\">\n",
       "  <thead>\n",
       "    <tr style=\"text-align: right;\">\n",
       "      <th></th>\n",
       "      <th>countries</th>\n",
       "    </tr>\n",
       "  </thead>\n",
       "  <tbody>\n",
       "    <tr>\n",
       "      <th>0</th>\n",
       "      <td>{'name': 'Afghanistan', 'isoCode': 'AF'}</td>\n",
       "    </tr>\n",
       "    <tr>\n",
       "      <th>1</th>\n",
       "      <td>{'name': 'Albania', 'isoCode': 'AL'}</td>\n",
       "    </tr>\n",
       "    <tr>\n",
       "      <th>2</th>\n",
       "      <td>{'name': 'Algeria', 'isoCode': 'DZ'}</td>\n",
       "    </tr>\n",
       "    <tr>\n",
       "      <th>3</th>\n",
       "      <td>{'name': 'American Samoa', 'isoCode': 'AS'}</td>\n",
       "    </tr>\n",
       "    <tr>\n",
       "      <th>4</th>\n",
       "      <td>{'name': 'Andorra', 'isoCode': 'AD'}</td>\n",
       "    </tr>\n",
       "  </tbody>\n",
       "</table>\n",
       "</div>"
      ],
      "text/plain": [
       "                                     countries\n",
       "0     {'name': 'Afghanistan', 'isoCode': 'AF'}\n",
       "1         {'name': 'Albania', 'isoCode': 'AL'}\n",
       "2         {'name': 'Algeria', 'isoCode': 'DZ'}\n",
       "3  {'name': 'American Samoa', 'isoCode': 'AS'}\n",
       "4         {'name': 'Andorra', 'isoCode': 'AD'}"
      ]
     },
     "execution_count": 21,
     "metadata": {},
     "output_type": "execute_result"
    }
   ],
   "source": [
    "df.head()"
   ]
  },
  {
   "cell_type": "code",
   "execution_count": 24,
   "id": "00c5ffba",
   "metadata": {},
   "outputs": [],
   "source": [
    "df.to_csv('file_example_JSON_1kb.csv')"
   ]
  },
  {
   "cell_type": "code",
   "execution_count": 26,
   "id": "79f3fdff",
   "metadata": {},
   "outputs": [
    {
     "data": {
      "text/plain": [
       "pandas.core.frame.DataFrame"
      ]
     },
     "execution_count": 26,
     "metadata": {},
     "output_type": "execute_result"
    }
   ],
   "source": [
    "type(df)"
   ]
  },
  {
   "cell_type": "code",
   "execution_count": 30,
   "id": "6d05ef49",
   "metadata": {},
   "outputs": [
    {
     "data": {
      "text/plain": [
       "'{\"employee_name\":{\"0\":\"James\"},\"email\":{\"0\":\"james@gmail.com\"},\"job_profile\":{\"0\":{\"title1\":\"Team Lead\",\"title2\":\"Sr. Developer\"}}}'"
      ]
     },
     "execution_count": 30,
     "metadata": {},
     "output_type": "execute_result"
    }
   ],
   "source": [
    "df1.to_json()"
   ]
  },
  {
   "cell_type": "code",
   "execution_count": 37,
   "id": "78264e14",
   "metadata": {},
   "outputs": [
    {
     "data": {
      "text/plain": [
       "'[{\"countries\":{\"name\":\"Afghanistan\",\"isoCode\":\"AF\"}},{\"countries\":{\"name\":\"Albania\",\"isoCode\":\"AL\"}},{\"countries\":{\"name\":\"Algeria\",\"isoCode\":\"DZ\"}},{\"countries\":{\"name\":\"American Samoa\",\"isoCode\":\"AS\"}},{\"countries\":{\"name\":\"Andorra\",\"isoCode\":\"AD\"}},{\"countries\":{\"name\":\"Angola\",\"isoCode\":\"AO\"}},{\"countries\":{\"name\":\"Anguilla\",\"isoCode\":\"AI\"}},{\"countries\":{\"name\":\"Antarctica\",\"isoCode\":\"AQ\"}},{\"countries\":{\"name\":\"Antigua and Barbuda\",\"isoCode\":\"AG\"}},{\"countries\":{\"name\":\"Argentina\",\"isoCode\":\"AR\"}},{\"countries\":{\"name\":\"Armenia\",\"isoCode\":\"AM\"}},{\"countries\":{\"name\":\"Aruba\",\"isoCode\":\"AW\"}},{\"countries\":{\"name\":\"Australia\",\"isoCode\":\"AU\"}},{\"countries\":{\"name\":\"Austria\",\"isoCode\":\"AT\"}},{\"countries\":{\"name\":\"Azerbaijan\",\"isoCode\":\"AZ\"}},{\"countries\":{\"name\":\"Bahamas\",\"isoCode\":\"BS\"}},{\"countries\":{\"name\":\"Bahrain\",\"isoCode\":\"BH\"}},{\"countries\":{\"name\":\"Bangladesh\",\"isoCode\":\"BD\"}},{\"countries\":{\"name\":\"Barbados\",\"isoCode\":\"BB\"}},{\"countries\":{\"name\":\"Belarus\",\"isoCode\":\"BY\"}},{\"countries\":{\"name\":\"Belgium\",\"isoCode\":\"BE\"}},{\"countries\":{\"name\":\"Belize\",\"isoCode\":\"BZ\"}},{\"countries\":{\"name\":\"Benin\",\"isoCode\":\"BJ\"}},{\"countries\":{\"name\":\"Bermuda\",\"isoCode\":\"BM\"}},{\"countries\":{\"name\":\"Bhutan\",\"isoCode\":\"BT\"}},{\"countries\":{\"name\":\"Bolivia\",\"isoCode\":\"BO\"}},{\"countries\":{\"name\":\"Bosnia and Herzegovina\",\"isoCode\":\"BA\"}},{\"countries\":{\"name\":\"Botswana\",\"isoCode\":\"BW\"}},{\"countries\":{\"name\":\"Bouvet Island\",\"isoCode\":\"BV\"}},{\"countries\":{\"name\":\"Brazil\",\"isoCode\":\"BR\"}},{\"countries\":{\"name\":\"British Indian Ocean Territory\",\"isoCode\":\"IO\"}},{\"countries\":{\"name\":\"Brunei\",\"isoCode\":\"BN\"}},{\"countries\":{\"name\":\"Bulgaria\",\"isoCode\":\"BG\"}},{\"countries\":{\"name\":\"Burkina Faso\",\"isoCode\":\"BF\"}},{\"countries\":{\"name\":\"Burundi\",\"isoCode\":\"BI\"}},{\"countries\":{\"name\":\"Cambodia\",\"isoCode\":\"KH\"}},{\"countries\":{\"name\":\"Cameroon\",\"isoCode\":\"CM\"}},{\"countries\":{\"name\":\"Canada\",\"isoCode\":\"CA\"}},{\"countries\":{\"name\":\"Cape Verde\",\"isoCode\":\"CV\"}},{\"countries\":{\"name\":\"Cayman Islands\",\"isoCode\":\"KY\"}},{\"countries\":{\"name\":\"Central African Republic\",\"isoCode\":\"CF\"}},{\"countries\":{\"name\":\"Chad\",\"isoCode\":\"TD\"}},{\"countries\":{\"name\":\"Chile\",\"isoCode\":\"CL\"}},{\"countries\":{\"name\":\"China\",\"isoCode\":\"CN\"}},{\"countries\":{\"name\":\"Christmas Island\",\"isoCode\":\"CX\"}},{\"countries\":{\"name\":\"Cocos (Keeling) Islands\",\"isoCode\":\"CC\"}},{\"countries\":{\"name\":\"Colombia\",\"isoCode\":\"CO\"}},{\"countries\":{\"name\":\"Comoros\",\"isoCode\":\"KM\"}},{\"countries\":{\"name\":\"Congo\",\"isoCode\":\"CG\"}},{\"countries\":{\"name\":\"Cook Islands\",\"isoCode\":\"CK\"}},{\"countries\":{\"name\":\"Costa Rica\",\"isoCode\":\"CR\"}},{\"countries\":{\"name\":\"Croatia\",\"isoCode\":\"HR\"}},{\"countries\":{\"name\":\"Cuba\",\"isoCode\":\"CU\"}},{\"countries\":{\"name\":\"Cyprus\",\"isoCode\":\"CY\"}},{\"countries\":{\"name\":\"Czech Republic\",\"isoCode\":\"CZ\"}},{\"countries\":{\"name\":\"Denmark\",\"isoCode\":\"DK\"}},{\"countries\":{\"name\":\"Djibouti\",\"isoCode\":\"DJ\"}},{\"countries\":{\"name\":\"Dominica\",\"isoCode\":\"DM\"}},{\"countries\":{\"name\":\"Dominican Republic\",\"isoCode\":\"DO\"}},{\"countries\":{\"name\":\"East Timor\",\"isoCode\":\"TP\"}},{\"countries\":{\"name\":\"Ecuador\",\"isoCode\":\"EC\"}},{\"countries\":{\"name\":\"Egypt\",\"isoCode\":\"EG\"}},{\"countries\":{\"name\":\"El Salvador\",\"isoCode\":\"SV\"}},{\"countries\":{\"name\":\"Equatorial Guinea\",\"isoCode\":\"GQ\"}},{\"countries\":{\"name\":\"Eritrea\",\"isoCode\":\"ER\"}},{\"countries\":{\"name\":\"Estonia\",\"isoCode\":\"EE\"}},{\"countries\":{\"name\":\"Ethiopia\",\"isoCode\":\"ET\"}},{\"countries\":{\"name\":\"Falkland Islands\",\"isoCode\":\"FK\"}},{\"countries\":{\"name\":\"Faroe Islands\",\"isoCode\":\"FO\"}},{\"countries\":{\"name\":\"Fiji Islands\",\"isoCode\":\"FJ\"}},{\"countries\":{\"name\":\"Finland\",\"isoCode\":\"FI\"}},{\"countries\":{\"name\":\"France\",\"isoCode\":\"FR\"}},{\"countries\":{\"name\":\"French Guiana\",\"isoCode\":\"GF\"}},{\"countries\":{\"name\":\"French Polynesia\",\"isoCode\":\"PF\"}},{\"countries\":{\"name\":\"French Southern territories\",\"isoCode\":\"TF\"}},{\"countries\":{\"name\":\"Gabon\",\"isoCode\":\"GA\"}},{\"countries\":{\"name\":\"Gambia\",\"isoCode\":\"GM\"}},{\"countries\":{\"name\":\"Georgia\",\"isoCode\":\"GE\"}},{\"countries\":{\"name\":\"Germany\",\"isoCode\":\"DE\"}},{\"countries\":{\"name\":\"Ghana\",\"isoCode\":\"GH\"}},{\"countries\":{\"name\":\"Gibraltar\",\"isoCode\":\"GI\"}},{\"countries\":{\"name\":\"Greece\",\"isoCode\":\"GR\"}},{\"countries\":{\"name\":\"Greenland\",\"isoCode\":\"GL\"}},{\"countries\":{\"name\":\"Grenada\",\"isoCode\":\"GD\"}},{\"countries\":{\"name\":\"Guadeloupe\",\"isoCode\":\"GP\"}},{\"countries\":{\"name\":\"Guam\",\"isoCode\":\"GU\"}},{\"countries\":{\"name\":\"Guatemala\",\"isoCode\":\"GT\"}},{\"countries\":{\"name\":\"Guernsey\",\"isoCode\":\"GG\"}},{\"countries\":{\"name\":\"Guinea\",\"isoCode\":\"GN\"}},{\"countries\":{\"name\":\"Guinea-Bissau\",\"isoCode\":\"GW\"}},{\"countries\":{\"name\":\"Guyana\",\"isoCode\":\"GY\"}},{\"countries\":{\"name\":\"Haiti\",\"isoCode\":\"HT\"}},{\"countries\":{\"name\":\"Heard Island and McDonald Islands\",\"isoCode\":\"HM\"}},{\"countries\":{\"name\":\"Holy See (Vatican City State)\",\"isoCode\":\"VA\"}},{\"countries\":{\"name\":\"Honduras\",\"isoCode\":\"HN\"}},{\"countries\":{\"name\":\"Hong Kong\",\"isoCode\":\"HK\"}},{\"countries\":{\"name\":\"Hungary\",\"isoCode\":\"HU\"}},{\"countries\":{\"name\":\"Iceland\",\"isoCode\":\"IS\"}},{\"countries\":{\"name\":\"India\",\"isoCode\":\"IN\"}},{\"countries\":{\"name\":\"Indonesia\",\"isoCode\":\"ID\"}},{\"countries\":{\"name\":\"Iran\",\"isoCode\":\"IR\"}},{\"countries\":{\"name\":\"Iraq\",\"isoCode\":\"IQ\"}},{\"countries\":{\"name\":\"Ireland\",\"isoCode\":\"IE\"}},{\"countries\":{\"name\":\"Isle of Man\",\"isoCode\":\"IM\"}},{\"countries\":{\"name\":\"Israel\",\"isoCode\":\"IL\"}},{\"countries\":{\"name\":\"Italy\",\"isoCode\":\"IT\"}},{\"countries\":{\"name\":\"Ivory Coast\",\"isoCode\":\"CI\"}},{\"countries\":{\"name\":\"Jamaica\",\"isoCode\":\"JM\"}},{\"countries\":{\"name\":\"Japan\",\"isoCode\":\"JP\"}},{\"countries\":{\"name\":\"Jersey\",\"isoCode\":\"JE\"}},{\"countries\":{\"name\":\"Jordan\",\"isoCode\":\"JO\"}},{\"countries\":{\"name\":\"Kazakhstan\",\"isoCode\":\"KZ\"}},{\"countries\":{\"name\":\"Kenya\",\"isoCode\":\"KE\"}},{\"countries\":{\"name\":\"Kiribati\",\"isoCode\":\"KI\"}},{\"countries\":{\"name\":\"Kuwait\",\"isoCode\":\"KW\"}},{\"countries\":{\"name\":\"Kyrgyzstan\",\"isoCode\":\"KG\"}},{\"countries\":{\"name\":\"Laos\",\"isoCode\":\"LA\"}},{\"countries\":{\"name\":\"Latvia\",\"isoCode\":\"LV\"}},{\"countries\":{\"name\":\"Lebanon\",\"isoCode\":\"LB\"}},{\"countries\":{\"name\":\"Lesotho\",\"isoCode\":\"LS\"}},{\"countries\":{\"name\":\"Liberia\",\"isoCode\":\"LR\"}},{\"countries\":{\"name\":\"Libyan Arab Jamahiriya\",\"isoCode\":\"LY\"}},{\"countries\":{\"name\":\"Liechtenstein\",\"isoCode\":\"LI\"}},{\"countries\":{\"name\":\"Lithuania\",\"isoCode\":\"LT\"}},{\"countries\":{\"name\":\"Luxembourg\",\"isoCode\":\"LU\"}},{\"countries\":{\"name\":\"Macao\",\"isoCode\":\"MO\"}},{\"countries\":{\"name\":\"North Macedonia\",\"isoCode\":\"MK\"}},{\"countries\":{\"name\":\"Madagascar\",\"isoCode\":\"MG\"}},{\"countries\":{\"name\":\"Malawi\",\"isoCode\":\"MW\"}},{\"countries\":{\"name\":\"Malaysia\",\"isoCode\":\"MY\"}},{\"countries\":{\"name\":\"Maldives\",\"isoCode\":\"MV\"}},{\"countries\":{\"name\":\"Mali\",\"isoCode\":\"ML\"}},{\"countries\":{\"name\":\"Malta\",\"isoCode\":\"MT\"}},{\"countries\":{\"name\":\"Marshall Islands\",\"isoCode\":\"MH\"}},{\"countries\":{\"name\":\"Martinique\",\"isoCode\":\"MQ\"}},{\"countries\":{\"name\":\"Mauritania\",\"isoCode\":\"MR\"}},{\"countries\":{\"name\":\"Mauritius\",\"isoCode\":\"MU\"}},{\"countries\":{\"name\":\"Mayotte\",\"isoCode\":\"YT\"}},{\"countries\":{\"name\":\"Mexico\",\"isoCode\":\"MX\"}},{\"countries\":{\"name\":\"Micronesia, Federated States of\",\"isoCode\":\"FM\"}},{\"countries\":{\"name\":\"Moldova\",\"isoCode\":\"MD\"}},{\"countries\":{\"name\":\"Monaco\",\"isoCode\":\"MC\"}},{\"countries\":{\"name\":\"Mongolia\",\"isoCode\":\"MN\"}},{\"countries\":{\"name\":\"Montenegro\",\"isoCode\":\"ME\"}},{\"countries\":{\"name\":\"Montserrat\",\"isoCode\":\"MS\"}},{\"countries\":{\"name\":\"Morocco\",\"isoCode\":\"MA\"}},{\"countries\":{\"name\":\"Mozambique\",\"isoCode\":\"MZ\"}},{\"countries\":{\"name\":\"Myanmar\",\"isoCode\":\"MM\"}},{\"countries\":{\"name\":\"Namibia\",\"isoCode\":\"NA\"}},{\"countries\":{\"name\":\"Nauru\",\"isoCode\":\"NR\"}},{\"countries\":{\"name\":\"Nepal\",\"isoCode\":\"NP\"}},{\"countries\":{\"name\":\"Netherlands\",\"isoCode\":\"NL\"}},{\"countries\":{\"name\":\"Netherlands Antilles\",\"isoCode\":\"AN\"}},{\"countries\":{\"name\":\"New Caledonia\",\"isoCode\":\"NC\"}},{\"countries\":{\"name\":\"New Zealand\",\"isoCode\":\"NZ\"}},{\"countries\":{\"name\":\"Nicaragua\",\"isoCode\":\"NI\"}},{\"countries\":{\"name\":\"Niger\",\"isoCode\":\"NE\"}},{\"countries\":{\"name\":\"Nigeria\",\"isoCode\":\"NG\"}},{\"countries\":{\"name\":\"Niue\",\"isoCode\":\"NU\"}},{\"countries\":{\"name\":\"Norfolk Island\",\"isoCode\":\"NF\"}},{\"countries\":{\"name\":\"North Korea\",\"isoCode\":\"KP\"}},{\"countries\":{\"name\":\"Northern Ireland\",\"isoCode\":\"GB\"}},{\"countries\":{\"name\":\"Northern Mariana Islands\",\"isoCode\":\"MP\"}},{\"countries\":{\"name\":\"Norway\",\"isoCode\":\"NO\"}},{\"countries\":{\"name\":\"Oman\",\"isoCode\":\"OM\"}},{\"countries\":{\"name\":\"Pakistan\",\"isoCode\":\"PK\"}},{\"countries\":{\"name\":\"Palau\",\"isoCode\":\"PW\"}},{\"countries\":{\"name\":\"Palestine\",\"isoCode\":\"PS\"}},{\"countries\":{\"name\":\"Panama\",\"isoCode\":\"PA\"}},{\"countries\":{\"name\":\"Papua New Guinea\",\"isoCode\":\"PG\"}},{\"countries\":{\"name\":\"Paraguay\",\"isoCode\":\"PY\"}},{\"countries\":{\"name\":\"Peru\",\"isoCode\":\"PE\"}},{\"countries\":{\"name\":\"Philippines\",\"isoCode\":\"PH\"}},{\"countries\":{\"name\":\"Pitcairn\",\"isoCode\":\"PN\"}},{\"countries\":{\"name\":\"Poland\",\"isoCode\":\"PL\"}},{\"countries\":{\"name\":\"Portugal\",\"isoCode\":\"PT\"}},{\"countries\":{\"name\":\"Puerto Rico\",\"isoCode\":\"PR\"}},{\"countries\":{\"name\":\"Qatar\",\"isoCode\":\"QA\"}},{\"countries\":{\"name\":\"Reunion\",\"isoCode\":\"RE\"}},{\"countries\":{\"name\":\"Romania\",\"isoCode\":\"RO\"}},{\"countries\":{\"name\":\"Russian Federation\",\"isoCode\":\"RU\"}},{\"countries\":{\"name\":\"Rwanda\",\"isoCode\":\"RW\"}},{\"countries\":{\"name\":\"Saint Helena\",\"isoCode\":\"SH\"}},{\"countries\":{\"name\":\"Saint Kitts and Nevis\",\"isoCode\":\"KN\"}},{\"countries\":{\"name\":\"Saint Lucia\",\"isoCode\":\"LC\"}},{\"countries\":{\"name\":\"Saint Pierre and Miquelon\",\"isoCode\":\"PM\"}},{\"countries\":{\"name\":\"Saint Vincent and the Grenadines\",\"isoCode\":\"VC\"}},{\"countries\":{\"name\":\"Samoa\",\"isoCode\":\"WS\"}},{\"countries\":{\"name\":\"San Marino\",\"isoCode\":\"SM\"}},{\"countries\":{\"name\":\"Sao Tome and Principe\",\"isoCode\":\"ST\"}},{\"countries\":{\"name\":\"Saudi Arabia\",\"isoCode\":\"SA\"}},{\"countries\":{\"name\":\"Senegal\",\"isoCode\":\"SN\"}},{\"countries\":{\"name\":\"Serbia\",\"isoCode\":\"RS\"}},{\"countries\":{\"name\":\"Seychelles\",\"isoCode\":\"SC\"}},{\"countries\":{\"name\":\"Sierra Leone\",\"isoCode\":\"SL\"}},{\"countries\":{\"name\":\"Singapore\",\"isoCode\":\"SG\"}},{\"countries\":{\"name\":\"Slovakia\",\"isoCode\":\"SK\"}},{\"countries\":{\"name\":\"Slovenia\",\"isoCode\":\"SI\"}},{\"countries\":{\"name\":\"Solomon Islands\",\"isoCode\":\"SB\"}},{\"countries\":{\"name\":\"Somalia\",\"isoCode\":\"SO\"}},{\"countries\":{\"name\":\"South Africa\",\"isoCode\":\"ZA\"}},{\"countries\":{\"name\":\"South Georgia and the South Sandwich Islands\",\"isoCode\":\"GS\"}},{\"countries\":{\"name\":\"South Korea\",\"isoCode\":\"KR\"}},{\"countries\":{\"name\":\"South Sudan\",\"isoCode\":\"SS\"}},{\"countries\":{\"name\":\"Spain\",\"isoCode\":\"ES\"}},{\"countries\":{\"name\":\"Sri Lanka\",\"isoCode\":\"LK\"}},{\"countries\":{\"name\":\"Sudan\",\"isoCode\":\"SD\"}},{\"countries\":{\"name\":\"Suriname\",\"isoCode\":\"SR\"}},{\"countries\":{\"name\":\"Svalbard and Jan Mayen\",\"isoCode\":\"SJ\"}},{\"countries\":{\"name\":\"Swaziland\",\"isoCode\":\"SZ\"}},{\"countries\":{\"name\":\"Sweden\",\"isoCode\":\"SE\"}},{\"countries\":{\"name\":\"Switzerland\",\"isoCode\":\"CH\"}},{\"countries\":{\"name\":\"Syria\",\"isoCode\":\"SY\"}},{\"countries\":{\"name\":\"Tajikistan\",\"isoCode\":\"TJ\"}},{\"countries\":{\"name\":\"Tanzania\",\"isoCode\":\"TZ\"}},{\"countries\":{\"name\":\"Thailand\",\"isoCode\":\"TH\"}},{\"countries\":{\"name\":\"The Democratic Republic of Congo\",\"isoCode\":\"CD\"}},{\"countries\":{\"name\":\"Timor-Leste\",\"isoCode\":\"TL\"}},{\"countries\":{\"name\":\"Togo\",\"isoCode\":\"TG\"}},{\"countries\":{\"name\":\"Tokelau\",\"isoCode\":\"TK\"}},{\"countries\":{\"name\":\"Tonga\",\"isoCode\":\"TO\"}},{\"countries\":{\"name\":\"Trinidad and Tobago\",\"isoCode\":\"TT\"}},{\"countries\":{\"name\":\"Tunisia\",\"isoCode\":\"TN\"}},{\"countries\":{\"name\":\"Turkey\",\"isoCode\":\"TR\"}},{\"countries\":{\"name\":\"Turkmenistan\",\"isoCode\":\"TM\"}},{\"countries\":{\"name\":\"Turks and Caicos Islands\",\"isoCode\":\"TC\"}},{\"countries\":{\"name\":\"Tuvalu\",\"isoCode\":\"TV\"}},{\"countries\":{\"name\":\"Uganda\",\"isoCode\":\"UG\"}},{\"countries\":{\"name\":\"Ukraine\",\"isoCode\":\"UA\"}},{\"countries\":{\"name\":\"United Arab Emirates\",\"isoCode\":\"AE\"}},{\"countries\":{\"name\":\"United Kingdom\",\"isoCode\":\"GB\"}},{\"countries\":{\"name\":\"United States\",\"isoCode\":\"US\"}},{\"countries\":{\"name\":\"United States Minor Outlying Islands\",\"isoCode\":\"UM\"}},{\"countries\":{\"name\":\"Uruguay\",\"isoCode\":\"UY\"}},{\"countries\":{\"name\":\"Uzbekistan\",\"isoCode\":\"UZ\"}},{\"countries\":{\"name\":\"Vanuatu\",\"isoCode\":\"VU\"}},{\"countries\":{\"name\":\"Venezuela\",\"isoCode\":\"VE\"}},{\"countries\":{\"name\":\"Vietnam\",\"isoCode\":\"VN\"}},{\"countries\":{\"name\":\"Virgin Islands, British\",\"isoCode\":\"VG\"}},{\"countries\":{\"name\":\"Virgin Islands, U.S.\",\"isoCode\":\"VI\"}},{\"countries\":{\"name\":\"Wallis and Futuna\",\"isoCode\":\"WF\"}},{\"countries\":{\"name\":\"Western Sahara\",\"isoCode\":\"EH\"}},{\"countries\":{\"name\":\"Yemen\",\"isoCode\":\"YE\"}},{\"countries\":{\"name\":\"Yugoslavia\",\"isoCode\":\"YU\"}},{\"countries\":{\"name\":\"Zambia\",\"isoCode\":\"ZM\"}},{\"countries\":{\"name\":\"Zimbabwe\",\"isoCode\":\"ZW\"}}]'"
      ]
     },
     "execution_count": 37,
     "metadata": {},
     "output_type": "execute_result"
    }
   ],
   "source": [
    "df.to_json(orient='records')"
   ]
  },
  {
   "cell_type": "code",
   "execution_count": 35,
   "id": "1018f474",
   "metadata": {},
   "outputs": [
    {
     "data": {
      "text/html": [
       "<div>\n",
       "<style scoped>\n",
       "    .dataframe tbody tr th:only-of-type {\n",
       "        vertical-align: middle;\n",
       "    }\n",
       "\n",
       "    .dataframe tbody tr th {\n",
       "        vertical-align: top;\n",
       "    }\n",
       "\n",
       "    .dataframe thead th {\n",
       "        text-align: right;\n",
       "    }\n",
       "</style>\n",
       "<table border=\"1\" class=\"dataframe\">\n",
       "  <thead>\n",
       "    <tr style=\"text-align: right;\">\n",
       "      <th></th>\n",
       "      <th>countries</th>\n",
       "    </tr>\n",
       "  </thead>\n",
       "  <tbody>\n",
       "    <tr>\n",
       "      <th>0</th>\n",
       "      <td>{'name': 'Afghanistan', 'isoCode': 'AF'}</td>\n",
       "    </tr>\n",
       "    <tr>\n",
       "      <th>1</th>\n",
       "      <td>{'name': 'Albania', 'isoCode': 'AL'}</td>\n",
       "    </tr>\n",
       "    <tr>\n",
       "      <th>2</th>\n",
       "      <td>{'name': 'Algeria', 'isoCode': 'DZ'}</td>\n",
       "    </tr>\n",
       "    <tr>\n",
       "      <th>3</th>\n",
       "      <td>{'name': 'American Samoa', 'isoCode': 'AS'}</td>\n",
       "    </tr>\n",
       "    <tr>\n",
       "      <th>4</th>\n",
       "      <td>{'name': 'Andorra', 'isoCode': 'AD'}</td>\n",
       "    </tr>\n",
       "    <tr>\n",
       "      <th>...</th>\n",
       "      <td>...</td>\n",
       "    </tr>\n",
       "    <tr>\n",
       "      <th>241</th>\n",
       "      <td>{'name': 'Western Sahara', 'isoCode': 'EH'}</td>\n",
       "    </tr>\n",
       "    <tr>\n",
       "      <th>242</th>\n",
       "      <td>{'name': 'Yemen', 'isoCode': 'YE'}</td>\n",
       "    </tr>\n",
       "    <tr>\n",
       "      <th>243</th>\n",
       "      <td>{'name': 'Yugoslavia', 'isoCode': 'YU'}</td>\n",
       "    </tr>\n",
       "    <tr>\n",
       "      <th>244</th>\n",
       "      <td>{'name': 'Zambia', 'isoCode': 'ZM'}</td>\n",
       "    </tr>\n",
       "    <tr>\n",
       "      <th>245</th>\n",
       "      <td>{'name': 'Zimbabwe', 'isoCode': 'ZW'}</td>\n",
       "    </tr>\n",
       "  </tbody>\n",
       "</table>\n",
       "<p>246 rows × 1 columns</p>\n",
       "</div>"
      ],
      "text/plain": [
       "                                       countries\n",
       "0       {'name': 'Afghanistan', 'isoCode': 'AF'}\n",
       "1           {'name': 'Albania', 'isoCode': 'AL'}\n",
       "2           {'name': 'Algeria', 'isoCode': 'DZ'}\n",
       "3    {'name': 'American Samoa', 'isoCode': 'AS'}\n",
       "4           {'name': 'Andorra', 'isoCode': 'AD'}\n",
       "..                                           ...\n",
       "241  {'name': 'Western Sahara', 'isoCode': 'EH'}\n",
       "242           {'name': 'Yemen', 'isoCode': 'YE'}\n",
       "243      {'name': 'Yugoslavia', 'isoCode': 'YU'}\n",
       "244          {'name': 'Zambia', 'isoCode': 'ZM'}\n",
       "245        {'name': 'Zimbabwe', 'isoCode': 'ZW'}\n",
       "\n",
       "[246 rows x 1 columns]"
      ]
     },
     "execution_count": 35,
     "metadata": {},
     "output_type": "execute_result"
    }
   ],
   "source": []
  },
  {
   "cell_type": "code",
   "execution_count": null,
   "id": "980f69cd",
   "metadata": {},
   "outputs": [],
   "source": []
  }
 ],
 "metadata": {
  "kernelspec": {
   "display_name": "Python 3",
   "language": "python",
   "name": "python3"
  },
  "language_info": {
   "codemirror_mode": {
    "name": "ipython",
    "version": 3
   },
   "file_extension": ".py",
   "mimetype": "text/x-python",
   "name": "python",
   "nbconvert_exporter": "python",
   "pygments_lexer": "ipython3",
   "version": "3.8.8"
  }
 },
 "nbformat": 4,
 "nbformat_minor": 5
}
