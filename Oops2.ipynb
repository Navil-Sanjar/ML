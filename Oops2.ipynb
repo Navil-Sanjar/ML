{
 "cells": [
  {
   "cell_type": "markdown",
   "id": "ada5bdc6",
   "metadata": {},
   "source": [
    "\n",
    "-METHOD OVERRIDING"
   ]
  },
  {
   "cell_type": "code",
   "execution_count": 3,
   "id": "8b9438f4",
   "metadata": {},
   "outputs": [
    {
     "name": "stdout",
     "output_type": "stream",
     "text": [
      "Navil Sanjar was born in 1992\n",
      "29\n"
     ]
    }
   ],
   "source": [
    "class Person:\n",
    "    def __init__(self,name,surname,year_of_birth):\n",
    "        self.name1=name\n",
    "        self.surname1=surname\n",
    "        self.year_of_birth=year_of_birth\n",
    "    \n",
    "    def age(a,current_year):\n",
    "        return current_year-a.year_of_birth\n",
    "    \n",
    "    def __str__(self):\n",
    "        return \"%s %s was born in %d\"%(self.name1,self.surname1,self.year_of_birth)\n",
    "    \n",
    "Me=Person(\"Navil\",\"Sanjar\",1992)\n",
    "print(Me)\n",
    "print(Me.age(2021))\n",
    "\n",
    "class Employee(Person):\n",
    "    def __init__(e,emp_id,*args):\n",
    "        super(Employee,e).__init__(*args)\n",
    "        e.emp_id=emp_id\n",
    "        \n",
    "    def __str__(e):\n",
    "        return super(Employee,e).__str__()+' and his Employee ID is %d'%(e.emp_id)\n",
    "        \n",
    "        \n",
    "emp=Employee(3434,'Ramesh','Kumar',1986)\n",
    "print(emp)\n",
    "print(emp.age(2021))\n",
    "    "
   ]
  },
  {
   "cell_type": "markdown",
   "id": "9d3fece1",
   "metadata": {},
   "source": [
    "-ENCAPSULATION"
   ]
  },
  {
   "cell_type": "code",
   "execution_count": 2,
   "id": "72b485ca",
   "metadata": {},
   "outputs": [],
   "source": [
    "#composition"
   ]
  },
  {
   "cell_type": "code",
   "execution_count": 1,
   "id": "458d6021",
   "metadata": {},
   "outputs": [
    {
     "name": "stdout",
     "output_type": "stream",
     "text": [
      "Tyres: \n",
      " \tBranch: Pirelli\n",
      " \tBelted-bias: True\n",
      " \tOptimal pressure: 2.0\n",
      "Engine: \n",
      " \tFuel type: Diesel\n",
      " \tNoise level:3\n",
      "Body:\n",
      " \tSize: Medium\n"
     ]
    }
   ],
   "source": [
    "class Tyres:\n",
    "    def __init__(self, branch, belted_bias, opt_pressure):\n",
    "        self.branch = branch\n",
    "        self.belted_bias = belted_bias\n",
    "        self.opt_pressure = opt_pressure\n",
    "        \n",
    "    def __str__(self):\n",
    "        return (\"Tyres: \\n \\tBranch: \" + self.branch +\n",
    "               \"\\n \\tBelted-bias: \" + str(self.belted_bias) + \n",
    "               \"\\n \\tOptimal pressure: \" + str(self.opt_pressure))\n",
    "        \n",
    "class Engine:\n",
    "    def __init__(self, fuel_type, noise_level):\n",
    "        self.fuel_type = fuel_type\n",
    "        self.noise_level = noise_level\n",
    "        \n",
    "    def __str__(self):\n",
    "        return (\"Engine: \\n \\tFuel type: \" + self.fuel_type +\n",
    "                \"\\n \\tNoise level:\" + str(self.noise_level))\n",
    "        \n",
    "class Body:\n",
    "    def __init__(self, size):\n",
    "        self.size = size\n",
    "        \n",
    "    def __str__(self):\n",
    "        return \"Body:\\n \\tSize: \" + self.size\n",
    "        \n",
    "class Car:\n",
    "    def __init__(self, tyres, engine, body):\n",
    "        self.tyres = tyres\n",
    "        self.engine = engine\n",
    "        self.body = body\n",
    "        \n",
    "    def __str__(self):\n",
    "        return str(self.tyres) + \"\\n\" + str(self.engine) + \"\\n\" + str(self.body)\n",
    "\n",
    "        \n",
    "t = Tyres('Pirelli', True, 2.0)\n",
    "e = Engine('Diesel', 3)\n",
    "b = Body('Medium')\n",
    "c = Car(t, e, b)\n",
    "print(c)"
   ]
  },
  {
   "cell_type": "code",
   "execution_count": 4,
   "id": "d7882164",
   "metadata": {},
   "outputs": [],
   "source": [
    "#Dynamic Extension"
   ]
  },
  {
   "cell_type": "code",
   "execution_count": 8,
   "id": "94da6a77",
   "metadata": {},
   "outputs": [
    {
     "name": "stdout",
     "output_type": "stream",
     "text": [
      "Tommy is a Labrador born in 2016\n"
     ]
    }
   ],
   "source": [
    "class Dog: \n",
    "    def __init__(self,name,year_of_birth,breed):\n",
    "        self.name=name\n",
    "        self.year_of_birth=year_of_birth\n",
    "        self.breed=breed\n",
    "        \n",
    "    def __str__(self):\n",
    "        return \"%s is a %s born in %d\"%(self.name,self.breed,self.year_of_birth)\n",
    "    \n",
    "T=Dog(\"Tommy\",2016,\"Labrador\")\n",
    "print(T)"
   ]
  },
  {
   "cell_type": "code",
   "execution_count": 13,
   "id": "9a8a6563",
   "metadata": {},
   "outputs": [
    {
     "name": "stdout",
     "output_type": "stream",
     "text": [
      "USA\tStudent id is 1223484\n",
      "Tommy is a Labrador born in 2016\tStudent id is 956565657\n"
     ]
    }
   ],
   "source": [
    "class Student:\n",
    "    def __init__(self,Origin,student_id):\n",
    "        self.Origin=Origin\n",
    "        self.student_id=student_id\n",
    "        \n",
    "    def __str__(self):\n",
    "        return str(self.Origin)+\"\\tStudent id is %d\"%(self.student_id)\n",
    "a=Student(\"USA\",1223484)\n",
    "b=Student(T,956565657)\n",
    "print(a)\n",
    "print(b)"
   ]
  },
  {
   "cell_type": "markdown",
   "id": "2d50b08d",
   "metadata": {},
   "source": [
    "POLYMORPHISM\n",
    "-If a fuction or class performs some task depending on the requirement without changing code then this feature of opps is polymorphism."
   ]
  },
  {
   "cell_type": "code",
   "execution_count": 1,
   "id": "018ccc98",
   "metadata": {},
   "outputs": [
    {
     "name": "stdout",
     "output_type": "stream",
     "text": [
      "2\n",
      "['a', 'b', 'c', 'd', 'e']\n",
      "abracadabra\n"
     ]
    }
   ],
   "source": [
    "def summer(a, b):\n",
    "    return a + b\n",
    "\n",
    "print(summer(1, 1))\n",
    "print(summer([\"a\", \"b\", \"c\"], [\"d\", \"e\"]))\n",
    "print(summer(\"abra\", \"cadabra\"))\n"
   ]
  },
  {
   "cell_type": "code",
   "execution_count": null,
   "id": "eeefade8",
   "metadata": {},
   "outputs": [],
   "source": []
  }
 ],
 "metadata": {
  "kernelspec": {
   "display_name": "Python 3",
   "language": "python",
   "name": "python3"
  },
  "language_info": {
   "codemirror_mode": {
    "name": "ipython",
    "version": 3
   },
   "file_extension": ".py",
   "mimetype": "text/x-python",
   "name": "python",
   "nbconvert_exporter": "python",
   "pygments_lexer": "ipython3",
   "version": "3.8.8"
  }
 },
 "nbformat": 4,
 "nbformat_minor": 5
}
