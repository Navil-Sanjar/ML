{
 "cells": [
  {
   "cell_type": "markdown",
   "id": "bceeca41",
   "metadata": {},
   "source": [
    "# Pandas "
   ]
  },
  {
   "cell_type": "code",
   "execution_count": 1,
   "id": "c5a5c319",
   "metadata": {},
   "outputs": [],
   "source": [
    "import numpy as np #importing numpy \n",
    "import pandas as pd #importing pandas"
   ]
  },
  {
   "cell_type": "code",
   "execution_count": 2,
   "id": "2ceb6873",
   "metadata": {},
   "outputs": [],
   "source": [
    "s=pd.DataFrame(np.arange(0,16).reshape(4,4),index=['a','b','c','d'],columns=['s1','s2','s3','s4'])"
   ]
  },
  {
   "cell_type": "code",
   "execution_count": 3,
   "id": "fb94e9da",
   "metadata": {},
   "outputs": [
    {
     "data": {
      "text/html": [
       "<div>\n",
       "<style scoped>\n",
       "    .dataframe tbody tr th:only-of-type {\n",
       "        vertical-align: middle;\n",
       "    }\n",
       "\n",
       "    .dataframe tbody tr th {\n",
       "        vertical-align: top;\n",
       "    }\n",
       "\n",
       "    .dataframe thead th {\n",
       "        text-align: right;\n",
       "    }\n",
       "</style>\n",
       "<table border=\"1\" class=\"dataframe\">\n",
       "  <thead>\n",
       "    <tr style=\"text-align: right;\">\n",
       "      <th></th>\n",
       "      <th>s1</th>\n",
       "      <th>s2</th>\n",
       "      <th>s3</th>\n",
       "      <th>s4</th>\n",
       "    </tr>\n",
       "  </thead>\n",
       "  <tbody>\n",
       "    <tr>\n",
       "      <th>a</th>\n",
       "      <td>0</td>\n",
       "      <td>1</td>\n",
       "      <td>2</td>\n",
       "      <td>3</td>\n",
       "    </tr>\n",
       "    <tr>\n",
       "      <th>b</th>\n",
       "      <td>4</td>\n",
       "      <td>5</td>\n",
       "      <td>6</td>\n",
       "      <td>7</td>\n",
       "    </tr>\n",
       "    <tr>\n",
       "      <th>c</th>\n",
       "      <td>8</td>\n",
       "      <td>9</td>\n",
       "      <td>10</td>\n",
       "      <td>11</td>\n",
       "    </tr>\n",
       "    <tr>\n",
       "      <th>d</th>\n",
       "      <td>12</td>\n",
       "      <td>13</td>\n",
       "      <td>14</td>\n",
       "      <td>15</td>\n",
       "    </tr>\n",
       "  </tbody>\n",
       "</table>\n",
       "</div>"
      ],
      "text/plain": [
       "   s1  s2  s3  s4\n",
       "a   0   1   2   3\n",
       "b   4   5   6   7\n",
       "c   8   9  10  11\n",
       "d  12  13  14  15"
      ]
     },
     "execution_count": 3,
     "metadata": {},
     "output_type": "execute_result"
    }
   ],
   "source": [
    "s.head()"
   ]
  },
  {
   "cell_type": "code",
   "execution_count": 4,
   "id": "915b159e",
   "metadata": {},
   "outputs": [],
   "source": [
    "s.to_csv('Test1.csv')"
   ]
  },
  {
   "cell_type": "code",
   "execution_count": 5,
   "id": "2ae30331",
   "metadata": {},
   "outputs": [
    {
     "data": {
      "text/plain": [
       "pandas.core.series.Series"
      ]
     },
     "execution_count": 5,
     "metadata": {},
     "output_type": "execute_result"
    }
   ],
   "source": [
    "#accessing the elements\n",
    "#locating\n",
    "s.loc['d']\n",
    "s\n",
    "type(s.loc['d'])\n"
   ]
  },
  {
   "cell_type": "code",
   "execution_count": 6,
   "id": "f0523b5e",
   "metadata": {},
   "outputs": [
    {
     "data": {
      "text/plain": [
       "s1    12\n",
       "s2    13\n",
       "s3    14\n",
       "s4    15\n",
       "Name: d, dtype: int32"
      ]
     },
     "execution_count": 6,
     "metadata": {},
     "output_type": "execute_result"
    }
   ],
   "source": [
    "s.loc['d']"
   ]
  },
  {
   "cell_type": "code",
   "execution_count": 7,
   "id": "5db28bf5",
   "metadata": {},
   "outputs": [
    {
     "data": {
      "text/html": [
       "<div>\n",
       "<style scoped>\n",
       "    .dataframe tbody tr th:only-of-type {\n",
       "        vertical-align: middle;\n",
       "    }\n",
       "\n",
       "    .dataframe tbody tr th {\n",
       "        vertical-align: top;\n",
       "    }\n",
       "\n",
       "    .dataframe thead th {\n",
       "        text-align: right;\n",
       "    }\n",
       "</style>\n",
       "<table border=\"1\" class=\"dataframe\">\n",
       "  <thead>\n",
       "    <tr style=\"text-align: right;\">\n",
       "      <th></th>\n",
       "      <th>s2</th>\n",
       "      <th>s3</th>\n",
       "    </tr>\n",
       "  </thead>\n",
       "  <tbody>\n",
       "    <tr>\n",
       "      <th>b</th>\n",
       "      <td>5</td>\n",
       "      <td>6</td>\n",
       "    </tr>\n",
       "    <tr>\n",
       "      <th>c</th>\n",
       "      <td>9</td>\n",
       "      <td>10</td>\n",
       "    </tr>\n",
       "  </tbody>\n",
       "</table>\n",
       "</div>"
      ],
      "text/plain": [
       "   s2  s3\n",
       "b   5   6\n",
       "c   9  10"
      ]
     },
     "execution_count": 7,
     "metadata": {},
     "output_type": "execute_result"
    }
   ],
   "source": [
    "s.iloc[1:3,1:3]"
   ]
  },
  {
   "cell_type": "code",
   "execution_count": 8,
   "id": "d95725d8",
   "metadata": {},
   "outputs": [
    {
     "data": {
      "text/plain": [
       "pandas.core.frame.DataFrame"
      ]
     },
     "execution_count": 8,
     "metadata": {},
     "output_type": "execute_result"
    }
   ],
   "source": [
    "type(s.iloc[1:3,1:3])"
   ]
  },
  {
   "cell_type": "code",
   "execution_count": 9,
   "id": "bcb72cc7",
   "metadata": {},
   "outputs": [
    {
     "data": {
      "text/plain": [
       "pandas.core.series.Series"
      ]
     },
     "execution_count": 9,
     "metadata": {},
     "output_type": "execute_result"
    }
   ],
   "source": [
    "type(s.iloc[1:3,0]) #this is not a Dataframe "
   ]
  },
  {
   "cell_type": "code",
   "execution_count": 10,
   "id": "4e1c2f89",
   "metadata": {},
   "outputs": [
    {
     "data": {
      "text/plain": [
       "array([[ 0,  1,  2,  3],\n",
       "       [ 4,  5,  6,  7],\n",
       "       [ 8,  9, 10, 11],\n",
       "       [12, 13, 14, 15]])"
      ]
     },
     "execution_count": 10,
     "metadata": {},
     "output_type": "execute_result"
    }
   ],
   "source": [
    "#convert Dataframe into arrays\n",
    "s.iloc[:,:].values"
   ]
  },
  {
   "cell_type": "code",
   "execution_count": 11,
   "id": "d67269d6",
   "metadata": {},
   "outputs": [
    {
     "data": {
      "text/plain": [
       "s1    0\n",
       "s2    0\n",
       "s3    0\n",
       "s4    0\n",
       "dtype: int64"
      ]
     },
     "execution_count": 11,
     "metadata": {},
     "output_type": "execute_result"
    }
   ],
   "source": [
    "s.isnull().sum()"
   ]
  },
  {
   "cell_type": "code",
   "execution_count": 12,
   "id": "fadda940",
   "metadata": {},
   "outputs": [
    {
     "data": {
      "text/html": [
       "<div>\n",
       "<style scoped>\n",
       "    .dataframe tbody tr th:only-of-type {\n",
       "        vertical-align: middle;\n",
       "    }\n",
       "\n",
       "    .dataframe tbody tr th {\n",
       "        vertical-align: top;\n",
       "    }\n",
       "\n",
       "    .dataframe thead th {\n",
       "        text-align: right;\n",
       "    }\n",
       "</style>\n",
       "<table border=\"1\" class=\"dataframe\">\n",
       "  <thead>\n",
       "    <tr style=\"text-align: right;\">\n",
       "      <th></th>\n",
       "      <th>s1</th>\n",
       "      <th>s2</th>\n",
       "      <th>s3</th>\n",
       "      <th>s4</th>\n",
       "    </tr>\n",
       "  </thead>\n",
       "  <tbody>\n",
       "    <tr>\n",
       "      <th>a</th>\n",
       "      <td>0</td>\n",
       "      <td>1</td>\n",
       "      <td>2</td>\n",
       "      <td>3</td>\n",
       "    </tr>\n",
       "    <tr>\n",
       "      <th>b</th>\n",
       "      <td>4</td>\n",
       "      <td>5</td>\n",
       "      <td>6</td>\n",
       "      <td>7</td>\n",
       "    </tr>\n",
       "    <tr>\n",
       "      <th>c</th>\n",
       "      <td>8</td>\n",
       "      <td>9</td>\n",
       "      <td>10</td>\n",
       "      <td>11</td>\n",
       "    </tr>\n",
       "    <tr>\n",
       "      <th>d</th>\n",
       "      <td>12</td>\n",
       "      <td>13</td>\n",
       "      <td>14</td>\n",
       "      <td>15</td>\n",
       "    </tr>\n",
       "  </tbody>\n",
       "</table>\n",
       "</div>"
      ],
      "text/plain": [
       "   s1  s2  s3  s4\n",
       "a   0   1   2   3\n",
       "b   4   5   6   7\n",
       "c   8   9  10  11\n",
       "d  12  13  14  15"
      ]
     },
     "execution_count": 12,
     "metadata": {},
     "output_type": "execute_result"
    }
   ],
   "source": [
    "s"
   ]
  },
  {
   "cell_type": "code",
   "execution_count": 13,
   "id": "40396cd9",
   "metadata": {},
   "outputs": [
    {
     "data": {
      "text/plain": [
       "0     1\n",
       "8     1\n",
       "4     1\n",
       "12    1\n",
       "Name: s1, dtype: int64"
      ]
     },
     "execution_count": 13,
     "metadata": {},
     "output_type": "execute_result"
    }
   ],
   "source": [
    "s['s1'].value_counts()"
   ]
  },
  {
   "cell_type": "code",
   "execution_count": 14,
   "id": "ae134d26",
   "metadata": {},
   "outputs": [
    {
     "data": {
      "text/plain": [
       "array([ 0,  4,  8, 12])"
      ]
     },
     "execution_count": 14,
     "metadata": {},
     "output_type": "execute_result"
    }
   ],
   "source": [
    "s['s1'].unique()"
   ]
  },
  {
   "cell_type": "code",
   "execution_count": 15,
   "id": "02a35496",
   "metadata": {},
   "outputs": [
    {
     "data": {
      "text/plain": [
       "a     0\n",
       "b     4\n",
       "c     8\n",
       "d    12\n",
       "Name: s1, dtype: int32"
      ]
     },
     "execution_count": 15,
     "metadata": {},
     "output_type": "execute_result"
    }
   ],
   "source": [
    "s['s1']"
   ]
  },
  {
   "cell_type": "code",
   "execution_count": 16,
   "id": "5a4cfccf",
   "metadata": {},
   "outputs": [
    {
     "data": {
      "text/html": [
       "<div>\n",
       "<style scoped>\n",
       "    .dataframe tbody tr th:only-of-type {\n",
       "        vertical-align: middle;\n",
       "    }\n",
       "\n",
       "    .dataframe tbody tr th {\n",
       "        vertical-align: top;\n",
       "    }\n",
       "\n",
       "    .dataframe thead th {\n",
       "        text-align: right;\n",
       "    }\n",
       "</style>\n",
       "<table border=\"1\" class=\"dataframe\">\n",
       "  <thead>\n",
       "    <tr style=\"text-align: right;\">\n",
       "      <th></th>\n",
       "      <th>s1</th>\n",
       "      <th>s2</th>\n",
       "      <th>s3</th>\n",
       "      <th>s4</th>\n",
       "    </tr>\n",
       "  </thead>\n",
       "  <tbody>\n",
       "    <tr>\n",
       "      <th>a</th>\n",
       "      <td>0</td>\n",
       "      <td>1</td>\n",
       "      <td>2</td>\n",
       "      <td>3</td>\n",
       "    </tr>\n",
       "    <tr>\n",
       "      <th>b</th>\n",
       "      <td>4</td>\n",
       "      <td>5</td>\n",
       "      <td>6</td>\n",
       "      <td>7</td>\n",
       "    </tr>\n",
       "    <tr>\n",
       "      <th>c</th>\n",
       "      <td>8</td>\n",
       "      <td>9</td>\n",
       "      <td>10</td>\n",
       "      <td>11</td>\n",
       "    </tr>\n",
       "    <tr>\n",
       "      <th>d</th>\n",
       "      <td>12</td>\n",
       "      <td>13</td>\n",
       "      <td>14</td>\n",
       "      <td>15</td>\n",
       "    </tr>\n",
       "  </tbody>\n",
       "</table>\n",
       "</div>"
      ],
      "text/plain": [
       "   s1  s2  s3  s4\n",
       "a   0   1   2   3\n",
       "b   4   5   6   7\n",
       "c   8   9  10  11\n",
       "d  12  13  14  15"
      ]
     },
     "execution_count": 16,
     "metadata": {},
     "output_type": "execute_result"
    }
   ],
   "source": [
    "#Reading a csv file\n",
    "s"
   ]
  },
  {
   "cell_type": "code",
   "execution_count": 17,
   "id": "7f3df3be",
   "metadata": {},
   "outputs": [],
   "source": [
    "s=pd.read_csv('Import_User_Sample_en.csv')"
   ]
  },
  {
   "cell_type": "code",
   "execution_count": 18,
   "id": "5e770e88",
   "metadata": {},
   "outputs": [
    {
     "data": {
      "text/html": [
       "<div>\n",
       "<style scoped>\n",
       "    .dataframe tbody tr th:only-of-type {\n",
       "        vertical-align: middle;\n",
       "    }\n",
       "\n",
       "    .dataframe tbody tr th {\n",
       "        vertical-align: top;\n",
       "    }\n",
       "\n",
       "    .dataframe thead th {\n",
       "        text-align: right;\n",
       "    }\n",
       "</style>\n",
       "<table border=\"1\" class=\"dataframe\">\n",
       "  <thead>\n",
       "    <tr style=\"text-align: right;\">\n",
       "      <th></th>\n",
       "      <th>User Name</th>\n",
       "      <th>First Name</th>\n",
       "      <th>Last Name</th>\n",
       "      <th>Display Name</th>\n",
       "      <th>Job Title</th>\n",
       "      <th>Department</th>\n",
       "      <th>Office Number</th>\n",
       "      <th>Office Phone</th>\n",
       "      <th>Mobile Phone</th>\n",
       "      <th>Fax</th>\n",
       "      <th>Address</th>\n",
       "      <th>City</th>\n",
       "      <th>State or Province</th>\n",
       "      <th>ZIP or Postal Code</th>\n",
       "      <th>Country or Region</th>\n",
       "    </tr>\n",
       "  </thead>\n",
       "  <tbody>\n",
       "    <tr>\n",
       "      <th>0</th>\n",
       "      <td>chris@contoso.com</td>\n",
       "      <td>Chris</td>\n",
       "      <td>Green</td>\n",
       "      <td>Chris Green</td>\n",
       "      <td>IT Manager</td>\n",
       "      <td>Information Technology</td>\n",
       "      <td>123451</td>\n",
       "      <td>123-555-1211</td>\n",
       "      <td>123-555-6641</td>\n",
       "      <td>123-555-9821</td>\n",
       "      <td>1 Microsoft way</td>\n",
       "      <td>Redmond</td>\n",
       "      <td>Wa</td>\n",
       "      <td>98052</td>\n",
       "      <td>United States</td>\n",
       "    </tr>\n",
       "    <tr>\n",
       "      <th>1</th>\n",
       "      <td>ben@contoso.com</td>\n",
       "      <td>Ben</td>\n",
       "      <td>Andrews</td>\n",
       "      <td>Ben Andrews</td>\n",
       "      <td>IT Manager</td>\n",
       "      <td>Information Technology</td>\n",
       "      <td>123452</td>\n",
       "      <td>123-555-1212</td>\n",
       "      <td>123-555-6642</td>\n",
       "      <td>123-555-9822</td>\n",
       "      <td>1 Microsoft way</td>\n",
       "      <td>Redmond</td>\n",
       "      <td>Wa</td>\n",
       "      <td>98052</td>\n",
       "      <td>United States</td>\n",
       "    </tr>\n",
       "    <tr>\n",
       "      <th>2</th>\n",
       "      <td>david@contoso.com</td>\n",
       "      <td>David</td>\n",
       "      <td>Longmuir</td>\n",
       "      <td>David Longmuir</td>\n",
       "      <td>IT Manager</td>\n",
       "      <td>Information Technology</td>\n",
       "      <td>123453</td>\n",
       "      <td>123-555-1213</td>\n",
       "      <td>123-555-6643</td>\n",
       "      <td>123-555-9823</td>\n",
       "      <td>1 Microsoft way</td>\n",
       "      <td>Redmond</td>\n",
       "      <td>Wa</td>\n",
       "      <td>98052</td>\n",
       "      <td>United States</td>\n",
       "    </tr>\n",
       "    <tr>\n",
       "      <th>3</th>\n",
       "      <td>cynthia@contoso.com</td>\n",
       "      <td>Cynthia</td>\n",
       "      <td>Carey</td>\n",
       "      <td>Cynthia Carey</td>\n",
       "      <td>IT Manager</td>\n",
       "      <td>Information Technology</td>\n",
       "      <td>123454</td>\n",
       "      <td>123-555-1214</td>\n",
       "      <td>123-555-6644</td>\n",
       "      <td>123-555-9824</td>\n",
       "      <td>1 Microsoft way</td>\n",
       "      <td>Redmond</td>\n",
       "      <td>Wa</td>\n",
       "      <td>98052</td>\n",
       "      <td>United States</td>\n",
       "    </tr>\n",
       "    <tr>\n",
       "      <th>4</th>\n",
       "      <td>melissa@contoso.com</td>\n",
       "      <td>Melissa</td>\n",
       "      <td>MacBeth</td>\n",
       "      <td>Melissa MacBeth</td>\n",
       "      <td>IT Manager</td>\n",
       "      <td>Information Technology</td>\n",
       "      <td>123455</td>\n",
       "      <td>123-555-1215</td>\n",
       "      <td>123-555-6645</td>\n",
       "      <td>123-555-9825</td>\n",
       "      <td>1 Microsoft way</td>\n",
       "      <td>Redmond</td>\n",
       "      <td>Wa</td>\n",
       "      <td>98052</td>\n",
       "      <td>United States</td>\n",
       "    </tr>\n",
       "  </tbody>\n",
       "</table>\n",
       "</div>"
      ],
      "text/plain": [
       "             User Name First Name Last Name     Display Name   Job Title  \\\n",
       "0    chris@contoso.com      Chris     Green      Chris Green  IT Manager   \n",
       "1      ben@contoso.com        Ben   Andrews      Ben Andrews  IT Manager   \n",
       "2    david@contoso.com      David  Longmuir   David Longmuir  IT Manager   \n",
       "3  cynthia@contoso.com    Cynthia     Carey    Cynthia Carey  IT Manager   \n",
       "4  melissa@contoso.com    Melissa   MacBeth  Melissa MacBeth  IT Manager   \n",
       "\n",
       "               Department  Office Number  Office Phone  Mobile Phone  \\\n",
       "0  Information Technology         123451  123-555-1211  123-555-6641   \n",
       "1  Information Technology         123452  123-555-1212  123-555-6642   \n",
       "2  Information Technology         123453  123-555-1213  123-555-6643   \n",
       "3  Information Technology         123454  123-555-1214  123-555-6644   \n",
       "4  Information Technology         123455  123-555-1215  123-555-6645   \n",
       "\n",
       "            Fax          Address     City State or Province  \\\n",
       "0  123-555-9821  1 Microsoft way  Redmond                Wa   \n",
       "1  123-555-9822  1 Microsoft way  Redmond                Wa   \n",
       "2  123-555-9823  1 Microsoft way  Redmond                Wa   \n",
       "3  123-555-9824  1 Microsoft way  Redmond                Wa   \n",
       "4  123-555-9825  1 Microsoft way  Redmond                Wa   \n",
       "\n",
       "   ZIP or Postal Code Country or Region  \n",
       "0               98052     United States  \n",
       "1               98052     United States  \n",
       "2               98052     United States  \n",
       "3               98052     United States  \n",
       "4               98052     United States  "
      ]
     },
     "execution_count": 18,
     "metadata": {},
     "output_type": "execute_result"
    }
   ],
   "source": [
    "s.head()"
   ]
  },
  {
   "cell_type": "code",
   "execution_count": 19,
   "id": "dd1002f3",
   "metadata": {},
   "outputs": [
    {
     "name": "stdout",
     "output_type": "stream",
     "text": [
      "<class 'pandas.core.frame.DataFrame'>\n",
      "RangeIndex: 5 entries, 0 to 4\n",
      "Data columns (total 15 columns):\n",
      " #   Column              Non-Null Count  Dtype \n",
      "---  ------              --------------  ----- \n",
      " 0   User Name           5 non-null      object\n",
      " 1   First Name          5 non-null      object\n",
      " 2   Last Name           5 non-null      object\n",
      " 3   Display Name        5 non-null      object\n",
      " 4   Job Title           5 non-null      object\n",
      " 5   Department          5 non-null      object\n",
      " 6   Office Number       5 non-null      int64 \n",
      " 7   Office Phone        5 non-null      object\n",
      " 8   Mobile Phone        5 non-null      object\n",
      " 9   Fax                 5 non-null      object\n",
      " 10  Address             5 non-null      object\n",
      " 11  City                5 non-null      object\n",
      " 12  State or Province   5 non-null      object\n",
      " 13  ZIP or Postal Code  5 non-null      int64 \n",
      " 14  Country or Region   5 non-null      object\n",
      "dtypes: int64(2), object(13)\n",
      "memory usage: 728.0+ bytes\n"
     ]
    }
   ],
   "source": [
    "s.info()"
   ]
  },
  {
   "cell_type": "code",
   "execution_count": 20,
   "id": "31973955",
   "metadata": {},
   "outputs": [
    {
     "data": {
      "text/html": [
       "<div>\n",
       "<style scoped>\n",
       "    .dataframe tbody tr th:only-of-type {\n",
       "        vertical-align: middle;\n",
       "    }\n",
       "\n",
       "    .dataframe tbody tr th {\n",
       "        vertical-align: top;\n",
       "    }\n",
       "\n",
       "    .dataframe thead th {\n",
       "        text-align: right;\n",
       "    }\n",
       "</style>\n",
       "<table border=\"1\" class=\"dataframe\">\n",
       "  <thead>\n",
       "    <tr style=\"text-align: right;\">\n",
       "      <th></th>\n",
       "      <th>Office Number</th>\n",
       "      <th>ZIP or Postal Code</th>\n",
       "    </tr>\n",
       "  </thead>\n",
       "  <tbody>\n",
       "    <tr>\n",
       "      <th>count</th>\n",
       "      <td>5.000000</td>\n",
       "      <td>5.0</td>\n",
       "    </tr>\n",
       "    <tr>\n",
       "      <th>mean</th>\n",
       "      <td>123453.000000</td>\n",
       "      <td>98052.0</td>\n",
       "    </tr>\n",
       "    <tr>\n",
       "      <th>std</th>\n",
       "      <td>1.581139</td>\n",
       "      <td>0.0</td>\n",
       "    </tr>\n",
       "    <tr>\n",
       "      <th>min</th>\n",
       "      <td>123451.000000</td>\n",
       "      <td>98052.0</td>\n",
       "    </tr>\n",
       "    <tr>\n",
       "      <th>25%</th>\n",
       "      <td>123452.000000</td>\n",
       "      <td>98052.0</td>\n",
       "    </tr>\n",
       "    <tr>\n",
       "      <th>50%</th>\n",
       "      <td>123453.000000</td>\n",
       "      <td>98052.0</td>\n",
       "    </tr>\n",
       "    <tr>\n",
       "      <th>75%</th>\n",
       "      <td>123454.000000</td>\n",
       "      <td>98052.0</td>\n",
       "    </tr>\n",
       "    <tr>\n",
       "      <th>max</th>\n",
       "      <td>123455.000000</td>\n",
       "      <td>98052.0</td>\n",
       "    </tr>\n",
       "  </tbody>\n",
       "</table>\n",
       "</div>"
      ],
      "text/plain": [
       "       Office Number  ZIP or Postal Code\n",
       "count       5.000000                 5.0\n",
       "mean   123453.000000             98052.0\n",
       "std         1.581139                 0.0\n",
       "min    123451.000000             98052.0\n",
       "25%    123452.000000             98052.0\n",
       "50%    123453.000000             98052.0\n",
       "75%    123454.000000             98052.0\n",
       "max    123455.000000             98052.0"
      ]
     },
     "execution_count": 20,
     "metadata": {},
     "output_type": "execute_result"
    }
   ],
   "source": [
    "s.describe()"
   ]
  },
  {
   "cell_type": "code",
   "execution_count": 21,
   "id": "d7ae642b",
   "metadata": {},
   "outputs": [],
   "source": [
    "test_df=pd.read_csv('Test1.csv')"
   ]
  },
  {
   "cell_type": "code",
   "execution_count": 22,
   "id": "6bba3147",
   "metadata": {},
   "outputs": [
    {
     "data": {
      "text/html": [
       "<div>\n",
       "<style scoped>\n",
       "    .dataframe tbody tr th:only-of-type {\n",
       "        vertical-align: middle;\n",
       "    }\n",
       "\n",
       "    .dataframe tbody tr th {\n",
       "        vertical-align: top;\n",
       "    }\n",
       "\n",
       "    .dataframe thead th {\n",
       "        text-align: right;\n",
       "    }\n",
       "</style>\n",
       "<table border=\"1\" class=\"dataframe\">\n",
       "  <thead>\n",
       "    <tr style=\"text-align: right;\">\n",
       "      <th></th>\n",
       "      <th>Unnamed: 0</th>\n",
       "      <th>s1</th>\n",
       "      <th>s2</th>\n",
       "      <th>s3</th>\n",
       "      <th>s4</th>\n",
       "    </tr>\n",
       "  </thead>\n",
       "  <tbody>\n",
       "    <tr>\n",
       "      <th>0</th>\n",
       "      <td>a</td>\n",
       "      <td>0</td>\n",
       "      <td>1</td>\n",
       "      <td>2</td>\n",
       "      <td>3</td>\n",
       "    </tr>\n",
       "    <tr>\n",
       "      <th>1</th>\n",
       "      <td>b</td>\n",
       "      <td>4</td>\n",
       "      <td>5</td>\n",
       "      <td>6</td>\n",
       "      <td>7</td>\n",
       "    </tr>\n",
       "    <tr>\n",
       "      <th>2</th>\n",
       "      <td>c</td>\n",
       "      <td>8</td>\n",
       "      <td>9</td>\n",
       "      <td>10</td>\n",
       "      <td>11</td>\n",
       "    </tr>\n",
       "    <tr>\n",
       "      <th>3</th>\n",
       "      <td>d</td>\n",
       "      <td>12</td>\n",
       "      <td>13</td>\n",
       "      <td>14</td>\n",
       "      <td>15</td>\n",
       "    </tr>\n",
       "  </tbody>\n",
       "</table>\n",
       "</div>"
      ],
      "text/plain": [
       "  Unnamed: 0  s1  s2  s3  s4\n",
       "0          a   0   1   2   3\n",
       "1          b   4   5   6   7\n",
       "2          c   8   9  10  11\n",
       "3          d  12  13  14  15"
      ]
     },
     "execution_count": 22,
     "metadata": {},
     "output_type": "execute_result"
    }
   ],
   "source": [
    "test_df.head()"
   ]
  },
  {
   "cell_type": "code",
   "execution_count": 23,
   "id": "23f45e4f",
   "metadata": {},
   "outputs": [
    {
     "data": {
      "text/plain": [
       "0     1\n",
       "8     1\n",
       "4     1\n",
       "12    1\n",
       "Name: s1, dtype: int64"
      ]
     },
     "execution_count": 23,
     "metadata": {},
     "output_type": "execute_result"
    }
   ],
   "source": [
    " test_df['s1'].value_counts()"
   ]
  },
  {
   "cell_type": "code",
   "execution_count": 24,
   "id": "c2d310c2",
   "metadata": {},
   "outputs": [],
   "source": [
    "from io import StringIO,BytesIO"
   ]
  },
  {
   "cell_type": "code",
   "execution_count": 25,
   "id": "f0737575",
   "metadata": {},
   "outputs": [],
   "source": [
    "data=('col1,col2,col3\\n'\n",
    "         'a,b,c\\n'\n",
    "         'd,e,f\\n'\n",
    "         'g,h,i')"
   ]
  },
  {
   "cell_type": "code",
   "execution_count": 26,
   "id": "11f000e5",
   "metadata": {},
   "outputs": [
    {
     "data": {
      "text/plain": [
       "str"
      ]
     },
     "execution_count": 26,
     "metadata": {},
     "output_type": "execute_result"
    }
   ],
   "source": [
    "type(data)"
   ]
  },
  {
   "cell_type": "code",
   "execution_count": 27,
   "id": "3407f171",
   "metadata": {},
   "outputs": [
    {
     "data": {
      "text/plain": [
       "<_io.StringIO at 0x20be8d6a1f0>"
      ]
     },
     "execution_count": 27,
     "metadata": {},
     "output_type": "execute_result"
    }
   ],
   "source": [
    "StringIO()"
   ]
  },
  {
   "cell_type": "code",
   "execution_count": 28,
   "id": "c42f1b9b",
   "metadata": {},
   "outputs": [
    {
     "data": {
      "text/html": [
       "<div>\n",
       "<style scoped>\n",
       "    .dataframe tbody tr th:only-of-type {\n",
       "        vertical-align: middle;\n",
       "    }\n",
       "\n",
       "    .dataframe tbody tr th {\n",
       "        vertical-align: top;\n",
       "    }\n",
       "\n",
       "    .dataframe thead th {\n",
       "        text-align: right;\n",
       "    }\n",
       "</style>\n",
       "<table border=\"1\" class=\"dataframe\">\n",
       "  <thead>\n",
       "    <tr style=\"text-align: right;\">\n",
       "      <th></th>\n",
       "      <th>col1</th>\n",
       "      <th>col2</th>\n",
       "      <th>col3</th>\n",
       "    </tr>\n",
       "  </thead>\n",
       "  <tbody>\n",
       "    <tr>\n",
       "      <th>0</th>\n",
       "      <td>a</td>\n",
       "      <td>b</td>\n",
       "      <td>c</td>\n",
       "    </tr>\n",
       "    <tr>\n",
       "      <th>1</th>\n",
       "      <td>d</td>\n",
       "      <td>e</td>\n",
       "      <td>f</td>\n",
       "    </tr>\n",
       "    <tr>\n",
       "      <th>2</th>\n",
       "      <td>g</td>\n",
       "      <td>h</td>\n",
       "      <td>i</td>\n",
       "    </tr>\n",
       "  </tbody>\n",
       "</table>\n",
       "</div>"
      ],
      "text/plain": [
       "  col1 col2 col3\n",
       "0    a    b    c\n",
       "1    d    e    f\n",
       "2    g    h    i"
      ]
     },
     "execution_count": 28,
     "metadata": {},
     "output_type": "execute_result"
    }
   ],
   "source": [
    "pd.read_csv(StringIO(data))"
   ]
  },
  {
   "cell_type": "code",
   "execution_count": 29,
   "id": "5e64d51b",
   "metadata": {},
   "outputs": [],
   "source": [
    "d=pd.read_csv(StringIO(data),usecols=['col1','col2'] )"
   ]
  },
  {
   "cell_type": "code",
   "execution_count": 30,
   "id": "33e2de4e",
   "metadata": {},
   "outputs": [
    {
     "data": {
      "text/html": [
       "<div>\n",
       "<style scoped>\n",
       "    .dataframe tbody tr th:only-of-type {\n",
       "        vertical-align: middle;\n",
       "    }\n",
       "\n",
       "    .dataframe tbody tr th {\n",
       "        vertical-align: top;\n",
       "    }\n",
       "\n",
       "    .dataframe thead th {\n",
       "        text-align: right;\n",
       "    }\n",
       "</style>\n",
       "<table border=\"1\" class=\"dataframe\">\n",
       "  <thead>\n",
       "    <tr style=\"text-align: right;\">\n",
       "      <th></th>\n",
       "      <th>col1</th>\n",
       "      <th>col2</th>\n",
       "    </tr>\n",
       "  </thead>\n",
       "  <tbody>\n",
       "    <tr>\n",
       "      <th>0</th>\n",
       "      <td>a</td>\n",
       "      <td>b</td>\n",
       "    </tr>\n",
       "    <tr>\n",
       "      <th>1</th>\n",
       "      <td>d</td>\n",
       "      <td>e</td>\n",
       "    </tr>\n",
       "    <tr>\n",
       "      <th>2</th>\n",
       "      <td>g</td>\n",
       "      <td>h</td>\n",
       "    </tr>\n",
       "  </tbody>\n",
       "</table>\n",
       "</div>"
      ],
      "text/plain": [
       "  col1 col2\n",
       "0    a    b\n",
       "1    d    e\n",
       "2    g    h"
      ]
     },
     "execution_count": 30,
     "metadata": {},
     "output_type": "execute_result"
    }
   ],
   "source": [
    "d"
   ]
  },
  {
   "cell_type": "code",
   "execution_count": 31,
   "id": "f5dd7ff1",
   "metadata": {},
   "outputs": [],
   "source": [
    "d.to_csv('tbl.csv')"
   ]
  },
  {
   "cell_type": "code",
   "execution_count": 32,
   "id": "11529d46",
   "metadata": {},
   "outputs": [
    {
     "data": {
      "text/html": [
       "<div>\n",
       "<style scoped>\n",
       "    .dataframe tbody tr th:only-of-type {\n",
       "        vertical-align: middle;\n",
       "    }\n",
       "\n",
       "    .dataframe tbody tr th {\n",
       "        vertical-align: top;\n",
       "    }\n",
       "\n",
       "    .dataframe thead th {\n",
       "        text-align: right;\n",
       "    }\n",
       "</style>\n",
       "<table border=\"1\" class=\"dataframe\">\n",
       "  <thead>\n",
       "    <tr style=\"text-align: right;\">\n",
       "      <th></th>\n",
       "      <th>col1</th>\n",
       "      <th>col2</th>\n",
       "    </tr>\n",
       "  </thead>\n",
       "  <tbody>\n",
       "    <tr>\n",
       "      <th>0</th>\n",
       "      <td>a</td>\n",
       "      <td>b</td>\n",
       "    </tr>\n",
       "    <tr>\n",
       "      <th>1</th>\n",
       "      <td>d</td>\n",
       "      <td>e</td>\n",
       "    </tr>\n",
       "    <tr>\n",
       "      <th>2</th>\n",
       "      <td>g</td>\n",
       "      <td>h</td>\n",
       "    </tr>\n",
       "  </tbody>\n",
       "</table>\n",
       "</div>"
      ],
      "text/plain": [
       "  col1 col2\n",
       "0    a    b\n",
       "1    d    e\n",
       "2    g    h"
      ]
     },
     "execution_count": 32,
     "metadata": {},
     "output_type": "execute_result"
    }
   ],
   "source": [
    "d"
   ]
  },
  {
   "cell_type": "code",
   "execution_count": 33,
   "id": "dc49e38d",
   "metadata": {},
   "outputs": [
    {
     "name": "stdout",
     "output_type": "stream",
     "text": [
      "col1,col2,col3\n",
      "a,b,c\n",
      "d,e,f\n",
      "g,h,i\n"
     ]
    }
   ],
   "source": [
    "print(data)"
   ]
  },
  {
   "cell_type": "code",
   "execution_count": 34,
   "id": "05c18fbd",
   "metadata": {},
   "outputs": [],
   "source": [
    "df=pd.read_csv(StringIO(data),dtype=object) #Making df as object type"
   ]
  },
  {
   "cell_type": "code",
   "execution_count": 35,
   "id": "faf39db8",
   "metadata": {},
   "outputs": [
    {
     "data": {
      "text/html": [
       "<div>\n",
       "<style scoped>\n",
       "    .dataframe tbody tr th:only-of-type {\n",
       "        vertical-align: middle;\n",
       "    }\n",
       "\n",
       "    .dataframe tbody tr th {\n",
       "        vertical-align: top;\n",
       "    }\n",
       "\n",
       "    .dataframe thead th {\n",
       "        text-align: right;\n",
       "    }\n",
       "</style>\n",
       "<table border=\"1\" class=\"dataframe\">\n",
       "  <thead>\n",
       "    <tr style=\"text-align: right;\">\n",
       "      <th></th>\n",
       "      <th>col1</th>\n",
       "      <th>col2</th>\n",
       "      <th>col3</th>\n",
       "    </tr>\n",
       "  </thead>\n",
       "  <tbody>\n",
       "    <tr>\n",
       "      <th>0</th>\n",
       "      <td>a</td>\n",
       "      <td>b</td>\n",
       "      <td>c</td>\n",
       "    </tr>\n",
       "    <tr>\n",
       "      <th>1</th>\n",
       "      <td>d</td>\n",
       "      <td>e</td>\n",
       "      <td>f</td>\n",
       "    </tr>\n",
       "    <tr>\n",
       "      <th>2</th>\n",
       "      <td>g</td>\n",
       "      <td>h</td>\n",
       "      <td>i</td>\n",
       "    </tr>\n",
       "  </tbody>\n",
       "</table>\n",
       "</div>"
      ],
      "text/plain": [
       "  col1 col2 col3\n",
       "0    a    b    c\n",
       "1    d    e    f\n",
       "2    g    h    i"
      ]
     },
     "execution_count": 35,
     "metadata": {},
     "output_type": "execute_result"
    }
   ],
   "source": [
    "df"
   ]
  },
  {
   "cell_type": "code",
   "execution_count": 36,
   "id": "84c8eb5e",
   "metadata": {},
   "outputs": [
    {
     "data": {
      "text/plain": [
       "str"
      ]
     },
     "execution_count": 36,
     "metadata": {},
     "output_type": "execute_result"
    }
   ],
   "source": [
    "type(df['col1'][2])"
   ]
  },
  {
   "cell_type": "code",
   "execution_count": 37,
   "id": "1184c278",
   "metadata": {},
   "outputs": [
    {
     "data": {
      "text/plain": [
       "'g'"
      ]
     },
     "execution_count": 37,
     "metadata": {},
     "output_type": "execute_result"
    }
   ],
   "source": [
    "df['col1'][2]"
   ]
  },
  {
   "cell_type": "code",
   "execution_count": 38,
   "id": "362324d7",
   "metadata": {},
   "outputs": [],
   "source": [
    "num=('col1,col2,col3\\n'\n",
    "         '1,2,3\\n'\n",
    "         '4,5,6\\n'\n",
    "         '7,8,9')"
   ]
  },
  {
   "cell_type": "code",
   "execution_count": 39,
   "id": "a235b2fd",
   "metadata": {},
   "outputs": [],
   "source": [
    "df=pd.read_csv(StringIO(num),dtype=float) #we can specify any data type for e.g float,int64,chr etc"
   ]
  },
  {
   "cell_type": "code",
   "execution_count": 40,
   "id": "ca576255",
   "metadata": {},
   "outputs": [
    {
     "data": {
      "text/html": [
       "<div>\n",
       "<style scoped>\n",
       "    .dataframe tbody tr th:only-of-type {\n",
       "        vertical-align: middle;\n",
       "    }\n",
       "\n",
       "    .dataframe tbody tr th {\n",
       "        vertical-align: top;\n",
       "    }\n",
       "\n",
       "    .dataframe thead th {\n",
       "        text-align: right;\n",
       "    }\n",
       "</style>\n",
       "<table border=\"1\" class=\"dataframe\">\n",
       "  <thead>\n",
       "    <tr style=\"text-align: right;\">\n",
       "      <th></th>\n",
       "      <th>col1</th>\n",
       "      <th>col2</th>\n",
       "      <th>col3</th>\n",
       "    </tr>\n",
       "  </thead>\n",
       "  <tbody>\n",
       "    <tr>\n",
       "      <th>0</th>\n",
       "      <td>1.0</td>\n",
       "      <td>2.0</td>\n",
       "      <td>3.0</td>\n",
       "    </tr>\n",
       "    <tr>\n",
       "      <th>1</th>\n",
       "      <td>4.0</td>\n",
       "      <td>5.0</td>\n",
       "      <td>6.0</td>\n",
       "    </tr>\n",
       "    <tr>\n",
       "      <th>2</th>\n",
       "      <td>7.0</td>\n",
       "      <td>8.0</td>\n",
       "      <td>9.0</td>\n",
       "    </tr>\n",
       "  </tbody>\n",
       "</table>\n",
       "</div>"
      ],
      "text/plain": [
       "   col1  col2  col3\n",
       "0   1.0   2.0   3.0\n",
       "1   4.0   5.0   6.0\n",
       "2   7.0   8.0   9.0"
      ]
     },
     "execution_count": 40,
     "metadata": {},
     "output_type": "execute_result"
    }
   ],
   "source": [
    "df"
   ]
  },
  {
   "cell_type": "code",
   "execution_count": 41,
   "id": "10f79aef",
   "metadata": {},
   "outputs": [],
   "source": [
    "df=pd.read_csv(StringIO(num),dtype={'col1':float,'col2':int,'col3':'int64'})#we can also specify multiple data type by using dict"
   ]
  },
  {
   "cell_type": "code",
   "execution_count": 42,
   "id": "4a278a13",
   "metadata": {},
   "outputs": [
    {
     "data": {
      "text/html": [
       "<div>\n",
       "<style scoped>\n",
       "    .dataframe tbody tr th:only-of-type {\n",
       "        vertical-align: middle;\n",
       "    }\n",
       "\n",
       "    .dataframe tbody tr th {\n",
       "        vertical-align: top;\n",
       "    }\n",
       "\n",
       "    .dataframe thead th {\n",
       "        text-align: right;\n",
       "    }\n",
       "</style>\n",
       "<table border=\"1\" class=\"dataframe\">\n",
       "  <thead>\n",
       "    <tr style=\"text-align: right;\">\n",
       "      <th></th>\n",
       "      <th>col1</th>\n",
       "      <th>col2</th>\n",
       "      <th>col3</th>\n",
       "    </tr>\n",
       "  </thead>\n",
       "  <tbody>\n",
       "    <tr>\n",
       "      <th>0</th>\n",
       "      <td>1.0</td>\n",
       "      <td>2</td>\n",
       "      <td>3</td>\n",
       "    </tr>\n",
       "    <tr>\n",
       "      <th>1</th>\n",
       "      <td>4.0</td>\n",
       "      <td>5</td>\n",
       "      <td>6</td>\n",
       "    </tr>\n",
       "    <tr>\n",
       "      <th>2</th>\n",
       "      <td>7.0</td>\n",
       "      <td>8</td>\n",
       "      <td>9</td>\n",
       "    </tr>\n",
       "  </tbody>\n",
       "</table>\n",
       "</div>"
      ],
      "text/plain": [
       "   col1  col2  col3\n",
       "0   1.0     2     3\n",
       "1   4.0     5     6\n",
       "2   7.0     8     9"
      ]
     },
     "execution_count": 42,
     "metadata": {},
     "output_type": "execute_result"
    }
   ],
   "source": [
    "df"
   ]
  },
  {
   "cell_type": "code",
   "execution_count": 43,
   "id": "638b91c7",
   "metadata": {},
   "outputs": [
    {
     "data": {
      "text/plain": [
       "9"
      ]
     },
     "execution_count": 43,
     "metadata": {},
     "output_type": "execute_result"
    }
   ],
   "source": [
    "df['col3'][2]"
   ]
  },
  {
   "cell_type": "code",
   "execution_count": 44,
   "id": "6df44708",
   "metadata": {},
   "outputs": [
    {
     "data": {
      "text/plain": [
       "numpy.int64"
      ]
     },
     "execution_count": 44,
     "metadata": {},
     "output_type": "execute_result"
    }
   ],
   "source": [
    "type(df['col3'][2])"
   ]
  },
  {
   "cell_type": "code",
   "execution_count": 62,
   "id": "207f10fe",
   "metadata": {},
   "outputs": [],
   "source": [
    "dt=('subject,marks_obtained,full_marks\\n'\n",
    "   'History,80,100\\n'\n",
    "   'Geography,60,100\\n')"
   ]
  },
  {
   "cell_type": "code",
   "execution_count": 53,
   "id": "0f91defd",
   "metadata": {},
   "outputs": [
    {
     "data": {
      "text/plain": [
       "str"
      ]
     },
     "execution_count": 53,
     "metadata": {},
     "output_type": "execute_result"
    }
   ],
   "source": [
    "type(dt)"
   ]
  },
  {
   "cell_type": "code",
   "execution_count": 63,
   "id": "6b5e0302",
   "metadata": {},
   "outputs": [],
   "source": [
    "dt_frm=pd.read_csv(StringIO(dt),index_col=0) #Making any columns as index"
   ]
  },
  {
   "cell_type": "code",
   "execution_count": 64,
   "id": "44d40ea7",
   "metadata": {},
   "outputs": [
    {
     "data": {
      "text/html": [
       "<div>\n",
       "<style scoped>\n",
       "    .dataframe tbody tr th:only-of-type {\n",
       "        vertical-align: middle;\n",
       "    }\n",
       "\n",
       "    .dataframe tbody tr th {\n",
       "        vertical-align: top;\n",
       "    }\n",
       "\n",
       "    .dataframe thead th {\n",
       "        text-align: right;\n",
       "    }\n",
       "</style>\n",
       "<table border=\"1\" class=\"dataframe\">\n",
       "  <thead>\n",
       "    <tr style=\"text-align: right;\">\n",
       "      <th></th>\n",
       "      <th>marks_obtained</th>\n",
       "      <th>full_marks</th>\n",
       "    </tr>\n",
       "    <tr>\n",
       "      <th>subject</th>\n",
       "      <th></th>\n",
       "      <th></th>\n",
       "    </tr>\n",
       "  </thead>\n",
       "  <tbody>\n",
       "    <tr>\n",
       "      <th>History</th>\n",
       "      <td>80</td>\n",
       "      <td>100</td>\n",
       "    </tr>\n",
       "    <tr>\n",
       "      <th>Geography</th>\n",
       "      <td>60</td>\n",
       "      <td>100</td>\n",
       "    </tr>\n",
       "  </tbody>\n",
       "</table>\n",
       "</div>"
      ],
      "text/plain": [
       "           marks_obtained  full_marks\n",
       "subject                              \n",
       "History                80         100\n",
       "Geography              60         100"
      ]
     },
     "execution_count": 64,
     "metadata": {},
     "output_type": "execute_result"
    }
   ],
   "source": [
    "dt_frm"
   ]
  },
  {
   "cell_type": "code",
   "execution_count": 75,
   "id": "62319633",
   "metadata": {},
   "outputs": [],
   "source": [
    "dt2=('a,b,c\\n'\n",
    "    '1,apple,banana\\n'\n",
    "    '2,Orange,grapes')"
   ]
  },
  {
   "cell_type": "code",
   "execution_count": 66,
   "id": "398b34f0",
   "metadata": {},
   "outputs": [
    {
     "data": {
      "text/plain": [
       "'a,b,c\\n1,apple,banana\\n2,Orange,grapes'"
      ]
     },
     "execution_count": 66,
     "metadata": {},
     "output_type": "execute_result"
    }
   ],
   "source": [
    "dt1"
   ]
  },
  {
   "cell_type": "code",
   "execution_count": 73,
   "id": "9d9783ef",
   "metadata": {},
   "outputs": [],
   "source": [
    "dt_frm1=pd.read_csv(StringIO(dt1),index_col=False)"
   ]
  },
  {
   "cell_type": "code",
   "execution_count": 74,
   "id": "3233db6f",
   "metadata": {},
   "outputs": [
    {
     "data": {
      "text/html": [
       "<div>\n",
       "<style scoped>\n",
       "    .dataframe tbody tr th:only-of-type {\n",
       "        vertical-align: middle;\n",
       "    }\n",
       "\n",
       "    .dataframe tbody tr th {\n",
       "        vertical-align: top;\n",
       "    }\n",
       "\n",
       "    .dataframe thead th {\n",
       "        text-align: right;\n",
       "    }\n",
       "</style>\n",
       "<table border=\"1\" class=\"dataframe\">\n",
       "  <thead>\n",
       "    <tr style=\"text-align: right;\">\n",
       "      <th></th>\n",
       "      <th>a</th>\n",
       "      <th>b</th>\n",
       "      <th>c</th>\n",
       "    </tr>\n",
       "  </thead>\n",
       "  <tbody>\n",
       "    <tr>\n",
       "      <th>0</th>\n",
       "      <td>1</td>\n",
       "      <td>apple</td>\n",
       "      <td>banana</td>\n",
       "    </tr>\n",
       "    <tr>\n",
       "      <th>1</th>\n",
       "      <td>2</td>\n",
       "      <td>Orange</td>\n",
       "      <td>grapes</td>\n",
       "    </tr>\n",
       "  </tbody>\n",
       "</table>\n",
       "</div>"
      ],
      "text/plain": [
       "   a       b       c\n",
       "0  1   apple  banana\n",
       "1  2  Orange  grapes"
      ]
     },
     "execution_count": 74,
     "metadata": {},
     "output_type": "execute_result"
    }
   ],
   "source": [
    "dt_frm1"
   ]
  },
  {
   "cell_type": "code",
   "execution_count": 76,
   "id": "5d5d73ca",
   "metadata": {},
   "outputs": [],
   "source": [
    "dt_frm2=pd.read_csv(StringIO(dt2))"
   ]
  },
  {
   "cell_type": "code",
   "execution_count": 77,
   "id": "89d8ee24",
   "metadata": {},
   "outputs": [
    {
     "data": {
      "text/html": [
       "<div>\n",
       "<style scoped>\n",
       "    .dataframe tbody tr th:only-of-type {\n",
       "        vertical-align: middle;\n",
       "    }\n",
       "\n",
       "    .dataframe tbody tr th {\n",
       "        vertical-align: top;\n",
       "    }\n",
       "\n",
       "    .dataframe thead th {\n",
       "        text-align: right;\n",
       "    }\n",
       "</style>\n",
       "<table border=\"1\" class=\"dataframe\">\n",
       "  <thead>\n",
       "    <tr style=\"text-align: right;\">\n",
       "      <th></th>\n",
       "      <th>a</th>\n",
       "      <th>b</th>\n",
       "      <th>c</th>\n",
       "    </tr>\n",
       "  </thead>\n",
       "  <tbody>\n",
       "    <tr>\n",
       "      <th>0</th>\n",
       "      <td>1</td>\n",
       "      <td>apple</td>\n",
       "      <td>banana</td>\n",
       "    </tr>\n",
       "    <tr>\n",
       "      <th>1</th>\n",
       "      <td>2</td>\n",
       "      <td>Orange</td>\n",
       "      <td>grapes</td>\n",
       "    </tr>\n",
       "  </tbody>\n",
       "</table>\n",
       "</div>"
      ],
      "text/plain": [
       "   a       b       c\n",
       "0  1   apple  banana\n",
       "1  2  Orange  grapes"
      ]
     },
     "execution_count": 77,
     "metadata": {},
     "output_type": "execute_result"
    }
   ],
   "source": [
    "dt_frm2"
   ]
  },
  {
   "cell_type": "code",
   "execution_count": 78,
   "id": "fea72487",
   "metadata": {},
   "outputs": [
    {
     "data": {
      "text/plain": [
       "'col1,col2,col3\\na,b,c\\nd,e,f\\ng,h,i'"
      ]
     },
     "execution_count": 78,
     "metadata": {},
     "output_type": "execute_result"
    }
   ],
   "source": [
    "data"
   ]
  },
  {
   "cell_type": "code",
   "execution_count": 80,
   "id": "ce4c4651",
   "metadata": {},
   "outputs": [],
   "source": [
    "dt_frm2=pd.read_csv(StringIO(dt2),usecols=['b','c'])"
   ]
  },
  {
   "cell_type": "code",
   "execution_count": null,
   "id": "f7b46591",
   "metadata": {},
   "outputs": [],
   "source": []
  },
  {
   "cell_type": "code",
   "execution_count": 81,
   "id": "093673bb",
   "metadata": {},
   "outputs": [
    {
     "data": {
      "text/html": [
       "<div>\n",
       "<style scoped>\n",
       "    .dataframe tbody tr th:only-of-type {\n",
       "        vertical-align: middle;\n",
       "    }\n",
       "\n",
       "    .dataframe tbody tr th {\n",
       "        vertical-align: top;\n",
       "    }\n",
       "\n",
       "    .dataframe thead th {\n",
       "        text-align: right;\n",
       "    }\n",
       "</style>\n",
       "<table border=\"1\" class=\"dataframe\">\n",
       "  <thead>\n",
       "    <tr style=\"text-align: right;\">\n",
       "      <th></th>\n",
       "      <th>b</th>\n",
       "      <th>c</th>\n",
       "    </tr>\n",
       "  </thead>\n",
       "  <tbody>\n",
       "    <tr>\n",
       "      <th>0</th>\n",
       "      <td>apple</td>\n",
       "      <td>banana</td>\n",
       "    </tr>\n",
       "    <tr>\n",
       "      <th>1</th>\n",
       "      <td>Orange</td>\n",
       "      <td>grapes</td>\n",
       "    </tr>\n",
       "  </tbody>\n",
       "</table>\n",
       "</div>"
      ],
      "text/plain": [
       "        b       c\n",
       "0   apple  banana\n",
       "1  Orange  grapes"
      ]
     },
     "execution_count": 81,
     "metadata": {},
     "output_type": "execute_result"
    }
   ],
   "source": [
    "dt_frm2"
   ]
  },
  {
   "cell_type": "code",
   "execution_count": 131,
   "id": "97530f50",
   "metadata": {},
   "outputs": [],
   "source": [
    "#Quoting and Escaping Character\n",
    "data1=('a,b\\n\"hello\\\\\"Navil\\\\\"How are you?\",9')"
   ]
  },
  {
   "cell_type": "code",
   "execution_count": 127,
   "id": "c6b0152d",
   "metadata": {},
   "outputs": [
    {
     "data": {
      "text/plain": [
       "str"
      ]
     },
     "execution_count": 127,
     "metadata": {},
     "output_type": "execute_result"
    }
   ],
   "source": [
    "type(data1)"
   ]
  },
  {
   "cell_type": "code",
   "execution_count": 133,
   "id": "77f0a1cb",
   "metadata": {},
   "outputs": [],
   "source": [
    "df=pd.read_csv(StringIO(data1),escapechar='\\\\')"
   ]
  },
  {
   "cell_type": "code",
   "execution_count": 134,
   "id": "f87e7e86",
   "metadata": {},
   "outputs": [
    {
     "data": {
      "text/html": [
       "<div>\n",
       "<style scoped>\n",
       "    .dataframe tbody tr th:only-of-type {\n",
       "        vertical-align: middle;\n",
       "    }\n",
       "\n",
       "    .dataframe tbody tr th {\n",
       "        vertical-align: top;\n",
       "    }\n",
       "\n",
       "    .dataframe thead th {\n",
       "        text-align: right;\n",
       "    }\n",
       "</style>\n",
       "<table border=\"1\" class=\"dataframe\">\n",
       "  <thead>\n",
       "    <tr style=\"text-align: right;\">\n",
       "      <th></th>\n",
       "      <th>a</th>\n",
       "      <th>b</th>\n",
       "    </tr>\n",
       "  </thead>\n",
       "  <tbody>\n",
       "    <tr>\n",
       "      <th>0</th>\n",
       "      <td>hello\"Navil\"How are you?</td>\n",
       "      <td>9</td>\n",
       "    </tr>\n",
       "  </tbody>\n",
       "</table>\n",
       "</div>"
      ],
      "text/plain": [
       "                          a  b\n",
       "0  hello\"Navil\"How are you?  9"
      ]
     },
     "execution_count": 134,
     "metadata": {},
     "output_type": "execute_result"
    }
   ],
   "source": [
    "df"
   ]
  },
  {
   "cell_type": "markdown",
   "id": "f19c2108",
   "metadata": {},
   "source": [
    "# Pandas reading jason,pickle&excel"
   ]
  },
  {
   "cell_type": "code",
   "execution_count": 4,
   "id": "aab44ec5",
   "metadata": {},
   "outputs": [],
   "source": [
    "import pandas as pd"
   ]
  },
  {
   "cell_type": "code",
   "execution_count": 27,
   "id": "d70c2aea",
   "metadata": {},
   "outputs": [],
   "source": [
    "Data = '{\"employee_name\": \"James\", \"email\": \"james@gmail.com\", \"job_profile\": [{\"title1\":\"Team Lead\", \"title2\":\"Sr. Developer\"}]}'\n",
    "df1=pd.read_json(Data)"
   ]
  },
  {
   "cell_type": "code",
   "execution_count": 29,
   "id": "5e27aa65",
   "metadata": {},
   "outputs": [
    {
     "data": {
      "text/html": [
       "<div>\n",
       "<style scoped>\n",
       "    .dataframe tbody tr th:only-of-type {\n",
       "        vertical-align: middle;\n",
       "    }\n",
       "\n",
       "    .dataframe tbody tr th {\n",
       "        vertical-align: top;\n",
       "    }\n",
       "\n",
       "    .dataframe thead th {\n",
       "        text-align: right;\n",
       "    }\n",
       "</style>\n",
       "<table border=\"1\" class=\"dataframe\">\n",
       "  <thead>\n",
       "    <tr style=\"text-align: right;\">\n",
       "      <th></th>\n",
       "      <th>employee_name</th>\n",
       "      <th>email</th>\n",
       "      <th>job_profile</th>\n",
       "    </tr>\n",
       "  </thead>\n",
       "  <tbody>\n",
       "    <tr>\n",
       "      <th>0</th>\n",
       "      <td>James</td>\n",
       "      <td>james@gmail.com</td>\n",
       "      <td>{'title1': 'Team Lead', 'title2': 'Sr. Develop...</td>\n",
       "    </tr>\n",
       "  </tbody>\n",
       "</table>\n",
       "</div>"
      ],
      "text/plain": [
       "  employee_name            email  \\\n",
       "0         James  james@gmail.com   \n",
       "\n",
       "                                         job_profile  \n",
       "0  {'title1': 'Team Lead', 'title2': 'Sr. Develop...  "
      ]
     },
     "execution_count": 29,
     "metadata": {},
     "output_type": "execute_result"
    }
   ],
   "source": [
    "df1"
   ]
  },
  {
   "cell_type": "code",
   "execution_count": 10,
   "id": "7a4e17a1",
   "metadata": {},
   "outputs": [
    {
     "data": {
      "text/plain": [
       "str"
      ]
     },
     "execution_count": 10,
     "metadata": {},
     "output_type": "execute_result"
    }
   ],
   "source": [
    "type(Data)"
   ]
  },
  {
   "cell_type": "code",
   "execution_count": 19,
   "id": "4635d4fb",
   "metadata": {},
   "outputs": [
    {
     "data": {
      "text/html": [
       "<div>\n",
       "<style scoped>\n",
       "    .dataframe tbody tr th:only-of-type {\n",
       "        vertical-align: middle;\n",
       "    }\n",
       "\n",
       "    .dataframe tbody tr th {\n",
       "        vertical-align: top;\n",
       "    }\n",
       "\n",
       "    .dataframe thead th {\n",
       "        text-align: right;\n",
       "    }\n",
       "</style>\n",
       "<table border=\"1\" class=\"dataframe\">\n",
       "  <thead>\n",
       "    <tr style=\"text-align: right;\">\n",
       "      <th></th>\n",
       "      <th>employee_name</th>\n",
       "      <th>email</th>\n",
       "      <th>job_profile</th>\n",
       "    </tr>\n",
       "  </thead>\n",
       "  <tbody>\n",
       "    <tr>\n",
       "      <th>0</th>\n",
       "      <td>James</td>\n",
       "      <td>james@gmail.com</td>\n",
       "      <td>{'title1': 'Team Lead', 'title2': 'Sr. Develop...</td>\n",
       "    </tr>\n",
       "  </tbody>\n",
       "</table>\n",
       "</div>"
      ],
      "text/plain": [
       "  employee_name            email  \\\n",
       "0         James  james@gmail.com   \n",
       "\n",
       "                                         job_profile  \n",
       "0  {'title1': 'Team Lead', 'title2': 'Sr. Develop...  "
      ]
     },
     "execution_count": 19,
     "metadata": {},
     "output_type": "execute_result"
    }
   ],
   "source": [
    "pd.read_json(Data)"
   ]
  },
  {
   "cell_type": "code",
   "execution_count": 23,
   "id": "2324dbb3",
   "metadata": {},
   "outputs": [],
   "source": [
    "#Read data from URL\n",
    "df=pd.read_json('https://file-examples-com.github.io/uploads/2017/02/file_example_JSON_1kb.json',)"
   ]
  },
  {
   "cell_type": "code",
   "execution_count": 21,
   "id": "3685947d",
   "metadata": {},
   "outputs": [
    {
     "data": {
      "text/html": [
       "<div>\n",
       "<style scoped>\n",
       "    .dataframe tbody tr th:only-of-type {\n",
       "        vertical-align: middle;\n",
       "    }\n",
       "\n",
       "    .dataframe tbody tr th {\n",
       "        vertical-align: top;\n",
       "    }\n",
       "\n",
       "    .dataframe thead th {\n",
       "        text-align: right;\n",
       "    }\n",
       "</style>\n",
       "<table border=\"1\" class=\"dataframe\">\n",
       "  <thead>\n",
       "    <tr style=\"text-align: right;\">\n",
       "      <th></th>\n",
       "      <th>countries</th>\n",
       "    </tr>\n",
       "  </thead>\n",
       "  <tbody>\n",
       "    <tr>\n",
       "      <th>0</th>\n",
       "      <td>{'name': 'Afghanistan', 'isoCode': 'AF'}</td>\n",
       "    </tr>\n",
       "    <tr>\n",
       "      <th>1</th>\n",
       "      <td>{'name': 'Albania', 'isoCode': 'AL'}</td>\n",
       "    </tr>\n",
       "    <tr>\n",
       "      <th>2</th>\n",
       "      <td>{'name': 'Algeria', 'isoCode': 'DZ'}</td>\n",
       "    </tr>\n",
       "    <tr>\n",
       "      <th>3</th>\n",
       "      <td>{'name': 'American Samoa', 'isoCode': 'AS'}</td>\n",
       "    </tr>\n",
       "    <tr>\n",
       "      <th>4</th>\n",
       "      <td>{'name': 'Andorra', 'isoCode': 'AD'}</td>\n",
       "    </tr>\n",
       "  </tbody>\n",
       "</table>\n",
       "</div>"
      ],
      "text/plain": [
       "                                     countries\n",
       "0     {'name': 'Afghanistan', 'isoCode': 'AF'}\n",
       "1         {'name': 'Albania', 'isoCode': 'AL'}\n",
       "2         {'name': 'Algeria', 'isoCode': 'DZ'}\n",
       "3  {'name': 'American Samoa', 'isoCode': 'AS'}\n",
       "4         {'name': 'Andorra', 'isoCode': 'AD'}"
      ]
     },
     "execution_count": 21,
     "metadata": {},
     "output_type": "execute_result"
    }
   ],
   "source": [
    "df.head()"
   ]
  },
  {
   "cell_type": "code",
   "execution_count": 24,
   "id": "00c5ffba",
   "metadata": {},
   "outputs": [],
   "source": [
    "df.to_csv('file_example_JSON_1kb.csv')"
   ]
  },
  {
   "cell_type": "code",
   "execution_count": 26,
   "id": "79f3fdff",
   "metadata": {},
   "outputs": [
    {
     "data": {
      "text/plain": [
       "pandas.core.frame.DataFrame"
      ]
     },
     "execution_count": 26,
     "metadata": {},
     "output_type": "execute_result"
    }
   ],
   "source": [
    "type(df)"
   ]
  },
  {
   "cell_type": "code",
   "execution_count": 30,
   "id": "6d05ef49",
   "metadata": {},
   "outputs": [
    {
     "data": {
      "text/plain": [
       "'{\"employee_name\":{\"0\":\"James\"},\"email\":{\"0\":\"james@gmail.com\"},\"job_profile\":{\"0\":{\"title1\":\"Team Lead\",\"title2\":\"Sr. Developer\"}}}'"
      ]
     },
     "execution_count": 30,
     "metadata": {},
     "output_type": "execute_result"
    }
   ],
   "source": [
    "df1.to_json()"
   ]
  },
  {
   "cell_type": "code",
   "execution_count": 37,
   "id": "78264e14",
   "metadata": {},
   "outputs": [
    {
     "data": {
      "text/plain": [
       "'[{\"countries\":{\"name\":\"Afghanistan\",\"isoCode\":\"AF\"}},{\"countries\":{\"name\":\"Albania\",\"isoCode\":\"AL\"}},{\"countries\":{\"name\":\"Algeria\",\"isoCode\":\"DZ\"}},{\"countries\":{\"name\":\"American Samoa\",\"isoCode\":\"AS\"}},{\"countries\":{\"name\":\"Andorra\",\"isoCode\":\"AD\"}},{\"countries\":{\"name\":\"Angola\",\"isoCode\":\"AO\"}},{\"countries\":{\"name\":\"Anguilla\",\"isoCode\":\"AI\"}},{\"countries\":{\"name\":\"Antarctica\",\"isoCode\":\"AQ\"}},{\"countries\":{\"name\":\"Antigua and Barbuda\",\"isoCode\":\"AG\"}},{\"countries\":{\"name\":\"Argentina\",\"isoCode\":\"AR\"}},{\"countries\":{\"name\":\"Armenia\",\"isoCode\":\"AM\"}},{\"countries\":{\"name\":\"Aruba\",\"isoCode\":\"AW\"}},{\"countries\":{\"name\":\"Australia\",\"isoCode\":\"AU\"}},{\"countries\":{\"name\":\"Austria\",\"isoCode\":\"AT\"}},{\"countries\":{\"name\":\"Azerbaijan\",\"isoCode\":\"AZ\"}},{\"countries\":{\"name\":\"Bahamas\",\"isoCode\":\"BS\"}},{\"countries\":{\"name\":\"Bahrain\",\"isoCode\":\"BH\"}},{\"countries\":{\"name\":\"Bangladesh\",\"isoCode\":\"BD\"}},{\"countries\":{\"name\":\"Barbados\",\"isoCode\":\"BB\"}},{\"countries\":{\"name\":\"Belarus\",\"isoCode\":\"BY\"}},{\"countries\":{\"name\":\"Belgium\",\"isoCode\":\"BE\"}},{\"countries\":{\"name\":\"Belize\",\"isoCode\":\"BZ\"}},{\"countries\":{\"name\":\"Benin\",\"isoCode\":\"BJ\"}},{\"countries\":{\"name\":\"Bermuda\",\"isoCode\":\"BM\"}},{\"countries\":{\"name\":\"Bhutan\",\"isoCode\":\"BT\"}},{\"countries\":{\"name\":\"Bolivia\",\"isoCode\":\"BO\"}},{\"countries\":{\"name\":\"Bosnia and Herzegovina\",\"isoCode\":\"BA\"}},{\"countries\":{\"name\":\"Botswana\",\"isoCode\":\"BW\"}},{\"countries\":{\"name\":\"Bouvet Island\",\"isoCode\":\"BV\"}},{\"countries\":{\"name\":\"Brazil\",\"isoCode\":\"BR\"}},{\"countries\":{\"name\":\"British Indian Ocean Territory\",\"isoCode\":\"IO\"}},{\"countries\":{\"name\":\"Brunei\",\"isoCode\":\"BN\"}},{\"countries\":{\"name\":\"Bulgaria\",\"isoCode\":\"BG\"}},{\"countries\":{\"name\":\"Burkina Faso\",\"isoCode\":\"BF\"}},{\"countries\":{\"name\":\"Burundi\",\"isoCode\":\"BI\"}},{\"countries\":{\"name\":\"Cambodia\",\"isoCode\":\"KH\"}},{\"countries\":{\"name\":\"Cameroon\",\"isoCode\":\"CM\"}},{\"countries\":{\"name\":\"Canada\",\"isoCode\":\"CA\"}},{\"countries\":{\"name\":\"Cape Verde\",\"isoCode\":\"CV\"}},{\"countries\":{\"name\":\"Cayman Islands\",\"isoCode\":\"KY\"}},{\"countries\":{\"name\":\"Central African Republic\",\"isoCode\":\"CF\"}},{\"countries\":{\"name\":\"Chad\",\"isoCode\":\"TD\"}},{\"countries\":{\"name\":\"Chile\",\"isoCode\":\"CL\"}},{\"countries\":{\"name\":\"China\",\"isoCode\":\"CN\"}},{\"countries\":{\"name\":\"Christmas Island\",\"isoCode\":\"CX\"}},{\"countries\":{\"name\":\"Cocos (Keeling) Islands\",\"isoCode\":\"CC\"}},{\"countries\":{\"name\":\"Colombia\",\"isoCode\":\"CO\"}},{\"countries\":{\"name\":\"Comoros\",\"isoCode\":\"KM\"}},{\"countries\":{\"name\":\"Congo\",\"isoCode\":\"CG\"}},{\"countries\":{\"name\":\"Cook Islands\",\"isoCode\":\"CK\"}},{\"countries\":{\"name\":\"Costa Rica\",\"isoCode\":\"CR\"}},{\"countries\":{\"name\":\"Croatia\",\"isoCode\":\"HR\"}},{\"countries\":{\"name\":\"Cuba\",\"isoCode\":\"CU\"}},{\"countries\":{\"name\":\"Cyprus\",\"isoCode\":\"CY\"}},{\"countries\":{\"name\":\"Czech Republic\",\"isoCode\":\"CZ\"}},{\"countries\":{\"name\":\"Denmark\",\"isoCode\":\"DK\"}},{\"countries\":{\"name\":\"Djibouti\",\"isoCode\":\"DJ\"}},{\"countries\":{\"name\":\"Dominica\",\"isoCode\":\"DM\"}},{\"countries\":{\"name\":\"Dominican Republic\",\"isoCode\":\"DO\"}},{\"countries\":{\"name\":\"East Timor\",\"isoCode\":\"TP\"}},{\"countries\":{\"name\":\"Ecuador\",\"isoCode\":\"EC\"}},{\"countries\":{\"name\":\"Egypt\",\"isoCode\":\"EG\"}},{\"countries\":{\"name\":\"El Salvador\",\"isoCode\":\"SV\"}},{\"countries\":{\"name\":\"Equatorial Guinea\",\"isoCode\":\"GQ\"}},{\"countries\":{\"name\":\"Eritrea\",\"isoCode\":\"ER\"}},{\"countries\":{\"name\":\"Estonia\",\"isoCode\":\"EE\"}},{\"countries\":{\"name\":\"Ethiopia\",\"isoCode\":\"ET\"}},{\"countries\":{\"name\":\"Falkland Islands\",\"isoCode\":\"FK\"}},{\"countries\":{\"name\":\"Faroe Islands\",\"isoCode\":\"FO\"}},{\"countries\":{\"name\":\"Fiji Islands\",\"isoCode\":\"FJ\"}},{\"countries\":{\"name\":\"Finland\",\"isoCode\":\"FI\"}},{\"countries\":{\"name\":\"France\",\"isoCode\":\"FR\"}},{\"countries\":{\"name\":\"French Guiana\",\"isoCode\":\"GF\"}},{\"countries\":{\"name\":\"French Polynesia\",\"isoCode\":\"PF\"}},{\"countries\":{\"name\":\"French Southern territories\",\"isoCode\":\"TF\"}},{\"countries\":{\"name\":\"Gabon\",\"isoCode\":\"GA\"}},{\"countries\":{\"name\":\"Gambia\",\"isoCode\":\"GM\"}},{\"countries\":{\"name\":\"Georgia\",\"isoCode\":\"GE\"}},{\"countries\":{\"name\":\"Germany\",\"isoCode\":\"DE\"}},{\"countries\":{\"name\":\"Ghana\",\"isoCode\":\"GH\"}},{\"countries\":{\"name\":\"Gibraltar\",\"isoCode\":\"GI\"}},{\"countries\":{\"name\":\"Greece\",\"isoCode\":\"GR\"}},{\"countries\":{\"name\":\"Greenland\",\"isoCode\":\"GL\"}},{\"countries\":{\"name\":\"Grenada\",\"isoCode\":\"GD\"}},{\"countries\":{\"name\":\"Guadeloupe\",\"isoCode\":\"GP\"}},{\"countries\":{\"name\":\"Guam\",\"isoCode\":\"GU\"}},{\"countries\":{\"name\":\"Guatemala\",\"isoCode\":\"GT\"}},{\"countries\":{\"name\":\"Guernsey\",\"isoCode\":\"GG\"}},{\"countries\":{\"name\":\"Guinea\",\"isoCode\":\"GN\"}},{\"countries\":{\"name\":\"Guinea-Bissau\",\"isoCode\":\"GW\"}},{\"countries\":{\"name\":\"Guyana\",\"isoCode\":\"GY\"}},{\"countries\":{\"name\":\"Haiti\",\"isoCode\":\"HT\"}},{\"countries\":{\"name\":\"Heard Island and McDonald Islands\",\"isoCode\":\"HM\"}},{\"countries\":{\"name\":\"Holy See (Vatican City State)\",\"isoCode\":\"VA\"}},{\"countries\":{\"name\":\"Honduras\",\"isoCode\":\"HN\"}},{\"countries\":{\"name\":\"Hong Kong\",\"isoCode\":\"HK\"}},{\"countries\":{\"name\":\"Hungary\",\"isoCode\":\"HU\"}},{\"countries\":{\"name\":\"Iceland\",\"isoCode\":\"IS\"}},{\"countries\":{\"name\":\"India\",\"isoCode\":\"IN\"}},{\"countries\":{\"name\":\"Indonesia\",\"isoCode\":\"ID\"}},{\"countries\":{\"name\":\"Iran\",\"isoCode\":\"IR\"}},{\"countries\":{\"name\":\"Iraq\",\"isoCode\":\"IQ\"}},{\"countries\":{\"name\":\"Ireland\",\"isoCode\":\"IE\"}},{\"countries\":{\"name\":\"Isle of Man\",\"isoCode\":\"IM\"}},{\"countries\":{\"name\":\"Israel\",\"isoCode\":\"IL\"}},{\"countries\":{\"name\":\"Italy\",\"isoCode\":\"IT\"}},{\"countries\":{\"name\":\"Ivory Coast\",\"isoCode\":\"CI\"}},{\"countries\":{\"name\":\"Jamaica\",\"isoCode\":\"JM\"}},{\"countries\":{\"name\":\"Japan\",\"isoCode\":\"JP\"}},{\"countries\":{\"name\":\"Jersey\",\"isoCode\":\"JE\"}},{\"countries\":{\"name\":\"Jordan\",\"isoCode\":\"JO\"}},{\"countries\":{\"name\":\"Kazakhstan\",\"isoCode\":\"KZ\"}},{\"countries\":{\"name\":\"Kenya\",\"isoCode\":\"KE\"}},{\"countries\":{\"name\":\"Kiribati\",\"isoCode\":\"KI\"}},{\"countries\":{\"name\":\"Kuwait\",\"isoCode\":\"KW\"}},{\"countries\":{\"name\":\"Kyrgyzstan\",\"isoCode\":\"KG\"}},{\"countries\":{\"name\":\"Laos\",\"isoCode\":\"LA\"}},{\"countries\":{\"name\":\"Latvia\",\"isoCode\":\"LV\"}},{\"countries\":{\"name\":\"Lebanon\",\"isoCode\":\"LB\"}},{\"countries\":{\"name\":\"Lesotho\",\"isoCode\":\"LS\"}},{\"countries\":{\"name\":\"Liberia\",\"isoCode\":\"LR\"}},{\"countries\":{\"name\":\"Libyan Arab Jamahiriya\",\"isoCode\":\"LY\"}},{\"countries\":{\"name\":\"Liechtenstein\",\"isoCode\":\"LI\"}},{\"countries\":{\"name\":\"Lithuania\",\"isoCode\":\"LT\"}},{\"countries\":{\"name\":\"Luxembourg\",\"isoCode\":\"LU\"}},{\"countries\":{\"name\":\"Macao\",\"isoCode\":\"MO\"}},{\"countries\":{\"name\":\"North Macedonia\",\"isoCode\":\"MK\"}},{\"countries\":{\"name\":\"Madagascar\",\"isoCode\":\"MG\"}},{\"countries\":{\"name\":\"Malawi\",\"isoCode\":\"MW\"}},{\"countries\":{\"name\":\"Malaysia\",\"isoCode\":\"MY\"}},{\"countries\":{\"name\":\"Maldives\",\"isoCode\":\"MV\"}},{\"countries\":{\"name\":\"Mali\",\"isoCode\":\"ML\"}},{\"countries\":{\"name\":\"Malta\",\"isoCode\":\"MT\"}},{\"countries\":{\"name\":\"Marshall Islands\",\"isoCode\":\"MH\"}},{\"countries\":{\"name\":\"Martinique\",\"isoCode\":\"MQ\"}},{\"countries\":{\"name\":\"Mauritania\",\"isoCode\":\"MR\"}},{\"countries\":{\"name\":\"Mauritius\",\"isoCode\":\"MU\"}},{\"countries\":{\"name\":\"Mayotte\",\"isoCode\":\"YT\"}},{\"countries\":{\"name\":\"Mexico\",\"isoCode\":\"MX\"}},{\"countries\":{\"name\":\"Micronesia, Federated States of\",\"isoCode\":\"FM\"}},{\"countries\":{\"name\":\"Moldova\",\"isoCode\":\"MD\"}},{\"countries\":{\"name\":\"Monaco\",\"isoCode\":\"MC\"}},{\"countries\":{\"name\":\"Mongolia\",\"isoCode\":\"MN\"}},{\"countries\":{\"name\":\"Montenegro\",\"isoCode\":\"ME\"}},{\"countries\":{\"name\":\"Montserrat\",\"isoCode\":\"MS\"}},{\"countries\":{\"name\":\"Morocco\",\"isoCode\":\"MA\"}},{\"countries\":{\"name\":\"Mozambique\",\"isoCode\":\"MZ\"}},{\"countries\":{\"name\":\"Myanmar\",\"isoCode\":\"MM\"}},{\"countries\":{\"name\":\"Namibia\",\"isoCode\":\"NA\"}},{\"countries\":{\"name\":\"Nauru\",\"isoCode\":\"NR\"}},{\"countries\":{\"name\":\"Nepal\",\"isoCode\":\"NP\"}},{\"countries\":{\"name\":\"Netherlands\",\"isoCode\":\"NL\"}},{\"countries\":{\"name\":\"Netherlands Antilles\",\"isoCode\":\"AN\"}},{\"countries\":{\"name\":\"New Caledonia\",\"isoCode\":\"NC\"}},{\"countries\":{\"name\":\"New Zealand\",\"isoCode\":\"NZ\"}},{\"countries\":{\"name\":\"Nicaragua\",\"isoCode\":\"NI\"}},{\"countries\":{\"name\":\"Niger\",\"isoCode\":\"NE\"}},{\"countries\":{\"name\":\"Nigeria\",\"isoCode\":\"NG\"}},{\"countries\":{\"name\":\"Niue\",\"isoCode\":\"NU\"}},{\"countries\":{\"name\":\"Norfolk Island\",\"isoCode\":\"NF\"}},{\"countries\":{\"name\":\"North Korea\",\"isoCode\":\"KP\"}},{\"countries\":{\"name\":\"Northern Ireland\",\"isoCode\":\"GB\"}},{\"countries\":{\"name\":\"Northern Mariana Islands\",\"isoCode\":\"MP\"}},{\"countries\":{\"name\":\"Norway\",\"isoCode\":\"NO\"}},{\"countries\":{\"name\":\"Oman\",\"isoCode\":\"OM\"}},{\"countries\":{\"name\":\"Pakistan\",\"isoCode\":\"PK\"}},{\"countries\":{\"name\":\"Palau\",\"isoCode\":\"PW\"}},{\"countries\":{\"name\":\"Palestine\",\"isoCode\":\"PS\"}},{\"countries\":{\"name\":\"Panama\",\"isoCode\":\"PA\"}},{\"countries\":{\"name\":\"Papua New Guinea\",\"isoCode\":\"PG\"}},{\"countries\":{\"name\":\"Paraguay\",\"isoCode\":\"PY\"}},{\"countries\":{\"name\":\"Peru\",\"isoCode\":\"PE\"}},{\"countries\":{\"name\":\"Philippines\",\"isoCode\":\"PH\"}},{\"countries\":{\"name\":\"Pitcairn\",\"isoCode\":\"PN\"}},{\"countries\":{\"name\":\"Poland\",\"isoCode\":\"PL\"}},{\"countries\":{\"name\":\"Portugal\",\"isoCode\":\"PT\"}},{\"countries\":{\"name\":\"Puerto Rico\",\"isoCode\":\"PR\"}},{\"countries\":{\"name\":\"Qatar\",\"isoCode\":\"QA\"}},{\"countries\":{\"name\":\"Reunion\",\"isoCode\":\"RE\"}},{\"countries\":{\"name\":\"Romania\",\"isoCode\":\"RO\"}},{\"countries\":{\"name\":\"Russian Federation\",\"isoCode\":\"RU\"}},{\"countries\":{\"name\":\"Rwanda\",\"isoCode\":\"RW\"}},{\"countries\":{\"name\":\"Saint Helena\",\"isoCode\":\"SH\"}},{\"countries\":{\"name\":\"Saint Kitts and Nevis\",\"isoCode\":\"KN\"}},{\"countries\":{\"name\":\"Saint Lucia\",\"isoCode\":\"LC\"}},{\"countries\":{\"name\":\"Saint Pierre and Miquelon\",\"isoCode\":\"PM\"}},{\"countries\":{\"name\":\"Saint Vincent and the Grenadines\",\"isoCode\":\"VC\"}},{\"countries\":{\"name\":\"Samoa\",\"isoCode\":\"WS\"}},{\"countries\":{\"name\":\"San Marino\",\"isoCode\":\"SM\"}},{\"countries\":{\"name\":\"Sao Tome and Principe\",\"isoCode\":\"ST\"}},{\"countries\":{\"name\":\"Saudi Arabia\",\"isoCode\":\"SA\"}},{\"countries\":{\"name\":\"Senegal\",\"isoCode\":\"SN\"}},{\"countries\":{\"name\":\"Serbia\",\"isoCode\":\"RS\"}},{\"countries\":{\"name\":\"Seychelles\",\"isoCode\":\"SC\"}},{\"countries\":{\"name\":\"Sierra Leone\",\"isoCode\":\"SL\"}},{\"countries\":{\"name\":\"Singapore\",\"isoCode\":\"SG\"}},{\"countries\":{\"name\":\"Slovakia\",\"isoCode\":\"SK\"}},{\"countries\":{\"name\":\"Slovenia\",\"isoCode\":\"SI\"}},{\"countries\":{\"name\":\"Solomon Islands\",\"isoCode\":\"SB\"}},{\"countries\":{\"name\":\"Somalia\",\"isoCode\":\"SO\"}},{\"countries\":{\"name\":\"South Africa\",\"isoCode\":\"ZA\"}},{\"countries\":{\"name\":\"South Georgia and the South Sandwich Islands\",\"isoCode\":\"GS\"}},{\"countries\":{\"name\":\"South Korea\",\"isoCode\":\"KR\"}},{\"countries\":{\"name\":\"South Sudan\",\"isoCode\":\"SS\"}},{\"countries\":{\"name\":\"Spain\",\"isoCode\":\"ES\"}},{\"countries\":{\"name\":\"Sri Lanka\",\"isoCode\":\"LK\"}},{\"countries\":{\"name\":\"Sudan\",\"isoCode\":\"SD\"}},{\"countries\":{\"name\":\"Suriname\",\"isoCode\":\"SR\"}},{\"countries\":{\"name\":\"Svalbard and Jan Mayen\",\"isoCode\":\"SJ\"}},{\"countries\":{\"name\":\"Swaziland\",\"isoCode\":\"SZ\"}},{\"countries\":{\"name\":\"Sweden\",\"isoCode\":\"SE\"}},{\"countries\":{\"name\":\"Switzerland\",\"isoCode\":\"CH\"}},{\"countries\":{\"name\":\"Syria\",\"isoCode\":\"SY\"}},{\"countries\":{\"name\":\"Tajikistan\",\"isoCode\":\"TJ\"}},{\"countries\":{\"name\":\"Tanzania\",\"isoCode\":\"TZ\"}},{\"countries\":{\"name\":\"Thailand\",\"isoCode\":\"TH\"}},{\"countries\":{\"name\":\"The Democratic Republic of Congo\",\"isoCode\":\"CD\"}},{\"countries\":{\"name\":\"Timor-Leste\",\"isoCode\":\"TL\"}},{\"countries\":{\"name\":\"Togo\",\"isoCode\":\"TG\"}},{\"countries\":{\"name\":\"Tokelau\",\"isoCode\":\"TK\"}},{\"countries\":{\"name\":\"Tonga\",\"isoCode\":\"TO\"}},{\"countries\":{\"name\":\"Trinidad and Tobago\",\"isoCode\":\"TT\"}},{\"countries\":{\"name\":\"Tunisia\",\"isoCode\":\"TN\"}},{\"countries\":{\"name\":\"Turkey\",\"isoCode\":\"TR\"}},{\"countries\":{\"name\":\"Turkmenistan\",\"isoCode\":\"TM\"}},{\"countries\":{\"name\":\"Turks and Caicos Islands\",\"isoCode\":\"TC\"}},{\"countries\":{\"name\":\"Tuvalu\",\"isoCode\":\"TV\"}},{\"countries\":{\"name\":\"Uganda\",\"isoCode\":\"UG\"}},{\"countries\":{\"name\":\"Ukraine\",\"isoCode\":\"UA\"}},{\"countries\":{\"name\":\"United Arab Emirates\",\"isoCode\":\"AE\"}},{\"countries\":{\"name\":\"United Kingdom\",\"isoCode\":\"GB\"}},{\"countries\":{\"name\":\"United States\",\"isoCode\":\"US\"}},{\"countries\":{\"name\":\"United States Minor Outlying Islands\",\"isoCode\":\"UM\"}},{\"countries\":{\"name\":\"Uruguay\",\"isoCode\":\"UY\"}},{\"countries\":{\"name\":\"Uzbekistan\",\"isoCode\":\"UZ\"}},{\"countries\":{\"name\":\"Vanuatu\",\"isoCode\":\"VU\"}},{\"countries\":{\"name\":\"Venezuela\",\"isoCode\":\"VE\"}},{\"countries\":{\"name\":\"Vietnam\",\"isoCode\":\"VN\"}},{\"countries\":{\"name\":\"Virgin Islands, British\",\"isoCode\":\"VG\"}},{\"countries\":{\"name\":\"Virgin Islands, U.S.\",\"isoCode\":\"VI\"}},{\"countries\":{\"name\":\"Wallis and Futuna\",\"isoCode\":\"WF\"}},{\"countries\":{\"name\":\"Western Sahara\",\"isoCode\":\"EH\"}},{\"countries\":{\"name\":\"Yemen\",\"isoCode\":\"YE\"}},{\"countries\":{\"name\":\"Yugoslavia\",\"isoCode\":\"YU\"}},{\"countries\":{\"name\":\"Zambia\",\"isoCode\":\"ZM\"}},{\"countries\":{\"name\":\"Zimbabwe\",\"isoCode\":\"ZW\"}}]'"
      ]
     },
     "execution_count": 37,
     "metadata": {},
     "output_type": "execute_result"
    }
   ],
   "source": [
    "df.to_json(orient='records')"
   ]
  },
  {
   "cell_type": "code",
   "execution_count": 35,
   "id": "1018f474",
   "metadata": {},
   "outputs": [
    {
     "data": {
      "text/html": [
       "<div>\n",
       "<style scoped>\n",
       "    .dataframe tbody tr th:only-of-type {\n",
       "        vertical-align: middle;\n",
       "    }\n",
       "\n",
       "    .dataframe tbody tr th {\n",
       "        vertical-align: top;\n",
       "    }\n",
       "\n",
       "    .dataframe thead th {\n",
       "        text-align: right;\n",
       "    }\n",
       "</style>\n",
       "<table border=\"1\" class=\"dataframe\">\n",
       "  <thead>\n",
       "    <tr style=\"text-align: right;\">\n",
       "      <th></th>\n",
       "      <th>countries</th>\n",
       "    </tr>\n",
       "  </thead>\n",
       "  <tbody>\n",
       "    <tr>\n",
       "      <th>0</th>\n",
       "      <td>{'name': 'Afghanistan', 'isoCode': 'AF'}</td>\n",
       "    </tr>\n",
       "    <tr>\n",
       "      <th>1</th>\n",
       "      <td>{'name': 'Albania', 'isoCode': 'AL'}</td>\n",
       "    </tr>\n",
       "    <tr>\n",
       "      <th>2</th>\n",
       "      <td>{'name': 'Algeria', 'isoCode': 'DZ'}</td>\n",
       "    </tr>\n",
       "    <tr>\n",
       "      <th>3</th>\n",
       "      <td>{'name': 'American Samoa', 'isoCode': 'AS'}</td>\n",
       "    </tr>\n",
       "    <tr>\n",
       "      <th>4</th>\n",
       "      <td>{'name': 'Andorra', 'isoCode': 'AD'}</td>\n",
       "    </tr>\n",
       "    <tr>\n",
       "      <th>...</th>\n",
       "      <td>...</td>\n",
       "    </tr>\n",
       "    <tr>\n",
       "      <th>241</th>\n",
       "      <td>{'name': 'Western Sahara', 'isoCode': 'EH'}</td>\n",
       "    </tr>\n",
       "    <tr>\n",
       "      <th>242</th>\n",
       "      <td>{'name': 'Yemen', 'isoCode': 'YE'}</td>\n",
       "    </tr>\n",
       "    <tr>\n",
       "      <th>243</th>\n",
       "      <td>{'name': 'Yugoslavia', 'isoCode': 'YU'}</td>\n",
       "    </tr>\n",
       "    <tr>\n",
       "      <th>244</th>\n",
       "      <td>{'name': 'Zambia', 'isoCode': 'ZM'}</td>\n",
       "    </tr>\n",
       "    <tr>\n",
       "      <th>245</th>\n",
       "      <td>{'name': 'Zimbabwe', 'isoCode': 'ZW'}</td>\n",
       "    </tr>\n",
       "  </tbody>\n",
       "</table>\n",
       "<p>246 rows × 1 columns</p>\n",
       "</div>"
      ],
      "text/plain": [
       "                                       countries\n",
       "0       {'name': 'Afghanistan', 'isoCode': 'AF'}\n",
       "1           {'name': 'Albania', 'isoCode': 'AL'}\n",
       "2           {'name': 'Algeria', 'isoCode': 'DZ'}\n",
       "3    {'name': 'American Samoa', 'isoCode': 'AS'}\n",
       "4           {'name': 'Andorra', 'isoCode': 'AD'}\n",
       "..                                           ...\n",
       "241  {'name': 'Western Sahara', 'isoCode': 'EH'}\n",
       "242           {'name': 'Yemen', 'isoCode': 'YE'}\n",
       "243      {'name': 'Yugoslavia', 'isoCode': 'YU'}\n",
       "244          {'name': 'Zambia', 'isoCode': 'ZM'}\n",
       "245        {'name': 'Zimbabwe', 'isoCode': 'ZW'}\n",
       "\n",
       "[246 rows x 1 columns]"
      ]
     },
     "execution_count": 35,
     "metadata": {},
     "output_type": "execute_result"
    }
   ],
   "source": []
  },
  {
   "cell_type": "code",
   "execution_count": null,
   "id": "b7add94c",
   "metadata": {},
   "outputs": [],
   "source": []
  },
  {
   "cell_type": "markdown",
   "id": "bf4741f5",
   "metadata": {},
   "source": [
    "# Reading HTML Content"
   ]
  },
  {
   "cell_type": "code",
   "execution_count": 2,
   "id": "5d2b0720",
   "metadata": {},
   "outputs": [],
   "source": [
    "import pandas as pd"
   ]
  },
  {
   "cell_type": "code",
   "execution_count": 3,
   "id": "bc717506",
   "metadata": {},
   "outputs": [],
   "source": [
    "url =\"https://www.fdic.gov/resources/resolutions/bank-failures/failed-bank-list/\"\n",
    "dfs=pd.read_html(url)"
   ]
  },
  {
   "cell_type": "code",
   "execution_count": 5,
   "id": "6c2223ac",
   "metadata": {},
   "outputs": [
    {
     "data": {
      "text/plain": [
       "[                         Bank NameBank           CityCity StateSt  CertCert  \\\n",
       " 0                    Almena State Bank             Almena      KS     15426   \n",
       " 1           First City Bank of Florida  Fort Walton Beach      FL     16748   \n",
       " 2                 The First State Bank      Barboursville      WV     14361   \n",
       " 3                   Ericson State Bank            Ericson      NE     18265   \n",
       " 4     City National Bank of New Jersey             Newark      NJ     21111   \n",
       " ..                                 ...                ...     ...       ...   \n",
       " 558                 Superior Bank, FSB           Hinsdale      IL     32646   \n",
       " 559                Malta National Bank              Malta      OH      6629   \n",
       " 560    First Alliance Bank & Trust Co.         Manchester      NH     34264   \n",
       " 561  National State Bank of Metropolis         Metropolis      IL      3815   \n",
       " 562                   Bank of Honolulu           Honolulu      HI     21029   \n",
       " \n",
       "                  Acquiring InstitutionAI Closing DateClosing  FundFund  \n",
       " 0                            Equity Bank    October 23, 2020     10538  \n",
       " 1              United Fidelity Bank, fsb    October 16, 2020     10537  \n",
       " 2                         MVB Bank, Inc.       April 3, 2020     10536  \n",
       " 3             Farmers and Merchants Bank   February 14, 2020     10535  \n",
       " 4                        Industrial Bank    November 1, 2019     10534  \n",
       " ..                                   ...                 ...       ...  \n",
       " 558                Superior Federal, FSB       July 27, 2001      6004  \n",
       " 559                    North Valley Bank         May 3, 2001      4648  \n",
       " 560  Southern New Hampshire Bank & Trust    February 2, 2001      4647  \n",
       " 561              Banterra Bank of Marion   December 14, 2000      4646  \n",
       " 562                   Bank of the Orient    October 13, 2000      4645  \n",
       " \n",
       " [563 rows x 7 columns]]"
      ]
     },
     "execution_count": 5,
     "metadata": {},
     "output_type": "execute_result"
    }
   ],
   "source": [
    "dfs"
   ]
  },
  {
   "cell_type": "code",
   "execution_count": 17,
   "id": "5bedfadd",
   "metadata": {},
   "outputs": [
    {
     "data": {
      "text/html": [
       "<div>\n",
       "<style scoped>\n",
       "    .dataframe tbody tr th:only-of-type {\n",
       "        vertical-align: middle;\n",
       "    }\n",
       "\n",
       "    .dataframe tbody tr th {\n",
       "        vertical-align: top;\n",
       "    }\n",
       "\n",
       "    .dataframe thead th {\n",
       "        text-align: right;\n",
       "    }\n",
       "</style>\n",
       "<table border=\"1\" class=\"dataframe\">\n",
       "  <thead>\n",
       "    <tr style=\"text-align: right;\">\n",
       "      <th></th>\n",
       "      <th>Bank NameBank</th>\n",
       "      <th>CityCity</th>\n",
       "      <th>StateSt</th>\n",
       "      <th>CertCert</th>\n",
       "      <th>Acquiring InstitutionAI</th>\n",
       "      <th>Closing DateClosing</th>\n",
       "      <th>FundFund</th>\n",
       "    </tr>\n",
       "  </thead>\n",
       "  <tbody>\n",
       "    <tr>\n",
       "      <th>0</th>\n",
       "      <td>Almena State Bank</td>\n",
       "      <td>Almena</td>\n",
       "      <td>KS</td>\n",
       "      <td>15426</td>\n",
       "      <td>Equity Bank</td>\n",
       "      <td>October 23, 2020</td>\n",
       "      <td>10538</td>\n",
       "    </tr>\n",
       "    <tr>\n",
       "      <th>1</th>\n",
       "      <td>First City Bank of Florida</td>\n",
       "      <td>Fort Walton Beach</td>\n",
       "      <td>FL</td>\n",
       "      <td>16748</td>\n",
       "      <td>United Fidelity Bank, fsb</td>\n",
       "      <td>October 16, 2020</td>\n",
       "      <td>10537</td>\n",
       "    </tr>\n",
       "    <tr>\n",
       "      <th>2</th>\n",
       "      <td>The First State Bank</td>\n",
       "      <td>Barboursville</td>\n",
       "      <td>WV</td>\n",
       "      <td>14361</td>\n",
       "      <td>MVB Bank, Inc.</td>\n",
       "      <td>April 3, 2020</td>\n",
       "      <td>10536</td>\n",
       "    </tr>\n",
       "    <tr>\n",
       "      <th>3</th>\n",
       "      <td>Ericson State Bank</td>\n",
       "      <td>Ericson</td>\n",
       "      <td>NE</td>\n",
       "      <td>18265</td>\n",
       "      <td>Farmers and Merchants Bank</td>\n",
       "      <td>February 14, 2020</td>\n",
       "      <td>10535</td>\n",
       "    </tr>\n",
       "    <tr>\n",
       "      <th>4</th>\n",
       "      <td>City National Bank of New Jersey</td>\n",
       "      <td>Newark</td>\n",
       "      <td>NJ</td>\n",
       "      <td>21111</td>\n",
       "      <td>Industrial Bank</td>\n",
       "      <td>November 1, 2019</td>\n",
       "      <td>10534</td>\n",
       "    </tr>\n",
       "    <tr>\n",
       "      <th>...</th>\n",
       "      <td>...</td>\n",
       "      <td>...</td>\n",
       "      <td>...</td>\n",
       "      <td>...</td>\n",
       "      <td>...</td>\n",
       "      <td>...</td>\n",
       "      <td>...</td>\n",
       "    </tr>\n",
       "    <tr>\n",
       "      <th>558</th>\n",
       "      <td>Superior Bank, FSB</td>\n",
       "      <td>Hinsdale</td>\n",
       "      <td>IL</td>\n",
       "      <td>32646</td>\n",
       "      <td>Superior Federal, FSB</td>\n",
       "      <td>July 27, 2001</td>\n",
       "      <td>6004</td>\n",
       "    </tr>\n",
       "    <tr>\n",
       "      <th>559</th>\n",
       "      <td>Malta National Bank</td>\n",
       "      <td>Malta</td>\n",
       "      <td>OH</td>\n",
       "      <td>6629</td>\n",
       "      <td>North Valley Bank</td>\n",
       "      <td>May 3, 2001</td>\n",
       "      <td>4648</td>\n",
       "    </tr>\n",
       "    <tr>\n",
       "      <th>560</th>\n",
       "      <td>First Alliance Bank &amp; Trust Co.</td>\n",
       "      <td>Manchester</td>\n",
       "      <td>NH</td>\n",
       "      <td>34264</td>\n",
       "      <td>Southern New Hampshire Bank &amp; Trust</td>\n",
       "      <td>February 2, 2001</td>\n",
       "      <td>4647</td>\n",
       "    </tr>\n",
       "    <tr>\n",
       "      <th>561</th>\n",
       "      <td>National State Bank of Metropolis</td>\n",
       "      <td>Metropolis</td>\n",
       "      <td>IL</td>\n",
       "      <td>3815</td>\n",
       "      <td>Banterra Bank of Marion</td>\n",
       "      <td>December 14, 2000</td>\n",
       "      <td>4646</td>\n",
       "    </tr>\n",
       "    <tr>\n",
       "      <th>562</th>\n",
       "      <td>Bank of Honolulu</td>\n",
       "      <td>Honolulu</td>\n",
       "      <td>HI</td>\n",
       "      <td>21029</td>\n",
       "      <td>Bank of the Orient</td>\n",
       "      <td>October 13, 2000</td>\n",
       "      <td>4645</td>\n",
       "    </tr>\n",
       "  </tbody>\n",
       "</table>\n",
       "<p>563 rows × 7 columns</p>\n",
       "</div>"
      ],
      "text/plain": [
       "                         Bank NameBank           CityCity StateSt  CertCert  \\\n",
       "0                    Almena State Bank             Almena      KS     15426   \n",
       "1           First City Bank of Florida  Fort Walton Beach      FL     16748   \n",
       "2                 The First State Bank      Barboursville      WV     14361   \n",
       "3                   Ericson State Bank            Ericson      NE     18265   \n",
       "4     City National Bank of New Jersey             Newark      NJ     21111   \n",
       "..                                 ...                ...     ...       ...   \n",
       "558                 Superior Bank, FSB           Hinsdale      IL     32646   \n",
       "559                Malta National Bank              Malta      OH      6629   \n",
       "560    First Alliance Bank & Trust Co.         Manchester      NH     34264   \n",
       "561  National State Bank of Metropolis         Metropolis      IL      3815   \n",
       "562                   Bank of Honolulu           Honolulu      HI     21029   \n",
       "\n",
       "                 Acquiring InstitutionAI Closing DateClosing  FundFund  \n",
       "0                            Equity Bank    October 23, 2020     10538  \n",
       "1              United Fidelity Bank, fsb    October 16, 2020     10537  \n",
       "2                         MVB Bank, Inc.       April 3, 2020     10536  \n",
       "3             Farmers and Merchants Bank   February 14, 2020     10535  \n",
       "4                        Industrial Bank    November 1, 2019     10534  \n",
       "..                                   ...                 ...       ...  \n",
       "558                Superior Federal, FSB       July 27, 2001      6004  \n",
       "559                    North Valley Bank         May 3, 2001      4648  \n",
       "560  Southern New Hampshire Bank & Trust    February 2, 2001      4647  \n",
       "561              Banterra Bank of Marion   December 14, 2000      4646  \n",
       "562                   Bank of the Orient    October 13, 2000      4645  \n",
       "\n",
       "[563 rows x 7 columns]"
      ]
     },
     "execution_count": 17,
     "metadata": {},
     "output_type": "execute_result"
    }
   ],
   "source": [
    "dfs[0]"
   ]
  },
  {
   "cell_type": "code",
   "execution_count": 18,
   "id": "8f7eb952",
   "metadata": {},
   "outputs": [],
   "source": [
    "url_mcc=\"https://en.wikipedia.org/wiki/Mobile_country_code\""
   ]
  },
  {
   "cell_type": "code",
   "execution_count": 27,
   "id": "af4c0f28",
   "metadata": {},
   "outputs": [],
   "source": [
    "df=pd.read_html(url_mcc,match='country',header=0)"
   ]
  },
  {
   "cell_type": "code",
   "execution_count": 29,
   "id": "8b558181",
   "metadata": {},
   "outputs": [
    {
     "data": {
      "text/html": [
       "<div>\n",
       "<style scoped>\n",
       "    .dataframe tbody tr th:only-of-type {\n",
       "        vertical-align: middle;\n",
       "    }\n",
       "\n",
       "    .dataframe tbody tr th {\n",
       "        vertical-align: top;\n",
       "    }\n",
       "\n",
       "    .dataframe thead th {\n",
       "        text-align: right;\n",
       "    }\n",
       "</style>\n",
       "<table border=\"1\" class=\"dataframe\">\n",
       "  <thead>\n",
       "    <tr style=\"text-align: right;\">\n",
       "      <th></th>\n",
       "      <th>Mobile country code</th>\n",
       "      <th>Country</th>\n",
       "      <th>ISO 3166</th>\n",
       "      <th>Mobile network codes</th>\n",
       "      <th>National MNC authority</th>\n",
       "      <th>Remarks</th>\n",
       "    </tr>\n",
       "  </thead>\n",
       "  <tbody>\n",
       "    <tr>\n",
       "      <th>0</th>\n",
       "      <td>289</td>\n",
       "      <td>A Abkhazia</td>\n",
       "      <td>GE-AB</td>\n",
       "      <td>List of mobile network codes in Abkhazia</td>\n",
       "      <td>NaN</td>\n",
       "      <td>MCC is not listed by ITU</td>\n",
       "    </tr>\n",
       "    <tr>\n",
       "      <th>1</th>\n",
       "      <td>412</td>\n",
       "      <td>Afghanistan</td>\n",
       "      <td>AF</td>\n",
       "      <td>List of mobile network codes in Afghanistan</td>\n",
       "      <td>NaN</td>\n",
       "      <td>NaN</td>\n",
       "    </tr>\n",
       "    <tr>\n",
       "      <th>2</th>\n",
       "      <td>276</td>\n",
       "      <td>Albania</td>\n",
       "      <td>AL</td>\n",
       "      <td>List of mobile network codes in Albania</td>\n",
       "      <td>NaN</td>\n",
       "      <td>NaN</td>\n",
       "    </tr>\n",
       "    <tr>\n",
       "      <th>3</th>\n",
       "      <td>603</td>\n",
       "      <td>Algeria</td>\n",
       "      <td>DZ</td>\n",
       "      <td>List of mobile network codes in Algeria</td>\n",
       "      <td>NaN</td>\n",
       "      <td>NaN</td>\n",
       "    </tr>\n",
       "    <tr>\n",
       "      <th>4</th>\n",
       "      <td>544</td>\n",
       "      <td>American Samoa (United States of America)</td>\n",
       "      <td>AS</td>\n",
       "      <td>List of mobile network codes in American Samoa</td>\n",
       "      <td>NaN</td>\n",
       "      <td>NaN</td>\n",
       "    </tr>\n",
       "    <tr>\n",
       "      <th>...</th>\n",
       "      <td>...</td>\n",
       "      <td>...</td>\n",
       "      <td>...</td>\n",
       "      <td>...</td>\n",
       "      <td>...</td>\n",
       "      <td>...</td>\n",
       "    </tr>\n",
       "    <tr>\n",
       "      <th>247</th>\n",
       "      <td>452</td>\n",
       "      <td>Vietnam</td>\n",
       "      <td>VN</td>\n",
       "      <td>List of mobile network codes in the Vietnam</td>\n",
       "      <td>NaN</td>\n",
       "      <td>NaN</td>\n",
       "    </tr>\n",
       "    <tr>\n",
       "      <th>248</th>\n",
       "      <td>543</td>\n",
       "      <td>W Wallis and Futuna</td>\n",
       "      <td>WF</td>\n",
       "      <td>List of mobile network codes in Wallis and Futuna</td>\n",
       "      <td>NaN</td>\n",
       "      <td>NaN</td>\n",
       "    </tr>\n",
       "    <tr>\n",
       "      <th>249</th>\n",
       "      <td>421</td>\n",
       "      <td>Y Yemen</td>\n",
       "      <td>YE</td>\n",
       "      <td>List of mobile network codes in the Yemen</td>\n",
       "      <td>NaN</td>\n",
       "      <td>NaN</td>\n",
       "    </tr>\n",
       "    <tr>\n",
       "      <th>250</th>\n",
       "      <td>645</td>\n",
       "      <td>Z Zambia</td>\n",
       "      <td>ZM</td>\n",
       "      <td>List of mobile network codes in Zambia</td>\n",
       "      <td>NaN</td>\n",
       "      <td>NaN</td>\n",
       "    </tr>\n",
       "    <tr>\n",
       "      <th>251</th>\n",
       "      <td>648</td>\n",
       "      <td>Zimbabwe</td>\n",
       "      <td>ZW</td>\n",
       "      <td>List of mobile network codes in Zimbabwe</td>\n",
       "      <td>NaN</td>\n",
       "      <td>NaN</td>\n",
       "    </tr>\n",
       "  </tbody>\n",
       "</table>\n",
       "<p>252 rows × 6 columns</p>\n",
       "</div>"
      ],
      "text/plain": [
       "     Mobile country code                                    Country ISO 3166  \\\n",
       "0                    289                                 A Abkhazia    GE-AB   \n",
       "1                    412                                Afghanistan       AF   \n",
       "2                    276                                    Albania       AL   \n",
       "3                    603                                    Algeria       DZ   \n",
       "4                    544  American Samoa (United States of America)       AS   \n",
       "..                   ...                                        ...      ...   \n",
       "247                  452                                    Vietnam       VN   \n",
       "248                  543                        W Wallis and Futuna       WF   \n",
       "249                  421                                    Y Yemen       YE   \n",
       "250                  645                                   Z Zambia       ZM   \n",
       "251                  648                                   Zimbabwe       ZW   \n",
       "\n",
       "                                  Mobile network codes National MNC authority  \\\n",
       "0             List of mobile network codes in Abkhazia                    NaN   \n",
       "1          List of mobile network codes in Afghanistan                    NaN   \n",
       "2              List of mobile network codes in Albania                    NaN   \n",
       "3              List of mobile network codes in Algeria                    NaN   \n",
       "4       List of mobile network codes in American Samoa                    NaN   \n",
       "..                                                 ...                    ...   \n",
       "247        List of mobile network codes in the Vietnam                    NaN   \n",
       "248  List of mobile network codes in Wallis and Futuna                    NaN   \n",
       "249          List of mobile network codes in the Yemen                    NaN   \n",
       "250             List of mobile network codes in Zambia                    NaN   \n",
       "251           List of mobile network codes in Zimbabwe                    NaN   \n",
       "\n",
       "                      Remarks  \n",
       "0    MCC is not listed by ITU  \n",
       "1                         NaN  \n",
       "2                         NaN  \n",
       "3                         NaN  \n",
       "4                         NaN  \n",
       "..                        ...  \n",
       "247                       NaN  \n",
       "248                       NaN  \n",
       "249                       NaN  \n",
       "250                       NaN  \n",
       "251                       NaN  \n",
       "\n",
       "[252 rows x 6 columns]"
      ]
     },
     "execution_count": 29,
     "metadata": {},
     "output_type": "execute_result"
    }
   ],
   "source": [
    "df[0]"
   ]
  },
  {
   "cell_type": "markdown",
   "id": "f1c853d4",
   "metadata": {},
   "source": [
    "# Reading Excel content "
   ]
  },
  {
   "cell_type": "code",
   "execution_count": 34,
   "id": "0919d255",
   "metadata": {},
   "outputs": [],
   "source": [
    "sheet_id='16p6zdN5N0MLhvKSOYDHh9y_5Pn5Bj5wN'\n",
    "sheet_name='Sheet15'\n",
    "url=f\"https://docs.google.com/spreadsheets/d/{sheet_id}/edit?usp=sharing&ouid=102137743201532367818&rtpof=true&sd=true\""
   ]
  },
  {
   "cell_type": "code",
   "execution_count": 10,
   "id": "5a89778b",
   "metadata": {},
   "outputs": [
    {
     "data": {
      "text/html": [
       "<div>\n",
       "<style scoped>\n",
       "    .dataframe tbody tr th:only-of-type {\n",
       "        vertical-align: middle;\n",
       "    }\n",
       "\n",
       "    .dataframe tbody tr th {\n",
       "        vertical-align: top;\n",
       "    }\n",
       "\n",
       "    .dataframe thead th {\n",
       "        text-align: right;\n",
       "    }\n",
       "</style>\n",
       "<table border=\"1\" class=\"dataframe\">\n",
       "  <thead>\n",
       "    <tr style=\"text-align: right;\">\n",
       "      <th></th>\n",
       "      <th>Name of Month</th>\n",
       "      <th>Date</th>\n",
       "      <th>Work Done for DVD TO HDD COPY</th>\n",
       "      <th>Indexing Work</th>\n",
       "      <th>Unnamed: 4</th>\n",
       "      <th>Unnamed: 5</th>\n",
       "    </tr>\n",
       "  </thead>\n",
       "  <tbody>\n",
       "    <tr>\n",
       "      <th>0</th>\n",
       "      <td>March</td>\n",
       "      <td>1.03.2021</td>\n",
       "      <td>DVD TO HDD COPY[(MT- Kathyawadi,STATE-Gujarat ...</td>\n",
       "      <td>No indexing work assigned</td>\n",
       "      <td>NaN</td>\n",
       "      <td>NaN</td>\n",
       "    </tr>\n",
       "    <tr>\n",
       "      <th>1</th>\n",
       "      <td>NaN</td>\n",
       "      <td>2.03.2021</td>\n",
       "      <td>DVD TO HDD COPY [(MT- Kolchi,STATE-Gujarat ,VA...</td>\n",
       "      <td>No indexing work assigned</td>\n",
       "      <td>NaN</td>\n",
       "      <td>NaN</td>\n",
       "    </tr>\n",
       "    <tr>\n",
       "      <th>2</th>\n",
       "      <td>NaN</td>\n",
       "      <td>3.03.2021</td>\n",
       "      <td>DVD TO HDD COPY [(MT- Thari,STATE-Gujarat ,VAR...</td>\n",
       "      <td>No indexing work assigned</td>\n",
       "      <td>NaN</td>\n",
       "      <td>NaN</td>\n",
       "    </tr>\n",
       "    <tr>\n",
       "      <th>3</th>\n",
       "      <td>NaN</td>\n",
       "      <td>4.03.2021</td>\n",
       "      <td>DVD TO HDD COPY [(MT- Sindhi,STATE-Gujarat ,VA...</td>\n",
       "      <td>No indexing work assigned</td>\n",
       "      <td>NaN</td>\n",
       "      <td>NaN</td>\n",
       "    </tr>\n",
       "    <tr>\n",
       "      <th>4</th>\n",
       "      <td>NaN</td>\n",
       "      <td>5.03.2021</td>\n",
       "      <td>DVD TO HDD COPY [(MT- KOKNI,STATE-Gujarat ,VAR...</td>\n",
       "      <td>No indexing work assigned</td>\n",
       "      <td>NaN</td>\n",
       "      <td>NaN</td>\n",
       "    </tr>\n",
       "    <tr>\n",
       "      <th>5</th>\n",
       "      <td>NaN</td>\n",
       "      <td>8.03.2021</td>\n",
       "      <td>DVD TO HDD COPY [ (MT- Patelia,STATE-Gujarat ,...</td>\n",
       "      <td>No indexing work assigned</td>\n",
       "      <td>NaN</td>\n",
       "      <td>NaN</td>\n",
       "    </tr>\n",
       "    <tr>\n",
       "      <th>6</th>\n",
       "      <td>NaN</td>\n",
       "      <td>9.03.2021</td>\n",
       "      <td>DVD TO HDD COPY [(MT- Muslim,STATE-Gujarat ,VA...</td>\n",
       "      <td>No indexing work assigned</td>\n",
       "      <td>NaN</td>\n",
       "      <td>NaN</td>\n",
       "    </tr>\n",
       "    <tr>\n",
       "      <th>7</th>\n",
       "      <td>NaN</td>\n",
       "      <td>10.03.2021</td>\n",
       "      <td>DVD TO HDD COPY [(MT- Gujarati,STATE-Gujarat ,...</td>\n",
       "      <td>No indexing work assigned</td>\n",
       "      <td>NaN</td>\n",
       "      <td>NaN</td>\n",
       "    </tr>\n",
       "    <tr>\n",
       "      <th>8</th>\n",
       "      <td>NaN</td>\n",
       "      <td>11.03.2021</td>\n",
       "      <td>DVD TO HDD COPY [(MT- charani,STATE-Gujarat ,V...</td>\n",
       "      <td>No indexing work assigned</td>\n",
       "      <td>NaN</td>\n",
       "      <td>NaN</td>\n",
       "    </tr>\n",
       "    <tr>\n",
       "      <th>9</th>\n",
       "      <td>NaN</td>\n",
       "      <td>12.03.2021</td>\n",
       "      <td>DVD TO HDD COPY [(MT- Chodhari,STATE-Gujarat ,...</td>\n",
       "      <td>No indexing work assigned</td>\n",
       "      <td>NaN</td>\n",
       "      <td>NaN</td>\n",
       "    </tr>\n",
       "    <tr>\n",
       "      <th>10</th>\n",
       "      <td>NaN</td>\n",
       "      <td>15.03.2021</td>\n",
       "      <td>DVD TO HDD COPY [(MT- Gamti,STATE-Gujarat ,VAR...</td>\n",
       "      <td>No indexing work assigned</td>\n",
       "      <td>NaN</td>\n",
       "      <td>NaN</td>\n",
       "    </tr>\n",
       "    <tr>\n",
       "      <th>11</th>\n",
       "      <td>NaN</td>\n",
       "      <td>16.03.2021</td>\n",
       "      <td>DVD TO HDD COPY [(MT- Meghwad,STATE-Gujarat ,V...</td>\n",
       "      <td>No indexing work assigned</td>\n",
       "      <td>NaN</td>\n",
       "      <td>NaN</td>\n",
       "    </tr>\n",
       "    <tr>\n",
       "      <th>12</th>\n",
       "      <td>NaN</td>\n",
       "      <td>17.03.2021</td>\n",
       "      <td>DVD TO HDD COPY [(MT- Dhodia,STATE-Gujarat ,VA...</td>\n",
       "      <td>No indexing work assigned</td>\n",
       "      <td>NaN</td>\n",
       "      <td>NaN</td>\n",
       "    </tr>\n",
       "    <tr>\n",
       "      <th>13</th>\n",
       "      <td>NaN</td>\n",
       "      <td>18.03.2021</td>\n",
       "      <td>DVD TO HDD COPY [(MT- Dhodia,STATE-Gujarat ,VA...</td>\n",
       "      <td>No indexing work assigned</td>\n",
       "      <td>NaN</td>\n",
       "      <td>NaN</td>\n",
       "    </tr>\n",
       "    <tr>\n",
       "      <th>14</th>\n",
       "      <td>NaN</td>\n",
       "      <td>19.03.2021</td>\n",
       "      <td>DVD TO HDD COPY [MT-Adi Padam;State-Arunachal ...</td>\n",
       "      <td>No indexing work assigned</td>\n",
       "      <td>NaN</td>\n",
       "      <td>NaN</td>\n",
       "    </tr>\n",
       "    <tr>\n",
       "      <th>15</th>\n",
       "      <td>NaN</td>\n",
       "      <td>22.03.2021</td>\n",
       "      <td>DVD TO HDD COPY [(MT- Adi Miniyong,STATE-Aruna...</td>\n",
       "      <td>No indexing work assigned</td>\n",
       "      <td>NaN</td>\n",
       "      <td>NaN</td>\n",
       "    </tr>\n",
       "    <tr>\n",
       "      <th>16</th>\n",
       "      <td>NaN</td>\n",
       "      <td>23.03.2021</td>\n",
       "      <td>DVD TO HDD COPY [(MT- Nissi,STATE-Arunachal Pr...</td>\n",
       "      <td>No indexing work assigned</td>\n",
       "      <td>NaN</td>\n",
       "      <td>NaN</td>\n",
       "    </tr>\n",
       "    <tr>\n",
       "      <th>17</th>\n",
       "      <td>NaN</td>\n",
       "      <td>24.03.2021</td>\n",
       "      <td>DVD TO HDD COPY [(MT- Monpa STATE-Arunachal Pr...</td>\n",
       "      <td>No indexing work assigned</td>\n",
       "      <td>NaN</td>\n",
       "      <td>NaN</td>\n",
       "    </tr>\n",
       "    <tr>\n",
       "      <th>18</th>\n",
       "      <td>NaN</td>\n",
       "      <td>25.03.2021</td>\n",
       "      <td>DVD TO HDD COPY [MT- Monpa STATE-Arunachal Pra...</td>\n",
       "      <td>No indexing work assigned</td>\n",
       "      <td>NaN</td>\n",
       "      <td>NaN</td>\n",
       "    </tr>\n",
       "    <tr>\n",
       "      <th>19</th>\n",
       "      <td>NaN</td>\n",
       "      <td>26.03.2021</td>\n",
       "      <td>DVD TO HDD COPY [(MT- Tangsa STATE-Arunachal P...</td>\n",
       "      <td>No indexing work assigned</td>\n",
       "      <td>NaN</td>\n",
       "      <td>NaN</td>\n",
       "    </tr>\n",
       "    <tr>\n",
       "      <th>20</th>\n",
       "      <td>NaN</td>\n",
       "      <td>NaN</td>\n",
       "      <td>NaN</td>\n",
       "      <td>NaN</td>\n",
       "      <td>NaN</td>\n",
       "      <td>NaN</td>\n",
       "    </tr>\n",
       "    <tr>\n",
       "      <th>21</th>\n",
       "      <td>NaN</td>\n",
       "      <td>NaN</td>\n",
       "      <td>NaN</td>\n",
       "      <td>NaN</td>\n",
       "      <td>NaN</td>\n",
       "      <td>NaN</td>\n",
       "    </tr>\n",
       "    <tr>\n",
       "      <th>22</th>\n",
       "      <td>NaN</td>\n",
       "      <td>NaN</td>\n",
       "      <td>NaN</td>\n",
       "      <td>NaN</td>\n",
       "      <td>NaN</td>\n",
       "      <td>NaN</td>\n",
       "    </tr>\n",
       "    <tr>\n",
       "      <th>23</th>\n",
       "      <td>NaN</td>\n",
       "      <td>NaN</td>\n",
       "      <td>NaN</td>\n",
       "      <td>NaN</td>\n",
       "      <td>NaN</td>\n",
       "      <td>NaN</td>\n",
       "    </tr>\n",
       "    <tr>\n",
       "      <th>24</th>\n",
       "      <td>NaN</td>\n",
       "      <td>NaN</td>\n",
       "      <td>NaN</td>\n",
       "      <td>NaN</td>\n",
       "      <td>NaN</td>\n",
       "      <td>NaN</td>\n",
       "    </tr>\n",
       "    <tr>\n",
       "      <th>25</th>\n",
       "      <td>27th March to 4th April-leave.Hence no data ca...</td>\n",
       "      <td>NaN</td>\n",
       "      <td>NaN</td>\n",
       "      <td>NaN</td>\n",
       "      <td>NaN</td>\n",
       "      <td>NaN</td>\n",
       "    </tr>\n",
       "  </tbody>\n",
       "</table>\n",
       "</div>"
      ],
      "text/plain": [
       "                                        Name of Month        Date  \\\n",
       "0                                               March   1.03.2021   \n",
       "1                                                 NaN   2.03.2021   \n",
       "2                                                 NaN   3.03.2021   \n",
       "3                                                 NaN   4.03.2021   \n",
       "4                                                 NaN   5.03.2021   \n",
       "5                                                 NaN   8.03.2021   \n",
       "6                                                 NaN   9.03.2021   \n",
       "7                                                 NaN  10.03.2021   \n",
       "8                                                 NaN  11.03.2021   \n",
       "9                                                 NaN  12.03.2021   \n",
       "10                                                NaN  15.03.2021   \n",
       "11                                                NaN  16.03.2021   \n",
       "12                                                NaN  17.03.2021   \n",
       "13                                                NaN  18.03.2021   \n",
       "14                                                NaN  19.03.2021   \n",
       "15                                                NaN  22.03.2021   \n",
       "16                                                NaN  23.03.2021   \n",
       "17                                                NaN  24.03.2021   \n",
       "18                                                NaN  25.03.2021   \n",
       "19                                                NaN  26.03.2021   \n",
       "20                                                NaN         NaN   \n",
       "21                                                NaN         NaN   \n",
       "22                                                NaN         NaN   \n",
       "23                                                NaN         NaN   \n",
       "24                                                NaN         NaN   \n",
       "25  27th March to 4th April-leave.Hence no data ca...         NaN   \n",
       "\n",
       "                        Work Done for DVD TO HDD COPY  \\\n",
       "0   DVD TO HDD COPY[(MT- Kathyawadi,STATE-Gujarat ...   \n",
       "1   DVD TO HDD COPY [(MT- Kolchi,STATE-Gujarat ,VA...   \n",
       "2   DVD TO HDD COPY [(MT- Thari,STATE-Gujarat ,VAR...   \n",
       "3   DVD TO HDD COPY [(MT- Sindhi,STATE-Gujarat ,VA...   \n",
       "4   DVD TO HDD COPY [(MT- KOKNI,STATE-Gujarat ,VAR...   \n",
       "5   DVD TO HDD COPY [ (MT- Patelia,STATE-Gujarat ,...   \n",
       "6   DVD TO HDD COPY [(MT- Muslim,STATE-Gujarat ,VA...   \n",
       "7   DVD TO HDD COPY [(MT- Gujarati,STATE-Gujarat ,...   \n",
       "8   DVD TO HDD COPY [(MT- charani,STATE-Gujarat ,V...   \n",
       "9   DVD TO HDD COPY [(MT- Chodhari,STATE-Gujarat ,...   \n",
       "10  DVD TO HDD COPY [(MT- Gamti,STATE-Gujarat ,VAR...   \n",
       "11  DVD TO HDD COPY [(MT- Meghwad,STATE-Gujarat ,V...   \n",
       "12  DVD TO HDD COPY [(MT- Dhodia,STATE-Gujarat ,VA...   \n",
       "13  DVD TO HDD COPY [(MT- Dhodia,STATE-Gujarat ,VA...   \n",
       "14  DVD TO HDD COPY [MT-Adi Padam;State-Arunachal ...   \n",
       "15  DVD TO HDD COPY [(MT- Adi Miniyong,STATE-Aruna...   \n",
       "16  DVD TO HDD COPY [(MT- Nissi,STATE-Arunachal Pr...   \n",
       "17  DVD TO HDD COPY [(MT- Monpa STATE-Arunachal Pr...   \n",
       "18  DVD TO HDD COPY [MT- Monpa STATE-Arunachal Pra...   \n",
       "19  DVD TO HDD COPY [(MT- Tangsa STATE-Arunachal P...   \n",
       "20                                                NaN   \n",
       "21                                                NaN   \n",
       "22                                                NaN   \n",
       "23                                                NaN   \n",
       "24                                                NaN   \n",
       "25                                                NaN   \n",
       "\n",
       "                 Indexing Work  Unnamed: 4  Unnamed: 5  \n",
       "0   No indexing work assigned          NaN         NaN  \n",
       "1   No indexing work assigned          NaN         NaN  \n",
       "2   No indexing work assigned          NaN         NaN  \n",
       "3   No indexing work assigned          NaN         NaN  \n",
       "4   No indexing work assigned          NaN         NaN  \n",
       "5   No indexing work assigned          NaN         NaN  \n",
       "6   No indexing work assigned          NaN         NaN  \n",
       "7   No indexing work assigned          NaN         NaN  \n",
       "8   No indexing work assigned          NaN         NaN  \n",
       "9   No indexing work assigned          NaN         NaN  \n",
       "10  No indexing work assigned          NaN         NaN  \n",
       "11  No indexing work assigned          NaN         NaN  \n",
       "12  No indexing work assigned          NaN         NaN  \n",
       "13  No indexing work assigned          NaN         NaN  \n",
       "14  No indexing work assigned          NaN         NaN  \n",
       "15  No indexing work assigned          NaN         NaN  \n",
       "16  No indexing work assigned          NaN         NaN  \n",
       "17  No indexing work assigned          NaN         NaN  \n",
       "18  No indexing work assigned          NaN         NaN  \n",
       "19  No indexing work assigned          NaN         NaN  \n",
       "20                         NaN         NaN         NaN  \n",
       "21                         NaN         NaN         NaN  \n",
       "22                         NaN         NaN         NaN  \n",
       "23                         NaN         NaN         NaN  \n",
       "24                         NaN         NaN         NaN  \n",
       "25                         NaN         NaN         NaN  "
      ]
     },
     "execution_count": 10,
     "metadata": {},
     "output_type": "execute_result"
    }
   ],
   "source": [
    "pd.read_excel('MyWorkEntry(Navil).xlsx')"
   ]
  },
  {
   "cell_type": "code",
   "execution_count": 15,
   "id": "6627a24e",
   "metadata": {},
   "outputs": [
    {
     "data": {
      "text/html": [
       "<div>\n",
       "<style scoped>\n",
       "    .dataframe tbody tr th:only-of-type {\n",
       "        vertical-align: middle;\n",
       "    }\n",
       "\n",
       "    .dataframe tbody tr th {\n",
       "        vertical-align: top;\n",
       "    }\n",
       "\n",
       "    .dataframe thead th {\n",
       "        text-align: right;\n",
       "    }\n",
       "</style>\n",
       "<table border=\"1\" class=\"dataframe\">\n",
       "  <thead>\n",
       "    <tr style=\"text-align: right;\">\n",
       "      <th></th>\n",
       "      <th>Name of Month</th>\n",
       "      <th>Date</th>\n",
       "      <th>Work Done</th>\n",
       "    </tr>\n",
       "  </thead>\n",
       "  <tbody>\n",
       "    <tr>\n",
       "      <th>0</th>\n",
       "      <td>February</td>\n",
       "      <td>1.02.2021</td>\n",
       "      <td>DVD TO HDD COPY DONE(language-Deshi;variable R...</td>\n",
       "    </tr>\n",
       "    <tr>\n",
       "      <th>1</th>\n",
       "      <td>NaN</td>\n",
       "      <td>2.02.2021</td>\n",
       "      <td>DVD TO HDD COPY DONE(language-Deshi;variable R...</td>\n",
       "    </tr>\n",
       "    <tr>\n",
       "      <th>2</th>\n",
       "      <td>NaN</td>\n",
       "      <td>3.02.2021</td>\n",
       "      <td>DVD TO HDD COPY DONE(Language-Pahani,Variable-...</td>\n",
       "    </tr>\n",
       "  </tbody>\n",
       "</table>\n",
       "</div>"
      ],
      "text/plain": [
       "  Name of Month       Date                                         Work Done \n",
       "0      February  1.02.2021  DVD TO HDD COPY DONE(language-Deshi;variable R...\n",
       "1           NaN  2.02.2021  DVD TO HDD COPY DONE(language-Deshi;variable R...\n",
       "2           NaN  3.02.2021  DVD TO HDD COPY DONE(Language-Pahani,Variable-..."
      ]
     },
     "execution_count": 15,
     "metadata": {},
     "output_type": "execute_result"
    }
   ],
   "source": [
    "pd.read_excel('MyWorkRecord.xlsx',sheet_name='Sheet2')"
   ]
  },
  {
   "cell_type": "code",
   "execution_count": 16,
   "id": "d849b5c9",
   "metadata": {},
   "outputs": [],
   "source": [
    "df_excel=pd.read_excel('MyWorkRecord.xlsx',sheet_name='Sheet2')"
   ]
  },
  {
   "cell_type": "code",
   "execution_count": 18,
   "id": "ed270304",
   "metadata": {},
   "outputs": [],
   "source": [
    "df_excel.to_pickle('df_excel')"
   ]
  },
  {
   "cell_type": "code",
   "execution_count": 21,
   "id": "3e4a69ef",
   "metadata": {},
   "outputs": [],
   "source": [
    "df=pd.read_pickle(\"df_excel\")"
   ]
  },
  {
   "cell_type": "code",
   "execution_count": 22,
   "id": "623033ba",
   "metadata": {},
   "outputs": [
    {
     "data": {
      "text/html": [
       "<div>\n",
       "<style scoped>\n",
       "    .dataframe tbody tr th:only-of-type {\n",
       "        vertical-align: middle;\n",
       "    }\n",
       "\n",
       "    .dataframe tbody tr th {\n",
       "        vertical-align: top;\n",
       "    }\n",
       "\n",
       "    .dataframe thead th {\n",
       "        text-align: right;\n",
       "    }\n",
       "</style>\n",
       "<table border=\"1\" class=\"dataframe\">\n",
       "  <thead>\n",
       "    <tr style=\"text-align: right;\">\n",
       "      <th></th>\n",
       "      <th>Name of Month</th>\n",
       "      <th>Date</th>\n",
       "      <th>Work Done</th>\n",
       "    </tr>\n",
       "  </thead>\n",
       "  <tbody>\n",
       "    <tr>\n",
       "      <th>0</th>\n",
       "      <td>February</td>\n",
       "      <td>1.02.2021</td>\n",
       "      <td>DVD TO HDD COPY DONE(language-Deshi;variable R...</td>\n",
       "    </tr>\n",
       "    <tr>\n",
       "      <th>1</th>\n",
       "      <td>NaN</td>\n",
       "      <td>2.02.2021</td>\n",
       "      <td>DVD TO HDD COPY DONE(language-Deshi;variable R...</td>\n",
       "    </tr>\n",
       "    <tr>\n",
       "      <th>2</th>\n",
       "      <td>NaN</td>\n",
       "      <td>3.02.2021</td>\n",
       "      <td>DVD TO HDD COPY DONE(Language-Pahani,Variable-...</td>\n",
       "    </tr>\n",
       "  </tbody>\n",
       "</table>\n",
       "</div>"
      ],
      "text/plain": [
       "  Name of Month       Date                                         Work Done \n",
       "0      February  1.02.2021  DVD TO HDD COPY DONE(language-Deshi;variable R...\n",
       "1           NaN  2.02.2021  DVD TO HDD COPY DONE(language-Deshi;variable R...\n",
       "2           NaN  3.02.2021  DVD TO HDD COPY DONE(Language-Pahani,Variable-..."
      ]
     },
     "execution_count": 22,
     "metadata": {},
     "output_type": "execute_result"
    }
   ],
   "source": [
    "df.head()"
   ]
  },
  {
   "cell_type": "code",
   "execution_count": 6,
   "id": "fd8f7d64",
   "metadata": {},
   "outputs": [
    {
     "name": "stdout",
     "output_type": "stream",
     "text": [
      "Requirement already satisfied: pandas in c:\\users\\user\\anaconda3\\lib\\site-packages (1.2.4)\n",
      "Requirement already satisfied: python-dateutil>=2.7.3 in c:\\users\\user\\anaconda3\\lib\\site-packages (from pandas) (2.8.1)\n",
      "Requirement already satisfied: pytz>=2017.3 in c:\\users\\user\\anaconda3\\lib\\site-packages (from pandas) (2021.1)\n",
      "Requirement already satisfied: numpy>=1.16.5 in c:\\users\\user\\anaconda3\\lib\\site-packages (from pandas) (1.20.1)\n",
      "Requirement already satisfied: six>=1.5 in c:\\users\\user\\anaconda3\\lib\\site-packages (from python-dateutil>=2.7.3->pandas) (1.15.0)\n",
      "Note: you may need to restart the kernel to use updated packages.\n"
     ]
    }
   ],
   "source": [
    "pip install pandas"
   ]
  },
  {
   "cell_type": "code",
   "execution_count": 38,
   "id": "3c17a0ea",
   "metadata": {},
   "outputs": [
    {
     "name": "stdout",
     "output_type": "stream",
     "text": [
      "Collecting google_spreadsheet\n",
      "  Downloading google_spreadsheet-0.0.6.tar.gz (6.1 kB)\n",
      "Collecting oauth2client>=2.2.0\n",
      "  Downloading oauth2client-4.1.3-py2.py3-none-any.whl (98 kB)\n",
      "Collecting google-api-python-client>=1.5.1\n",
      "  Downloading google_api_python_client-2.36.0-py2.py3-none-any.whl (8.0 MB)\n",
      "Collecting google-api-core<3.0.0dev,>=1.21.0\n",
      "  Downloading google_api_core-2.5.0-py2.py3-none-any.whl (111 kB)\n",
      "Collecting google-auth<3.0.0dev,>=1.16.0\n",
      "  Downloading google_auth-2.6.0-py2.py3-none-any.whl (156 kB)\n",
      "Collecting uritemplate<5,>=3.0.1\n",
      "  Downloading uritemplate-4.1.1-py2.py3-none-any.whl (10 kB)\n",
      "Collecting httplib2<1dev,>=0.15.0\n",
      "  Downloading httplib2-0.20.4-py3-none-any.whl (96 kB)\n",
      "Collecting google-auth-httplib2>=0.1.0\n",
      "  Downloading google_auth_httplib2-0.1.0-py2.py3-none-any.whl (9.3 kB)\n",
      "Collecting googleapis-common-protos<2.0dev,>=1.52.0\n",
      "  Downloading googleapis_common_protos-1.54.0-py2.py3-none-any.whl (207 kB)\n",
      "Requirement already satisfied: requests<3.0.0dev,>=2.18.0 in c:\\users\\user\\anaconda3\\lib\\site-packages (from google-api-core<3.0.0dev,>=1.21.0->google-api-python-client>=1.5.1->google_spreadsheet) (2.25.1)\n",
      "Collecting protobuf>=3.12.0\n",
      "  Downloading protobuf-3.19.4-cp38-cp38-win_amd64.whl (895 kB)\n",
      "Requirement already satisfied: six>=1.9.0 in c:\\users\\user\\anaconda3\\lib\\site-packages (from google-auth<3.0.0dev,>=1.16.0->google-api-python-client>=1.5.1->google_spreadsheet) (1.15.0)\n",
      "Collecting pyasn1-modules>=0.2.1\n",
      "  Downloading pyasn1_modules-0.2.8-py2.py3-none-any.whl (155 kB)\n",
      "Collecting cachetools<6.0,>=2.0.0\n",
      "  Downloading cachetools-5.0.0-py3-none-any.whl (9.1 kB)\n",
      "Collecting rsa<5,>=3.1.4\n",
      "  Downloading rsa-4.8-py3-none-any.whl (39 kB)\n",
      "Requirement already satisfied: pyparsing!=3.0.0,!=3.0.1,!=3.0.2,!=3.0.3,<4,>=2.4.2 in c:\\users\\user\\anaconda3\\lib\\site-packages (from httplib2<1dev,>=0.15.0->google-api-python-client>=1.5.1->google_spreadsheet) (2.4.7)\n",
      "Collecting pyasn1>=0.1.7\n",
      "  Downloading pyasn1-0.4.8-py2.py3-none-any.whl (77 kB)\n",
      "Requirement already satisfied: chardet<5,>=3.0.2 in c:\\users\\user\\anaconda3\\lib\\site-packages (from requests<3.0.0dev,>=2.18.0->google-api-core<3.0.0dev,>=1.21.0->google-api-python-client>=1.5.1->google_spreadsheet) (4.0.0)\n",
      "Requirement already satisfied: urllib3<1.27,>=1.21.1 in c:\\users\\user\\anaconda3\\lib\\site-packages (from requests<3.0.0dev,>=2.18.0->google-api-core<3.0.0dev,>=1.21.0->google-api-python-client>=1.5.1->google_spreadsheet) (1.26.4)\n",
      "Requirement already satisfied: certifi>=2017.4.17 in c:\\users\\user\\anaconda3\\lib\\site-packages (from requests<3.0.0dev,>=2.18.0->google-api-core<3.0.0dev,>=1.21.0->google-api-python-client>=1.5.1->google_spreadsheet) (2020.12.5)\n",
      "Requirement already satisfied: idna<3,>=2.5 in c:\\users\\user\\anaconda3\\lib\\site-packages (from requests<3.0.0dev,>=2.18.0->google-api-core<3.0.0dev,>=1.21.0->google-api-python-client>=1.5.1->google_spreadsheet) (2.10)\n",
      "Building wheels for collected packages: google-spreadsheet\n",
      "  Building wheel for google-spreadsheet (setup.py): started\n",
      "  Building wheel for google-spreadsheet (setup.py): finished with status 'done'\n",
      "  Created wheel for google-spreadsheet: filename=google_spreadsheet-0.0.6-py3-none-any.whl size=4790 sha256=9b4d6a8b260eb67bfac75ad7f4785bbb2a43e72843402c69f51e49ea26a61f8f\n",
      "  Stored in directory: c:\\users\\user\\appdata\\local\\pip\\cache\\wheels\\ef\\c8\\da\\37da06d7f7b8861c623ae91e476b1b678b60070fea3969bf1d\n",
      "Successfully built google-spreadsheet\n",
      "Installing collected packages: pyasn1, rsa, pyasn1-modules, protobuf, cachetools, httplib2, googleapis-common-protos, google-auth, uritemplate, google-auth-httplib2, google-api-core, oauth2client, google-api-python-client, google-spreadsheet\n",
      "Successfully installed cachetools-5.0.0 google-api-core-2.5.0 google-api-python-client-2.36.0 google-auth-2.6.0 google-auth-httplib2-0.1.0 google-spreadsheet-0.0.6 googleapis-common-protos-1.54.0 httplib2-0.20.4 oauth2client-4.1.3 protobuf-3.19.4 pyasn1-0.4.8 pyasn1-modules-0.2.8 rsa-4.8 uritemplate-4.1.1\n",
      "Note: you may need to restart the kernel to use updated packages.\n"
     ]
    }
   ],
   "source": [
    "pip install google_spreadsheet"
   ]
  },
  {
   "cell_type": "code",
   "execution_count": 39,
   "id": "2712a1bc",
   "metadata": {},
   "outputs": [
    {
     "name": "stdout",
     "output_type": "stream",
     "text": [
      "Collecting google-auth-oauthlib\n",
      "  Downloading google_auth_oauthlib-0.4.6-py2.py3-none-any.whl (18 kB)\n",
      "Requirement already satisfied: google-auth>=1.0.0 in c:\\users\\user\\anaconda3\\lib\\site-packages (from google-auth-oauthlib) (2.6.0)\n",
      "Collecting requests-oauthlib>=0.7.0\n",
      "  Downloading requests_oauthlib-1.3.1-py2.py3-none-any.whl (23 kB)\n",
      "Requirement already satisfied: pyasn1-modules>=0.2.1 in c:\\users\\user\\anaconda3\\lib\\site-packages (from google-auth>=1.0.0->google-auth-oauthlib) (0.2.8)\n",
      "Requirement already satisfied: six>=1.9.0 in c:\\users\\user\\anaconda3\\lib\\site-packages (from google-auth>=1.0.0->google-auth-oauthlib) (1.15.0)\n",
      "Requirement already satisfied: cachetools<6.0,>=2.0.0 in c:\\users\\user\\anaconda3\\lib\\site-packages (from google-auth>=1.0.0->google-auth-oauthlib) (5.0.0)\n",
      "Requirement already satisfied: rsa<5,>=3.1.4 in c:\\users\\user\\anaconda3\\lib\\site-packages (from google-auth>=1.0.0->google-auth-oauthlib) (4.8)\n",
      "Requirement already satisfied: pyasn1<0.5.0,>=0.4.6 in c:\\users\\user\\anaconda3\\lib\\site-packages (from pyasn1-modules>=0.2.1->google-auth>=1.0.0->google-auth-oauthlib) (0.4.8)\n",
      "Requirement already satisfied: requests>=2.0.0 in c:\\users\\user\\anaconda3\\lib\\site-packages (from requests-oauthlib>=0.7.0->google-auth-oauthlib) (2.25.1)\n",
      "Collecting oauthlib>=3.0.0\n",
      "  Downloading oauthlib-3.2.0-py3-none-any.whl (151 kB)\n",
      "Requirement already satisfied: urllib3<1.27,>=1.21.1 in c:\\users\\user\\anaconda3\\lib\\site-packages (from requests>=2.0.0->requests-oauthlib>=0.7.0->google-auth-oauthlib) (1.26.4)\n",
      "Requirement already satisfied: idna<3,>=2.5 in c:\\users\\user\\anaconda3\\lib\\site-packages (from requests>=2.0.0->requests-oauthlib>=0.7.0->google-auth-oauthlib) (2.10)\n",
      "Requirement already satisfied: certifi>=2017.4.17 in c:\\users\\user\\anaconda3\\lib\\site-packages (from requests>=2.0.0->requests-oauthlib>=0.7.0->google-auth-oauthlib) (2020.12.5)\n",
      "Requirement already satisfied: chardet<5,>=3.0.2 in c:\\users\\user\\anaconda3\\lib\\site-packages (from requests>=2.0.0->requests-oauthlib>=0.7.0->google-auth-oauthlib) (4.0.0)\n",
      "Installing collected packages: oauthlib, requests-oauthlib, google-auth-oauthlib\n",
      "Successfully installed google-auth-oauthlib-0.4.6 oauthlib-3.2.0 requests-oauthlib-1.3.1\n",
      "Note: you may need to restart the kernel to use updated packages.\n"
     ]
    }
   ],
   "source": [
    "pip install google-auth-oauthlib\n"
   ]
  },
  {
   "cell_type": "code",
   "execution_count": 27,
   "id": "3d27a48a",
   "metadata": {},
   "outputs": [
    {
     "name": "stdout",
     "output_type": "stream",
     "text": [
      "Collecting git+https://github.com/sat28/githubcommit.git\n",
      "  Cloning https://github.com/sat28/githubcommit.git to c:\\users\\user\\appdata\\local\\temp\\pip-req-build-ukflwt5r\n",
      "Note: you may need to restart the kernel to use updated packages.\n"
     ]
    },
    {
     "name": "stderr",
     "output_type": "stream",
     "text": [
      "  Running command git clone -q https://github.com/sat28/githubcommit.git 'C:\\Users\\user\\AppData\\Local\\Temp\\pip-req-build-ukflwt5r'\n",
      "  ERROR: Error [WinError 2] The system cannot find the file specified while executing command git clone -q https://github.com/sat28/githubcommit.git 'C:\\Users\\user\\AppData\\Local\\Temp\\pip-req-build-ukflwt5r'\n",
      "ERROR: Cannot find command 'git' - do you have 'git' installed and in your PATH?\n"
     ]
    }
   ],
   "source": [
    "pip install git+https://github.com/sat28/githubcommit.git"
   ]
  },
  {
   "cell_type": "code",
   "execution_count": null,
   "id": "fcc85452",
   "metadata": {},
   "outputs": [],
   "source": []
  }
 ],
 "metadata": {
  "kernelspec": {
   "display_name": "Python 3",
   "language": "python",
   "name": "python3"
  },
  "language_info": {
   "codemirror_mode": {
    "name": "ipython",
    "version": 3
   },
   "file_extension": ".py",
   "mimetype": "text/x-python",
   "name": "python",
   "nbconvert_exporter": "python",
   "pygments_lexer": "ipython3",
   "version": "3.8.8"
  }
 },
 "nbformat": 4,
 "nbformat_minor": 5
}
